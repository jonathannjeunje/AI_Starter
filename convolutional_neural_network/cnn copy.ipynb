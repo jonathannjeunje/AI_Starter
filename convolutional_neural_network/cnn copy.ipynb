{
 "metadata": {
  "language_info": {
   "codemirror_mode": {
    "name": "ipython",
    "version": 3
   },
   "file_extension": ".py",
   "mimetype": "text/x-python",
   "name": "python",
   "nbconvert_exporter": "python",
   "pygments_lexer": "ipython3",
   "version": "3.8.5"
  },
  "orig_nbformat": 2,
  "kernelspec": {
   "name": "python385jvsc74a57bd08e4d8516bd3b0e9eecd22f6b316a5e13855df5ee1f125d42d046664193e0885d",
   "display_name": "Python 3.8.5 64-bit"
  }
 },
 "nbformat": 4,
 "nbformat_minor": 2,
 "cells": [
  {
   "source": [
    "# Convolutional Neural Network\n",
    "## Feature Extraction\n",
    "\n",
    "This is about the operation of Convolutional layer in CNN. We have two filters (filter-1 and filter-2) as below."
   ],
   "cell_type": "markdown",
   "metadata": {}
  },
  {
   "cell_type": "code",
   "execution_count": 115,
   "metadata": {},
   "outputs": [],
   "source": [
    "import numpy as np\n",
    "import pandas as pd\n",
    "\n",
    "class CNN:\n",
    "    def __init__(self, input = None, filters = None, biases = None, stride = 1):\n",
    "        self.input = np.array(input)\n",
    "        self.filters = np.array(filters)\n",
    "        self.biases = np.array(biases)\n",
    "        self.stride = stride\n",
    "        self.output = np.array(None)\n",
    "\n",
    "    def set_input(self, input: list):\n",
    "        self.input = np.array(input)\n",
    "\n",
    "    def add_filter(self, filter, bias):\n",
    "        self.filters\n",
    "\n",
    "    def __str__(self) -> str:\n",
    "        return f\"input:\\n{self.input}\\n\\nfilters:\\n{self.filters}\\n\\nbiases: {self.biases}\\n\\nstride: {self.stride}\\n\"\n",
    "\n",
    "    @staticmethod\n",
    "    def output_size(input_size: int, filter_size: int, stride: int) -> int:\n",
    "        return int(1+(input_size-filter_size)/stride)\n",
    "\n",
    "    def output_shape(self):\n",
    "        return (self.filters.shape[0], self.output_size(self.input.shape[1], self.filters.shape[2], self.stride), self.output_size(self.input.shape[2], self.filters.shape[3], self.stride))\n",
    "\n",
    "    def computation(self, input_section, filter, bias):\n",
    "        mult_list = []\n",
    "        nl, nr, nc = input_section.shape\n",
    "        for l in range(nl):\n",
    "            for r in range(nr):\n",
    "                for c in range(nc):\n",
    "                    mult_list.append(f'{input_section[l][r][c]}*{filter[l][r][c]}')\n",
    "            mult_list.append(f'{bias}')\n",
    "        return ' + '.join(mult_list)\n",
    "\n",
    "    def convolution(self, print_computation = False):\n",
    "        self.output = np.zeros(self.output_shape())\n",
    "        x, y, z = 2, 1, 0\n",
    "        for o_l in range(self.output.shape[z]):\n",
    "            filter = self.filters[o_l]\n",
    "            bias = biases[o_l]\n",
    "            r = 0\n",
    "            for o_r in range(self.output.shape[y]):\n",
    "                c = 0\n",
    "                if print_computation: print(f'Calculations of Output Layer {o_l} row {o_r}:')\n",
    "                for o_c in range(self.output.shape[x]):\n",
    "                    input_section = self.input[:, r:r+filter.shape[y], c:c+filter.shape[x]]\n",
    "                    c += self.stride\n",
    "                    self.output[o_l][o_r][o_c] = np.sum(input_section * filter) + bias\n",
    "                    if print_computation: print(f\"\\tOutput[{o_l},{o_r},{o_c}] = {self.computation(input_section, filter, bias)} = {self.output[o_l][o_r][o_c]}\")\n",
    "                if print_computation: print(f'\\n\\tUpdated Output Layer {o_l}: \\n{self.output[o_l]}\\n\\n')\n",
    "                r += self.stride\n",
    "        print(f'Final Output Layers:\\n{self.output}\\n\\n')\n",
    "        # df = pd.DataFrame(layer)\n",
    "        # html = df.to_html()\n",
    "        # print(html)"
   ]
  },
  {
   "source": [
    "We have four gray scale images (a, b, c, and d), typically zero is taken to be black, and 255 is\n",
    "taken to be white. We want to apply two filters (Filter-1 and Filter-2) for each image. Show the\n",
    "output volumes of each input image along with the computation process."
   ],
   "cell_type": "markdown",
   "metadata": {}
  },
  {
   "cell_type": "code",
   "execution_count": 116,
   "metadata": {},
   "outputs": [
    {
     "output_type": "stream",
     "name": "stdout",
     "text": [
      "(4, 1, 7, 7)\n"
     ]
    }
   ],
   "source": [
    "inputs = np.array([\n",
    "    [[\n",
    "        [80,  90,  100,  0,  0,  0,  0],\n",
    "        [80,  90,  100,  0,  0,  0,  0],\n",
    "        [80,  90,  100,  0,  0,  0,  0],\n",
    "        [80,  90,  100,  0,  0,  0,  0],\n",
    "        [80,  90,  100,  0,  0,  0,  0],\n",
    "        [80,  90,  100,  0,  0,  0,  0],\n",
    "        [80,  90,  100,  0,  0,  0,  0]\n",
    "    ]],\n",
    "\n",
    "    [[\n",
    "        [0,  0,  0,  0,  255,  255,  0],\n",
    "        [0,  0,  0,  0,  190,  200,  0],\n",
    "        [0,  0,  0,  0,  255,  255,  0],\n",
    "        [0,  0,  0,  0,  100,  100,  0],\n",
    "        [0,  0,  0,  0,  255,  255,  0],\n",
    "        [0,  0,  0,  0,  255,  255,  0],\n",
    "        [0,  0,  0,  0,  255,  255,  0]\n",
    "    ]],\n",
    "\n",
    "    [[\n",
    "        [0,  0,  0,  0,  0,  0,  0],\n",
    "        [0,  100,  110,  100,  90,  120,  0],\n",
    "        [0,  0,  0,  0,  110,  0,  0],\n",
    "        [0,  0,  0,  100,  0,  0,  0],\n",
    "        [0,  0,  90,  0,  0,  0,  0],\n",
    "        [0,  110,  90,  100,  100,  110,  0],\n",
    "        [0,  0,  0,  0,  0,  0,  0]\n",
    "    ]],\n",
    "\n",
    "    [[\n",
    "        [0,  0,  0,  0,  0,  0,  0],\n",
    "        [0,  0,  0,  0,  0,  0,  0],\n",
    "        [100,  110,  110,  90,  110,  120,  0],\n",
    "        [0,  0,  0,  0,  0,  120,  0],\n",
    "        [0,  110,  110,  90,  100,  110,  0],\n",
    "        [0,  110,  0,  0,  0,  0,  0],\n",
    "        [0,  110,  90,  100,  100,  100,  0]\n",
    "    ]]\n",
    "])\n",
    "print(inputs.shape)"
   ]
  },
  {
   "cell_type": "code",
   "execution_count": 117,
   "metadata": {
    "tags": []
   },
   "outputs": [
    {
     "output_type": "stream",
     "name": "stdout",
     "text": [
      "input:\n[[[ 80  90 100   0   0   0   0]\n  [ 80  90 100   0   0   0   0]\n  [ 80  90 100   0   0   0   0]\n  [ 80  90 100   0   0   0   0]\n  [ 80  90 100   0   0   0   0]\n  [ 80  90 100   0   0   0   0]\n  [ 80  90 100   0   0   0   0]]]\n\nfilters:\n[[[[ 1  1  1]\n   [ 0  0  0]\n   [-1 -1 -1]]]\n\n\n [[[ 1  0 -1]\n   [ 1  0 -1]\n   [ 1  0 -1]]]]\n\nbiases: [0 0]\n\nstride: 1\n\nFinal Output Layers:\n[[[  0.   0.   0.   0.   0.]\n  [  0.   0.   0.   0.   0.]\n  [  0.   0.   0.   0.   0.]\n  [  0.   0.   0.   0.   0.]\n  [  0.   0.   0.   0.   0.]]\n\n [[-60. 270. 300.   0.   0.]\n  [-60. 270. 300.   0.   0.]\n  [-60. 270. 300.   0.   0.]\n  [-60. 270. 300.   0.   0.]\n  [-60. 270. 300.   0.   0.]]]\n\n\ninput:\n[[[  0   0   0   0 255 255   0]\n  [  0   0   0   0 190 200   0]\n  [  0   0   0   0 255 255   0]\n  [  0   0   0   0 100 100   0]\n  [  0   0   0   0 255 255   0]\n  [  0   0   0   0 255 255   0]\n  [  0   0   0   0 255 255   0]]]\n\nfilters:\n[[[[ 1  1  1]\n   [ 0  0  0]\n   [-1 -1 -1]]]\n\n\n [[[ 1  0 -1]\n   [ 1  0 -1]\n   [ 1  0 -1]]]]\n\nbiases: [0 0]\n\nstride: 1\n\nFinal Output Layers:\n[[[   0.    0.    0.    0.    0.]\n  [   0.    0.   90.  190.  190.]\n  [   0.    0.    0.    0.    0.]\n  [   0.    0. -155. -310. -310.]\n  [   0.    0.    0.    0.    0.]]\n\n [[   0.    0. -700. -710.  700.]\n  [   0.    0. -545. -555.  545.]\n  [   0.    0. -610. -610.  610.]\n  [   0.    0. -610. -610.  610.]\n  [   0.    0. -765. -765.  765.]]]\n\n\ninput:\n[[[  0   0   0   0   0   0   0]\n  [  0 100 110 100  90 120   0]\n  [  0   0   0   0 110   0   0]\n  [  0   0   0 100   0   0   0]\n  [  0   0  90   0   0   0   0]\n  [  0 110  90 100 100 110   0]\n  [  0   0   0   0   0   0   0]]]\n\nfilters:\n[[[[ 1  1  1]\n   [ 0  0  0]\n   [-1 -1 -1]]]\n\n\n [[[ 1  0 -1]\n   [ 1  0 -1]\n   [ 1  0 -1]]]]\n\nbiases: [0 0]\n\nstride: 1\n\nFinal Output Layers:\n[[[   0.    0. -110. -110. -110.]\n  [ 210.  210.  200.  210.  210.]\n  [ -90.  -90.   20.  110.  110.]\n  [-200. -200. -190. -210. -210.]\n  [  90.   90.   90.    0.    0.]]\n\n [[-110.    0.  -90.  -20.  200.]\n  [-110. -100.  -90.   80.  200.]\n  [ -90. -100.  -20.  100.  110.]\n  [-180.  -90.   80.   90.  100.]\n  [-180.   10.   80.  -10.  100.]]]\n\n\ninput:\n[[[  0   0   0   0   0   0   0]\n  [  0   0   0   0   0   0   0]\n  [100 110 110  90 110 120   0]\n  [  0   0   0   0   0 120   0]\n  [  0 110 110  90 100 110   0]\n  [  0 110   0   0   0   0   0]\n  [  0 110  90 100 100 100   0]]]\n\nfilters:\n[[[[ 1  1  1]\n   [ 0  0  0]\n   [-1 -1 -1]]]\n\n\n [[[ 1  0 -1]\n   [ 1  0 -1]\n   [ 1  0 -1]]]]\n\nbiases: [0 0]\n\nstride: 1\n\nFinal Output Layers:\n[[[-320. -310. -310. -320. -230.]\n  [   0.    0.    0. -120. -120.]\n  [ 100.    0.   10.   20.   20.]\n  [-110. -110.    0.  120.  120.]\n  [  20.   10.   10.    0.   10.]]\n\n [[ -10.   20.    0.  -30.  110.]\n  [ -10.   20.    0. -150.  110.]\n  [-120.   40.   10. -170.  210.]\n  [-110.  130.   10. -140.  100.]\n  [-200.  140.    0.  -20.  200.]]]\n\n\n"
     ]
    }
   ],
   "source": [
    "for input in inputs:\n",
    "    cnn = CNN(\n",
    "        input = input,\n",
    "        filters = [\n",
    "            [\n",
    "                [\n",
    "                    [1, 1, 1], \n",
    "                    [0, 0, 0], \n",
    "                    [-1, -1, -1]\n",
    "                ]\n",
    "            ],\n",
    "            [\n",
    "                [\n",
    "                    [1, 0, -1], \n",
    "                    [1, 0, -1], \n",
    "                    [1, 0, -1]\n",
    "                ]\n",
    "            ]\n",
    "        ],\n",
    "        biases = [0,  0],\n",
    "        stride = 1\n",
    "    )\n",
    "    print(cnn)\n",
    "    cnn.convolution(print_computation = False)"
   ]
  },
  {
   "cell_type": "code",
   "execution_count": 118,
   "metadata": {},
   "outputs": [
    {
     "output_type": "stream",
     "name": "stdout",
     "text": [
      "(2, 5, 5)\nCalculations of Output Layer 0 row 0:\n\tOutput[0,0,0] = 80*1 + 90*1 + 100*1 + 80*0 + 90*0 + 100*0 + 80*-1 + 90*-1 + 100*-1 + 0 = 0.0\n\tOutput[0,0,1] = 90*1 + 100*1 + 0*1 + 90*0 + 100*0 + 0*0 + 90*-1 + 100*-1 + 0*-1 + 0 = 0.0\n\tOutput[0,0,2] = 100*1 + 0*1 + 0*1 + 100*0 + 0*0 + 0*0 + 100*-1 + 0*-1 + 0*-1 + 0 = 0.0\n\tOutput[0,0,3] = 0*1 + 0*1 + 0*1 + 0*0 + 0*0 + 0*0 + 0*-1 + 0*-1 + 0*-1 + 0 = 0.0\n\tOutput[0,0,4] = 0*1 + 0*1 + 0*1 + 0*0 + 0*0 + 0*0 + 0*-1 + 0*-1 + 0*-1 + 0 = 0.0\n\n\tUpdated Output Layer 0: \n[[0. 0. 0. 0. 0.]\n [0. 0. 0. 0. 0.]\n [0. 0. 0. 0. 0.]\n [0. 0. 0. 0. 0.]\n [0. 0. 0. 0. 0.]]\n\n\nCalculations of Output Layer 0 row 1:\n\tOutput[0,1,0] = 80*1 + 90*1 + 100*1 + 80*0 + 90*0 + 100*0 + 80*-1 + 90*-1 + 100*-1 + 0 = 0.0\n\tOutput[0,1,1] = 90*1 + 100*1 + 0*1 + 90*0 + 100*0 + 0*0 + 90*-1 + 100*-1 + 0*-1 + 0 = 0.0\n\tOutput[0,1,2] = 100*1 + 0*1 + 0*1 + 100*0 + 0*0 + 0*0 + 100*-1 + 0*-1 + 0*-1 + 0 = 0.0\n\tOutput[0,1,3] = 0*1 + 0*1 + 0*1 + 0*0 + 0*0 + 0*0 + 0*-1 + 0*-1 + 0*-1 + 0 = 0.0\n\tOutput[0,1,4] = 0*1 + 0*1 + 0*1 + 0*0 + 0*0 + 0*0 + 0*-1 + 0*-1 + 0*-1 + 0 = 0.0\n\n\tUpdated Output Layer 0: \n[[0. 0. 0. 0. 0.]\n [0. 0. 0. 0. 0.]\n [0. 0. 0. 0. 0.]\n [0. 0. 0. 0. 0.]\n [0. 0. 0. 0. 0.]]\n\n\nCalculations of Output Layer 0 row 2:\n\tOutput[0,2,0] = 80*1 + 90*1 + 100*1 + 80*0 + 90*0 + 100*0 + 80*-1 + 90*-1 + 100*-1 + 0 = 0.0\n\tOutput[0,2,1] = 90*1 + 100*1 + 0*1 + 90*0 + 100*0 + 0*0 + 90*-1 + 100*-1 + 0*-1 + 0 = 0.0\n\tOutput[0,2,2] = 100*1 + 0*1 + 0*1 + 100*0 + 0*0 + 0*0 + 100*-1 + 0*-1 + 0*-1 + 0 = 0.0\n\tOutput[0,2,3] = 0*1 + 0*1 + 0*1 + 0*0 + 0*0 + 0*0 + 0*-1 + 0*-1 + 0*-1 + 0 = 0.0\n\tOutput[0,2,4] = 0*1 + 0*1 + 0*1 + 0*0 + 0*0 + 0*0 + 0*-1 + 0*-1 + 0*-1 + 0 = 0.0\n\n\tUpdated Output Layer 0: \n[[0. 0. 0. 0. 0.]\n [0. 0. 0. 0. 0.]\n [0. 0. 0. 0. 0.]\n [0. 0. 0. 0. 0.]\n [0. 0. 0. 0. 0.]]\n\n\nCalculations of Output Layer 0 row 3:\n\tOutput[0,3,0] = 80*1 + 90*1 + 100*1 + 80*0 + 90*0 + 100*0 + 80*-1 + 90*-1 + 100*-1 + 0 = 0.0\n\tOutput[0,3,1] = 90*1 + 100*1 + 0*1 + 90*0 + 100*0 + 0*0 + 90*-1 + 100*-1 + 0*-1 + 0 = 0.0\n\tOutput[0,3,2] = 100*1 + 0*1 + 0*1 + 100*0 + 0*0 + 0*0 + 100*-1 + 0*-1 + 0*-1 + 0 = 0.0\n\tOutput[0,3,3] = 0*1 + 0*1 + 0*1 + 0*0 + 0*0 + 0*0 + 0*-1 + 0*-1 + 0*-1 + 0 = 0.0\n\tOutput[0,3,4] = 0*1 + 0*1 + 0*1 + 0*0 + 0*0 + 0*0 + 0*-1 + 0*-1 + 0*-1 + 0 = 0.0\n\n\tUpdated Output Layer 0: \n[[0. 0. 0. 0. 0.]\n [0. 0. 0. 0. 0.]\n [0. 0. 0. 0. 0.]\n [0. 0. 0. 0. 0.]\n [0. 0. 0. 0. 0.]]\n\n\nCalculations of Output Layer 0 row 4:\n\tOutput[0,4,0] = 80*1 + 90*1 + 100*1 + 80*0 + 90*0 + 100*0 + 80*-1 + 90*-1 + 100*-1 + 0 = 0.0\n\tOutput[0,4,1] = 90*1 + 100*1 + 0*1 + 90*0 + 100*0 + 0*0 + 90*-1 + 100*-1 + 0*-1 + 0 = 0.0\n\tOutput[0,4,2] = 100*1 + 0*1 + 0*1 + 100*0 + 0*0 + 0*0 + 100*-1 + 0*-1 + 0*-1 + 0 = 0.0\n\tOutput[0,4,3] = 0*1 + 0*1 + 0*1 + 0*0 + 0*0 + 0*0 + 0*-1 + 0*-1 + 0*-1 + 0 = 0.0\n\tOutput[0,4,4] = 0*1 + 0*1 + 0*1 + 0*0 + 0*0 + 0*0 + 0*-1 + 0*-1 + 0*-1 + 0 = 0.0\n\n\tUpdated Output Layer 0: \n[[0. 0. 0. 0. 0.]\n [0. 0. 0. 0. 0.]\n [0. 0. 0. 0. 0.]\n [0. 0. 0. 0. 0.]\n [0. 0. 0. 0. 0.]]\n\n\nCalculations of Output Layer 1 row 0:\n\tOutput[1,0,0] = 80*1 + 90*0 + 100*-1 + 80*1 + 90*0 + 100*-1 + 80*1 + 90*0 + 100*-1 + 0 = -60.0\n\tOutput[1,0,1] = 90*1 + 100*0 + 0*-1 + 90*1 + 100*0 + 0*-1 + 90*1 + 100*0 + 0*-1 + 0 = 270.0\n\tOutput[1,0,2] = 100*1 + 0*0 + 0*-1 + 100*1 + 0*0 + 0*-1 + 100*1 + 0*0 + 0*-1 + 0 = 300.0\n\tOutput[1,0,3] = 0*1 + 0*0 + 0*-1 + 0*1 + 0*0 + 0*-1 + 0*1 + 0*0 + 0*-1 + 0 = 0.0\n\tOutput[1,0,4] = 0*1 + 0*0 + 0*-1 + 0*1 + 0*0 + 0*-1 + 0*1 + 0*0 + 0*-1 + 0 = 0.0\n\n\tUpdated Output Layer 1: \n[[-60. 270. 300.   0.   0.]\n [  0.   0.   0.   0.   0.]\n [  0.   0.   0.   0.   0.]\n [  0.   0.   0.   0.   0.]\n [  0.   0.   0.   0.   0.]]\n\n\nCalculations of Output Layer 1 row 1:\n\tOutput[1,1,0] = 80*1 + 90*0 + 100*-1 + 80*1 + 90*0 + 100*-1 + 80*1 + 90*0 + 100*-1 + 0 = -60.0\n\tOutput[1,1,1] = 90*1 + 100*0 + 0*-1 + 90*1 + 100*0 + 0*-1 + 90*1 + 100*0 + 0*-1 + 0 = 270.0\n\tOutput[1,1,2] = 100*1 + 0*0 + 0*-1 + 100*1 + 0*0 + 0*-1 + 100*1 + 0*0 + 0*-1 + 0 = 300.0\n\tOutput[1,1,3] = 0*1 + 0*0 + 0*-1 + 0*1 + 0*0 + 0*-1 + 0*1 + 0*0 + 0*-1 + 0 = 0.0\n\tOutput[1,1,4] = 0*1 + 0*0 + 0*-1 + 0*1 + 0*0 + 0*-1 + 0*1 + 0*0 + 0*-1 + 0 = 0.0\n\n\tUpdated Output Layer 1: \n[[-60. 270. 300.   0.   0.]\n [-60. 270. 300.   0.   0.]\n [  0.   0.   0.   0.   0.]\n [  0.   0.   0.   0.   0.]\n [  0.   0.   0.   0.   0.]]\n\n\nCalculations of Output Layer 1 row 2:\n\tOutput[1,2,0] = 80*1 + 90*0 + 100*-1 + 80*1 + 90*0 + 100*-1 + 80*1 + 90*0 + 100*-1 + 0 = -60.0\n\tOutput[1,2,1] = 90*1 + 100*0 + 0*-1 + 90*1 + 100*0 + 0*-1 + 90*1 + 100*0 + 0*-1 + 0 = 270.0\n\tOutput[1,2,2] = 100*1 + 0*0 + 0*-1 + 100*1 + 0*0 + 0*-1 + 100*1 + 0*0 + 0*-1 + 0 = 300.0\n\tOutput[1,2,3] = 0*1 + 0*0 + 0*-1 + 0*1 + 0*0 + 0*-1 + 0*1 + 0*0 + 0*-1 + 0 = 0.0\n\tOutput[1,2,4] = 0*1 + 0*0 + 0*-1 + 0*1 + 0*0 + 0*-1 + 0*1 + 0*0 + 0*-1 + 0 = 0.0\n\n\tUpdated Output Layer 1: \n[[-60. 270. 300.   0.   0.]\n [-60. 270. 300.   0.   0.]\n [-60. 270. 300.   0.   0.]\n [  0.   0.   0.   0.   0.]\n [  0.   0.   0.   0.   0.]]\n\n\nCalculations of Output Layer 1 row 3:\n\tOutput[1,3,0] = 80*1 + 90*0 + 100*-1 + 80*1 + 90*0 + 100*-1 + 80*1 + 90*0 + 100*-1 + 0 = -60.0\n\tOutput[1,3,1] = 90*1 + 100*0 + 0*-1 + 90*1 + 100*0 + 0*-1 + 90*1 + 100*0 + 0*-1 + 0 = 270.0\n\tOutput[1,3,2] = 100*1 + 0*0 + 0*-1 + 100*1 + 0*0 + 0*-1 + 100*1 + 0*0 + 0*-1 + 0 = 300.0\n\tOutput[1,3,3] = 0*1 + 0*0 + 0*-1 + 0*1 + 0*0 + 0*-1 + 0*1 + 0*0 + 0*-1 + 0 = 0.0\n\tOutput[1,3,4] = 0*1 + 0*0 + 0*-1 + 0*1 + 0*0 + 0*-1 + 0*1 + 0*0 + 0*-1 + 0 = 0.0\n\n\tUpdated Output Layer 1: \n[[-60. 270. 300.   0.   0.]\n [-60. 270. 300.   0.   0.]\n [-60. 270. 300.   0.   0.]\n [-60. 270. 300.   0.   0.]\n [  0.   0.   0.   0.   0.]]\n\n\nCalculations of Output Layer 1 row 4:\n\tOutput[1,4,0] = 80*1 + 90*0 + 100*-1 + 80*1 + 90*0 + 100*-1 + 80*1 + 90*0 + 100*-1 + 0 = -60.0\n\tOutput[1,4,1] = 90*1 + 100*0 + 0*-1 + 90*1 + 100*0 + 0*-1 + 90*1 + 100*0 + 0*-1 + 0 = 270.0\n\tOutput[1,4,2] = 100*1 + 0*0 + 0*-1 + 100*1 + 0*0 + 0*-1 + 100*1 + 0*0 + 0*-1 + 0 = 300.0\n\tOutput[1,4,3] = 0*1 + 0*0 + 0*-1 + 0*1 + 0*0 + 0*-1 + 0*1 + 0*0 + 0*-1 + 0 = 0.0\n\tOutput[1,4,4] = 0*1 + 0*0 + 0*-1 + 0*1 + 0*0 + 0*-1 + 0*1 + 0*0 + 0*-1 + 0 = 0.0\n\n\tUpdated Output Layer 1: \n[[-60. 270. 300.   0.   0.]\n [-60. 270. 300.   0.   0.]\n [-60. 270. 300.   0.   0.]\n [-60. 270. 300.   0.   0.]\n [-60. 270. 300.   0.   0.]]\n\n\nFinal Output Layers:\n[[[  0.   0.   0.   0.   0.]\n  [  0.   0.   0.   0.   0.]\n  [  0.   0.   0.   0.   0.]\n  [  0.   0.   0.   0.   0.]\n  [  0.   0.   0.   0.   0.]]\n\n [[-60. 270. 300.   0.   0.]\n  [-60. 270. 300.   0.   0.]\n  [-60. 270. 300.   0.   0.]\n  [-60. 270. 300.   0.   0.]\n  [-60. 270. 300.   0.   0.]]]\n\n\n"
     ]
    }
   ],
   "source": [
    "cnn = CNN(\n",
    "    input = [\n",
    "        [\n",
    "            [80,  90,  100,  0,  0,  0,  0],\n",
    "            [80,  90,  100,  0,  0,  0,  0],\n",
    "            [80,  90,  100,  0,  0,  0,  0],\n",
    "            [80,  90,  100,  0,  0,  0,  0],\n",
    "            [80,  90,  100,  0,  0,  0,  0],\n",
    "            [80,  90,  100,  0,  0,  0,  0],\n",
    "            [80,  90,  100,  0,  0,  0,  0]\n",
    "        ]\n",
    "    ],\n",
    "    filters = [\n",
    "        [\n",
    "            [\n",
    "                [1, 1, 1], \n",
    "                [0, 0, 0], \n",
    "                [-1, -1, -1]\n",
    "            ]\n",
    "        ],\n",
    "        [\n",
    "            [\n",
    "                [1, 0, -1], \n",
    "                [1, 0, -1], \n",
    "                [1, 0, -1]\n",
    "            ]\n",
    "        ]\n",
    "    ],\n",
    "    biases = [0,  0],\n",
    "    stride = 1\n",
    ")\n",
    "print(cnn.output_shape())\n",
    "cnn.convolution(print_computation = True)"
   ]
  }
 ]
}