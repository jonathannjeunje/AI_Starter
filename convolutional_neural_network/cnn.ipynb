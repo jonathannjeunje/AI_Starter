{
 "metadata": {
  "language_info": {
   "codemirror_mode": {
    "name": "ipython",
    "version": 3
   },
   "file_extension": ".py",
   "mimetype": "text/x-python",
   "name": "python",
   "nbconvert_exporter": "python",
   "pygments_lexer": "ipython3",
   "version": "3.8.5"
  },
  "orig_nbformat": 2,
  "kernelspec": {
   "name": "python3",
   "display_name": "Python 3.8.5 64-bit",
   "metadata": {
    "interpreter": {
     "hash": "8e4d8516bd3b0e9eecd22f6b316a5e13855df5ee1f125d42d046664193e0885d"
    }
   }
  }
 },
 "nbformat": 4,
 "nbformat_minor": 2,
 "cells": [
  {
   "source": [
    "# Convolutional Neural Network\n",
    "## Feature Extraction\n",
    "\n",
    "This is about the operation of Convolutional layer in CNN. We have two filters (filter-1 and filter-2) as below."
   ],
   "cell_type": "markdown",
   "metadata": {}
  },
  {
   "cell_type": "code",
   "execution_count": 1,
   "metadata": {},
   "outputs": [],
   "source": [
    "import numpy as np\n",
    "import pandas as pd\n"
   ]
  },
  {
   "cell_type": "code",
   "execution_count": 7,
   "metadata": {},
   "outputs": [
    {
     "output_type": "stream",
     "name": "stdout",
     "text": [
      "(1, 3, 3, 3)\n"
     ]
    }
   ],
   "source": [
    "filters = np.array([\n",
    "    [\n",
    "        [[1, 0, 1], [1, 0, 1], [1, 0, 1]],\n",
    "        [[1, 0, 0], [1, 0, 0], [1, 0, 0]],\n",
    "        [[1, 1, 0], [1, 1, 0], [1, 1, 0]]\n",
    "    ]\n",
    "])\n",
    "biases = np.array([1])\n",
    "stride = 1\n",
    "print(filters.shape)"
   ]
  },
  {
   "source": [
    "We have four gray scale images (a, b, c, and d), typically zero is taken to be black, and 255 is\n",
    "taken to be white. We want to apply two filters (Filter-1 and Filter-2) for each image. Show the\n",
    "output volumes of each input image along with the computation process."
   ],
   "cell_type": "markdown",
   "metadata": {}
  },
  {
   "cell_type": "code",
   "execution_count": 8,
   "metadata": {},
   "outputs": [
    {
     "output_type": "stream",
     "name": "stdout",
     "text": [
      "(1, 3, 4, 4)\n"
     ]
    }
   ],
   "source": [
    "inputs = np.array([\n",
    "    [[\n",
    "        [1,0,1,0],\n",
    "        [1,0,1,0],\n",
    "        [1,0,1,0],\n",
    "        [1,0,1,0]\n",
    "    ],[\n",
    "        [0,1,1,1],\n",
    "        [0,0,0,0],\n",
    "        [0,0,0,0],\n",
    "        [0,0,0,0]\n",
    "    ],[\n",
    "        [1,0,1,0],\n",
    "        [1,1,1,1],\n",
    "        [0,0,0,0],\n",
    "        [0,0,0,0]\n",
    "    ]]\n",
    "])\n",
    "print(inputs.shape)"
   ]
  },
  {
   "cell_type": "code",
   "execution_count": 19,
   "metadata": {},
   "outputs": [],
   "source": [
    "def computation(input_section, filter, bias):\n",
    "    mult_list = []\n",
    "    nl, nr, nc = input_section.shape\n",
    "    for l in range(nl):\n",
    "        for r in range(nr):\n",
    "            for c in range(nc):\n",
    "                mult_list.append(f'{input_section[l][r][c]}*{filter[l][r][c]}')\n",
    "        mult_list.append(f'{bias}')\n",
    "    return ' + '.join(mult_list)"
   ]
  },
  {
   "cell_type": "code",
   "execution_count": 20,
   "metadata": {},
   "outputs": [],
   "source": [
    "def output_shape(input, filters, stride):\n",
    "    return (filters.shape[0], (input.shape[1]-filters.shape[2])//stride+1, (input.shape[2]-filters.shape[3])//stride+1)"
   ]
  },
  {
   "cell_type": "code",
   "execution_count": 21,
   "metadata": {
    "tags": []
   },
   "outputs": [
    {
     "output_type": "stream",
     "name": "stdout",
     "text": [
      "Output[0,0,0] = 1*1 + 0*0 + 1*1 + 1*1 + 0*0 + 1*1 + 1*1 + 0*0 + 1*1 + 1 + 0*1 + 1*0 + 1*0 + 0*1 + 0*0 + 0*0 + 0*1 + 0*0 + 0*0 + 1 + 1*1 + 0*1 + 1*0 + 1*1 + 1*1 + 1*0 + 0*1 + 0*1 + 0*0 + 1 = 10.0\nOutput[0,0,1] = 0*1 + 1*0 + 0*1 + 0*1 + 1*0 + 0*1 + 0*1 + 1*0 + 0*1 + 1 + 1*1 + 1*0 + 1*0 + 0*1 + 0*0 + 0*0 + 0*1 + 0*0 + 0*0 + 1 + 0*1 + 1*1 + 0*0 + 1*1 + 1*1 + 1*0 + 0*1 + 0*1 + 0*0 + 1 = 5.0\nOutput[0,1,0] = 1*1 + 0*0 + 1*1 + 1*1 + 0*0 + 1*1 + 1*1 + 0*0 + 1*1 + 1 + 0*1 + 0*0 + 0*0 + 0*1 + 0*0 + 0*0 + 0*1 + 0*0 + 0*0 + 1 + 1*1 + 1*1 + 1*0 + 0*1 + 0*1 + 0*0 + 0*1 + 0*1 + 0*0 + 1 = 9.0\nOutput[0,1,1] = 0*1 + 1*0 + 0*1 + 0*1 + 1*0 + 0*1 + 0*1 + 1*0 + 0*1 + 1 + 0*1 + 0*0 + 0*0 + 0*1 + 0*0 + 0*0 + 0*1 + 0*0 + 0*0 + 1 + 1*1 + 1*1 + 1*0 + 0*1 + 0*1 + 0*0 + 0*1 + 0*1 + 0*0 + 1 = 3.0\n[[10.  5.]\n [ 9.  3.]]\n"
     ]
    }
   ],
   "source": [
    "def convolution(input, filters, biases, stride, print_computation = False):\n",
    "    output = np.zeros(output_shape(input, filters, stride))\n",
    "    x, y, z = 2, 1, 0\n",
    "    for o_l in range(output.shape[z]):\n",
    "        filter = filters[o_l]\n",
    "        bias = biases[o_l]\n",
    "        r = 0\n",
    "        for o_r in range(output.shape[y]):\n",
    "            c = 0\n",
    "            for o_c in range(output.shape[x]):\n",
    "                input_section = input[:, r:r+filter.shape[y], c:c+filter.shape[x]]\n",
    "                c += stride\n",
    "                output[o_l][o_r][o_c] = np.sum(input_section * filter) + bias\n",
    "                if print_computation: print(f\"Output[{o_l},{o_r},{o_c}] = {computation(input_section, filter, bias)} = {output[o_l][o_r][o_c]}\")\n",
    "            r += stride\n",
    "    return output\n",
    "\n",
    "for input in inputs:\n",
    "    for layer in convolution(input, filters, biases, stride, 1):\n",
    "        print(layer)\n",
    "        # df = pd.DataFrame(layer)\n",
    "        # html = df.to_html()\n",
    "        # print(html)"
   ]
  },
  {
   "cell_type": "code",
   "execution_count": null,
   "metadata": {},
   "outputs": [],
   "source": []
  }
 ]
}