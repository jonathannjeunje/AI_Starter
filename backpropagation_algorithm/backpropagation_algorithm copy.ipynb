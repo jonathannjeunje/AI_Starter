{
 "metadata": {
  "language_info": {
   "codemirror_mode": {
    "name": "ipython",
    "version": 3
   },
   "file_extension": ".py",
   "mimetype": "text/x-python",
   "name": "python",
   "nbconvert_exporter": "python",
   "pygments_lexer": "ipython3",
   "version": "3.8.5"
  },
  "orig_nbformat": 2,
  "kernelspec": {
   "name": "python3",
   "display_name": "Python 3",
   "language": "python"
  }
 },
 "nbformat": 4,
 "nbformat_minor": 2,
 "cells": [
  {
   "source": [
    "# Backpropagation Algorithm"
   ],
   "cell_type": "markdown",
   "metadata": {}
  },
  {
   "cell_type": "code",
   "execution_count": 3,
   "metadata": {},
   "outputs": [],
   "source": [
    "import pandas as pd\n",
    "import json\n",
    "import pprint as pp\n",
    "import math\n",
    "import copy\n",
    "from IPython.display import display \n",
    "import numpy as np"
   ]
  },
  {
   "cell_type": "code",
   "execution_count": 4,
   "metadata": {},
   "outputs": [],
   "source": [
    "def weighted_sum(values, weights):\n",
    "    res = 0\n",
    "    for value, weight in zip(values, weights):\n",
    "        res += value * weight\n",
    "    return res"
   ]
  },
  {
   "cell_type": "code",
   "execution_count": 5,
   "metadata": {},
   "outputs": [],
   "source": [
    "def actual_output(weighted_sum): \n",
    "    return 1/(1 + math.exp(-weighted_sum))"
   ]
  },
  {
   "cell_type": "code",
   "execution_count": 6,
   "metadata": {},
   "outputs": [],
   "source": [
    "def delta_ou(target_output, actual_output_ou):\n",
    "    return (target_output - actual_output_ou) * actual_output_ou * (1-actual_output_ou)"
   ]
  },
  {
   "cell_type": "code",
   "execution_count": 7,
   "metadata": {},
   "outputs": [],
   "source": [
    "def new_weight_to_ou(weight_to_ou, learning_coef, delta_ou, actual_output_hu):\n",
    "    return weight_to_ou + learning_coef * delta_ou * actual_output_hu"
   ]
  },
  {
   "cell_type": "code",
   "execution_count": 8,
   "metadata": {},
   "outputs": [],
   "source": [
    "def delta_hu(delta_ou, weight_to_ou, actual_output_hu):\n",
    "        return delta_ou * weight_to_ou * actual_output_hu * (1 - actual_output_hu) "
   ]
  },
  {
   "cell_type": "code",
   "execution_count": 9,
   "metadata": {},
   "outputs": [],
   "source": [
    "def new_weight_to_hu(weight_to_hu, learning_coef, delta_hu, value_iu):\n",
    "    return weight_to_hu + learning_coef * delta_hu * value_iu"
   ]
  },
  {
   "cell_type": "code",
   "execution_count": 10,
   "metadata": {},
   "outputs": [],
   "source": [
    "def terminate_training(actual_outputs_of_ou, target_outputs, lower_margin, upper_margin):\n",
    "    for i, target_output in enumerate(target_outputs):\n",
    "        if target_output == 1:\n",
    "            if actual_outputs_of_ou[i] <= upper_margin:\n",
    "                return False\n",
    "        else:\n",
    "            if actual_outputs_of_ou[i] >= lower_margin:\n",
    "                return False\n",
    "    return True"
   ]
  },
  {
   "cell_type": "code",
   "execution_count": 11,
   "metadata": {},
   "outputs": [],
   "source": [
    "def bpa(dataset, num_steps = 1, roundup = 4):\n",
    "    log = []\n",
    "\n",
    "    for i, inputs in enumerate(dataset['inputs_list']):\n",
    "        \n",
    "        weights_to_hus = copy.deepcopy(dataset['weights_to_hidden_units'])\n",
    "        weights_to_ous = copy.deepcopy(dataset['weights_to_output_units'])\n",
    "        target_outputs = copy.deepcopy(dataset['target_outputs_list'][i])\n",
    "\n",
    "        sub_log = []\n",
    "        step = 0\n",
    "        while step <= num_steps:\n",
    "            actual_output_of_hus = []\n",
    "            for weights_to_hu in weights_to_hus:\n",
    "                actual_output_of_hus.append(actual_output(weighted_sum(inputs, weights_to_hu)))\n",
    "            \n",
    "            actual_output_of_ous = []\n",
    "            for weights_to_ou in weights_to_ous:\n",
    "                actual_output_of_ous.append(actual_output(weighted_sum(actual_output_of_hus, weights_to_ou)))\n",
    "\n",
    "            sub_sub_log = {}\n",
    "            sub_sub_log.update({\"1.step\": step})\n",
    "            sub_sub_log.update({\"2.actual_output_of_hus\": np.round(actual_output_of_hus, roundup)})\n",
    "            sub_sub_log.update({\"2.actual_output_of_ous\": np.round(actual_output_of_ous, roundup)})\n",
    "            sub_sub_log.update({\"3.weights_to_ous\": np.round(weights_to_ous, roundup)})\n",
    "            sub_sub_log.update({\"4.weights_to_hus\": np.round(weights_to_hus, roundup)})\n",
    "            sub_log.append(sub_sub_log)\n",
    "\n",
    "            \n",
    "            trained = terminate_training(actual_output_of_ous, target_outputs, dataset['lower_margin'], dataset['upper_margin'])\n",
    "            if trained:\n",
    "                # print('The training is complete.')\n",
    "                break\n",
    "            else:\n",
    "                temp_weights_to_ous = copy.deepcopy(weights_to_ous)\n",
    "\n",
    "                delta_ous = []\n",
    "                for k, actual_output_of_ou in enumerate(actual_output_of_ous):\n",
    "                    delta_ous.append(delta_ou(target_outputs[k], actual_output_of_ou))\n",
    "                    \n",
    "                    for j, actual_output_of_hu in enumerate(actual_output_of_hus):\n",
    "                        weights_to_ous[k][j] = new_weight_to_ou(weights_to_ous[k][j], dataset['learning_coef'], delta_ous[k], actual_output_of_hu)\n",
    "\n",
    "                # print(f'delta_ous: {delta_ous}')\n",
    "                # print(f'weights_to_ous: {weights_to_ous}')\n",
    "\n",
    "                delta_hus = []\n",
    "                for j, actual_output_of_hu in enumerate(actual_output_of_hus):\n",
    "                    temp_delta_hu = 0\n",
    "                    for k, actual_output_of_ou in enumerate(actual_output_of_ous):\n",
    "                        temp_delta_hu += delta_hu(delta_ous[k], temp_weights_to_ous[k][j], actual_output_of_hu)\n",
    "                    delta_hus.append(temp_delta_hu)\n",
    "\n",
    "                for j, actual_output_of_hu in enumerate(actual_output_of_hus):\n",
    "                    for i, input in enumerate(inputs):\n",
    "                        weights_to_hus[j][i] = new_weight_to_hu(weights_to_hus[j][i], dataset['learning_coef'], delta_hus[j], input)\n",
    "                \n",
    "                # print(f'delta_hus: {delta_hus}')\n",
    "                # print(f'weights_to_hus: {weights_to_hus}')\n",
    "            \n",
    "            step += 1\n",
    "        log.append({\"inputs\": inputs, \"target_outputs\": target_outputs, \"training\": sub_log})\n",
    "        # break #only on input\n",
    "    return log"
   ]
  },
  {
   "cell_type": "code",
   "execution_count": 12,
   "metadata": {},
   "outputs": [],
   "source": [
    "with open('dataset.json', 'r') as file:\n",
    "    dataset = json.load(file)"
   ]
  },
  {
   "cell_type": "code",
   "execution_count": 16,
   "metadata": {},
   "outputs": [
    {
     "output_type": "stream",
     "name": "stdout",
     "text": [
      "{'inputs_list': [[0, 0, 0],\n                 [1, 0, 0],\n                 [0, 1, 0],\n                 [1, 1, 0],\n                 [0, 0, 1],\n                 [1, 0, 1],\n                 [0, 1, 1],\n                 [1, 1, 1]],\n 'learning_coef': 0.5,\n 'lower_margin': 0.1,\n 'target_outputs_list': [[0], [1], [1], [0], [0], [1], [1], [0]],\n 'upper_margin': 0.9,\n 'weights_to_hidden_units': [[0.2, 0.3, 0.4], [0.5, 0.6, 0.7]],\n 'weights_to_output_units': [[0.8, 0.9]]}\n\n\ninputs: [0, 0, 0]; target_outputs: [0]\n"
     ]
    },
    {
     "output_type": "display_data",
     "data": {
      "text/plain": "<pandas.io.formats.style.Styler at 0x1bf6785ff70>",
      "text/html": "<style  type=\"text/css\" >\n</style><table id=\"T_b02f9_\" ><thead>    <tr>        <th class=\"blank level0\" ></th>        <th class=\"col_heading level0 col0\" >1.step</th>        <th class=\"col_heading level0 col1\" >2.actual_output_of_hus</th>        <th class=\"col_heading level0 col2\" >2.actual_output_of_ous</th>        <th class=\"col_heading level0 col3\" >3.weights_to_ous</th>        <th class=\"col_heading level0 col4\" >4.weights_to_hus</th>    </tr></thead><tbody>\n                <tr>\n                        <th id=\"T_b02f9_level0_row0\" class=\"row_heading level0 row0\" >0</th>\n                        <td id=\"T_b02f9_row0_col0\" class=\"data row0 col0\" >300</td>\n                        <td id=\"T_b02f9_row0_col1\" class=\"data row0 col1\" >[0.5 0.5]</td>\n                        <td id=\"T_b02f9_row0_col2\" class=\"data row0 col2\" >[0.10179]</td>\n                        <td id=\"T_b02f9_row0_col3\" class=\"data row0 col3\" >[[-2.22754 -2.12754]]</td>\n                        <td id=\"T_b02f9_row0_col4\" class=\"data row0 col4\" >[[0.2 0.3 0.4]\n [0.5 0.6 0.7]]</td>\n            </tr>\n            <tr>\n                        <th id=\"T_b02f9_level0_row1\" class=\"row_heading level0 row1\" >1</th>\n                        <td id=\"T_b02f9_row1_col0\" class=\"data row1 col0\" >301</td>\n                        <td id=\"T_b02f9_row1_col1\" class=\"data row1 col1\" >[0.5 0.5]</td>\n                        <td id=\"T_b02f9_row1_col2\" class=\"data row1 col2\" >[0.10157]</td>\n                        <td id=\"T_b02f9_row1_col3\" class=\"data row1 col3\" >[[-2.22987 -2.12987]]</td>\n                        <td id=\"T_b02f9_row1_col4\" class=\"data row1 col4\" >[[0.2 0.3 0.4]\n [0.5 0.6 0.7]]</td>\n            </tr>\n            <tr>\n                        <th id=\"T_b02f9_level0_row2\" class=\"row_heading level0 row2\" >2</th>\n                        <td id=\"T_b02f9_row2_col0\" class=\"data row2 col0\" >302</td>\n                        <td id=\"T_b02f9_row2_col1\" class=\"data row2 col1\" >[0.5 0.5]</td>\n                        <td id=\"T_b02f9_row2_col2\" class=\"data row2 col2\" >[0.10136]</td>\n                        <td id=\"T_b02f9_row2_col3\" class=\"data row2 col3\" >[[-2.23218 -2.13218]]</td>\n                        <td id=\"T_b02f9_row2_col4\" class=\"data row2 col4\" >[[0.2 0.3 0.4]\n [0.5 0.6 0.7]]</td>\n            </tr>\n            <tr>\n                        <th id=\"T_b02f9_level0_row3\" class=\"row_heading level0 row3\" >3</th>\n                        <td id=\"T_b02f9_row3_col0\" class=\"data row3 col0\" >303</td>\n                        <td id=\"T_b02f9_row3_col1\" class=\"data row3 col1\" >[0.5 0.5]</td>\n                        <td id=\"T_b02f9_row3_col2\" class=\"data row3 col2\" >[0.10115]</td>\n                        <td id=\"T_b02f9_row3_col3\" class=\"data row3 col3\" >[[-2.23449 -2.13449]]</td>\n                        <td id=\"T_b02f9_row3_col4\" class=\"data row3 col4\" >[[0.2 0.3 0.4]\n [0.5 0.6 0.7]]</td>\n            </tr>\n            <tr>\n                        <th id=\"T_b02f9_level0_row4\" class=\"row_heading level0 row4\" >4</th>\n                        <td id=\"T_b02f9_row4_col0\" class=\"data row4 col0\" >304</td>\n                        <td id=\"T_b02f9_row4_col1\" class=\"data row4 col1\" >[0.5 0.5]</td>\n                        <td id=\"T_b02f9_row4_col2\" class=\"data row4 col2\" >[0.10094]</td>\n                        <td id=\"T_b02f9_row4_col3\" class=\"data row4 col3\" >[[-2.23679 -2.13679]]</td>\n                        <td id=\"T_b02f9_row4_col4\" class=\"data row4 col4\" >[[0.2 0.3 0.4]\n [0.5 0.6 0.7]]</td>\n            </tr>\n            <tr>\n                        <th id=\"T_b02f9_level0_row5\" class=\"row_heading level0 row5\" >5</th>\n                        <td id=\"T_b02f9_row5_col0\" class=\"data row5 col0\" >305</td>\n                        <td id=\"T_b02f9_row5_col1\" class=\"data row5 col1\" >[0.5 0.5]</td>\n                        <td id=\"T_b02f9_row5_col2\" class=\"data row5 col2\" >[0.10074]</td>\n                        <td id=\"T_b02f9_row5_col3\" class=\"data row5 col3\" >[[-2.23908 -2.13908]]</td>\n                        <td id=\"T_b02f9_row5_col4\" class=\"data row5 col4\" >[[0.2 0.3 0.4]\n [0.5 0.6 0.7]]</td>\n            </tr>\n            <tr>\n                        <th id=\"T_b02f9_level0_row6\" class=\"row_heading level0 row6\" >6</th>\n                        <td id=\"T_b02f9_row6_col0\" class=\"data row6 col0\" >306</td>\n                        <td id=\"T_b02f9_row6_col1\" class=\"data row6 col1\" >[0.5 0.5]</td>\n                        <td id=\"T_b02f9_row6_col2\" class=\"data row6 col2\" >[0.10053]</td>\n                        <td id=\"T_b02f9_row6_col3\" class=\"data row6 col3\" >[[-2.24136 -2.14136]]</td>\n                        <td id=\"T_b02f9_row6_col4\" class=\"data row6 col4\" >[[0.2 0.3 0.4]\n [0.5 0.6 0.7]]</td>\n            </tr>\n            <tr>\n                        <th id=\"T_b02f9_level0_row7\" class=\"row_heading level0 row7\" >7</th>\n                        <td id=\"T_b02f9_row7_col0\" class=\"data row7 col0\" >307</td>\n                        <td id=\"T_b02f9_row7_col1\" class=\"data row7 col1\" >[0.5 0.5]</td>\n                        <td id=\"T_b02f9_row7_col2\" class=\"data row7 col2\" >[0.10032]</td>\n                        <td id=\"T_b02f9_row7_col3\" class=\"data row7 col3\" >[[-2.24363 -2.14363]]</td>\n                        <td id=\"T_b02f9_row7_col4\" class=\"data row7 col4\" >[[0.2 0.3 0.4]\n [0.5 0.6 0.7]]</td>\n            </tr>\n            <tr>\n                        <th id=\"T_b02f9_level0_row8\" class=\"row_heading level0 row8\" >8</th>\n                        <td id=\"T_b02f9_row8_col0\" class=\"data row8 col0\" >308</td>\n                        <td id=\"T_b02f9_row8_col1\" class=\"data row8 col1\" >[0.5 0.5]</td>\n                        <td id=\"T_b02f9_row8_col2\" class=\"data row8 col2\" >[0.10012]</td>\n                        <td id=\"T_b02f9_row8_col3\" class=\"data row8 col3\" >[[-2.2459 -2.1459]]</td>\n                        <td id=\"T_b02f9_row8_col4\" class=\"data row8 col4\" >[[0.2 0.3 0.4]\n [0.5 0.6 0.7]]</td>\n            </tr>\n            <tr>\n                        <th id=\"T_b02f9_level0_row9\" class=\"row_heading level0 row9\" >9</th>\n                        <td id=\"T_b02f9_row9_col0\" class=\"data row9 col0\" >309</td>\n                        <td id=\"T_b02f9_row9_col1\" class=\"data row9 col1\" >[0.5 0.5]</td>\n                        <td id=\"T_b02f9_row9_col2\" class=\"data row9 col2\" >[0.09992]</td>\n                        <td id=\"T_b02f9_row9_col3\" class=\"data row9 col3\" >[[-2.24815 -2.14815]]</td>\n                        <td id=\"T_b02f9_row9_col4\" class=\"data row9 col4\" >[[0.2 0.3 0.4]\n [0.5 0.6 0.7]]</td>\n            </tr>\n    </tbody></table>"
     },
     "metadata": {}
    },
    {
     "output_type": "stream",
     "name": "stdout",
     "text": [
      "\n\ninputs: [1, 0, 0]; target_outputs: [1]\n"
     ]
    },
    {
     "output_type": "display_data",
     "data": {
      "text/plain": "<pandas.io.formats.style.Styler at 0x1bf625656a0>",
      "text/html": "<style  type=\"text/css\" >\n</style><table id=\"T_e3a6c_\" ><thead>    <tr>        <th class=\"blank level0\" ></th>        <th class=\"col_heading level0 col0\" >1.step</th>        <th class=\"col_heading level0 col1\" >2.actual_output_of_hus</th>        <th class=\"col_heading level0 col2\" >2.actual_output_of_ous</th>        <th class=\"col_heading level0 col3\" >3.weights_to_ous</th>        <th class=\"col_heading level0 col4\" >4.weights_to_hus</th>    </tr></thead><tbody>\n                <tr>\n                        <th id=\"T_e3a6c_level0_row0\" class=\"row_heading level0 row0\" >0</th>\n                        <td id=\"T_e3a6c_row0_col0\" class=\"data row0 col0\" >109</td>\n                        <td id=\"T_e3a6c_row0_col1\" class=\"data row0 col1\" >[0.63128 0.70086]</td>\n                        <td id=\"T_e3a6c_row0_col2\" class=\"data row0 col2\" >[0.89589]</td>\n                        <td id=\"T_e3a6c_row0_col3\" class=\"data row0 col3\" >[[1.51684 1.70474]]</td>\n                        <td id=\"T_e3a6c_row0_col4\" class=\"data row0 col4\" >[[0.53769 0.3     0.4    ]\n [0.85141 0.6     0.7    ]]</td>\n            </tr>\n            <tr>\n                        <th id=\"T_e3a6c_level0_row1\" class=\"row_heading level0 row1\" >1</th>\n                        <td id=\"T_e3a6c_row1_col0\" class=\"data row1 col0\" >110</td>\n                        <td id=\"T_e3a6c_row1_col1\" class=\"data row1 col1\" >[0.63167 0.70123]</td>\n                        <td id=\"T_e3a6c_row1_col2\" class=\"data row1 col2\" >[0.8964]</td>\n                        <td id=\"T_e3a6c_row1_col3\" class=\"data row1 col3\" >[[1.5199  1.70814]]</td>\n                        <td id=\"T_e3a6c_row1_col4\" class=\"data row1 col4\" >[[0.53941 0.3     0.4    ]\n [0.85314 0.6     0.7    ]]</td>\n            </tr>\n            <tr>\n                        <th id=\"T_e3a6c_level0_row2\" class=\"row_heading level0 row2\" >2</th>\n                        <td id=\"T_e3a6c_row2_col0\" class=\"data row2 col0\" >111</td>\n                        <td id=\"T_e3a6c_row2_col1\" class=\"data row2 col1\" >[0.63207 0.70159]</td>\n                        <td id=\"T_e3a6c_row2_col2\" class=\"data row2 col2\" >[0.89691]</td>\n                        <td id=\"T_e3a6c_row2_col3\" class=\"data row2 col3\" >[[1.52294 1.71151]]</td>\n                        <td id=\"T_e3a6c_row2_col4\" class=\"data row2 col4\" >[[0.54111 0.3     0.4    ]\n [0.85487 0.6     0.7    ]]</td>\n            </tr>\n            <tr>\n                        <th id=\"T_e3a6c_level0_row3\" class=\"row_heading level0 row3\" >3</th>\n                        <td id=\"T_e3a6c_row3_col0\" class=\"data row3 col0\" >112</td>\n                        <td id=\"T_e3a6c_row3_col1\" class=\"data row3 col1\" >[0.63246 0.70194]</td>\n                        <td id=\"T_e3a6c_row3_col2\" class=\"data row3 col2\" >[0.89742]</td>\n                        <td id=\"T_e3a6c_row3_col3\" class=\"data row3 col3\" >[[1.52595 1.71486]]</td>\n                        <td id=\"T_e3a6c_row3_col4\" class=\"data row3 col4\" >[[0.54279 0.3     0.4    ]\n [0.85657 0.6     0.7    ]]</td>\n            </tr>\n            <tr>\n                        <th id=\"T_e3a6c_level0_row4\" class=\"row_heading level0 row4\" >4</th>\n                        <td id=\"T_e3a6c_row4_col0\" class=\"data row4 col0\" >113</td>\n                        <td id=\"T_e3a6c_row4_col1\" class=\"data row4 col1\" >[0.63285 0.7023 ]</td>\n                        <td id=\"T_e3a6c_row4_col2\" class=\"data row4 col2\" >[0.89791]</td>\n                        <td id=\"T_e3a6c_row4_col3\" class=\"data row4 col3\" >[[1.52894 1.71817]]</td>\n                        <td id=\"T_e3a6c_row4_col4\" class=\"data row4 col4\" >[[0.54447 0.3     0.4    ]\n [0.85827 0.6     0.7    ]]</td>\n            </tr>\n            <tr>\n                        <th id=\"T_e3a6c_level0_row5\" class=\"row_heading level0 row5\" >5</th>\n                        <td id=\"T_e3a6c_row5_col0\" class=\"data row5 col0\" >114</td>\n                        <td id=\"T_e3a6c_row5_col1\" class=\"data row5 col1\" >[0.63324 0.70265]</td>\n                        <td id=\"T_e3a6c_row5_col2\" class=\"data row5 col2\" >[0.89841]</td>\n                        <td id=\"T_e3a6c_row5_col3\" class=\"data row5 col3\" >[[1.5319  1.72146]]</td>\n                        <td id=\"T_e3a6c_row5_col4\" class=\"data row5 col4\" >[[0.54613 0.3     0.4    ]\n [0.85995 0.6     0.7    ]]</td>\n            </tr>\n            <tr>\n                        <th id=\"T_e3a6c_level0_row6\" class=\"row_heading level0 row6\" >6</th>\n                        <td id=\"T_e3a6c_row6_col0\" class=\"data row6 col0\" >115</td>\n                        <td id=\"T_e3a6c_row6_col1\" class=\"data row6 col1\" >[0.63362 0.703  ]</td>\n                        <td id=\"T_e3a6c_row6_col2\" class=\"data row6 col2\" >[0.89889]</td>\n                        <td id=\"T_e3a6c_row6_col3\" class=\"data row6 col3\" >[[1.53484 1.72472]]</td>\n                        <td id=\"T_e3a6c_row6_col4\" class=\"data row6 col4\" >[[0.54778 0.3     0.4    ]\n [0.86162 0.6     0.7    ]]</td>\n            </tr>\n            <tr>\n                        <th id=\"T_e3a6c_level0_row7\" class=\"row_heading level0 row7\" >7</th>\n                        <td id=\"T_e3a6c_row7_col0\" class=\"data row7 col0\" >116</td>\n                        <td id=\"T_e3a6c_row7_col1\" class=\"data row7 col1\" >[0.634   0.70334]</td>\n                        <td id=\"T_e3a6c_row7_col2\" class=\"data row7 col2\" >[0.89937]</td>\n                        <td id=\"T_e3a6c_row7_col3\" class=\"data row7 col3\" >[[1.53775 1.72795]]</td>\n                        <td id=\"T_e3a6c_row7_col4\" class=\"data row7 col4\" >[[0.54942 0.3     0.4    ]\n [0.86327 0.6     0.7    ]]</td>\n            </tr>\n            <tr>\n                        <th id=\"T_e3a6c_level0_row8\" class=\"row_heading level0 row8\" >8</th>\n                        <td id=\"T_e3a6c_row8_col0\" class=\"data row8 col0\" >117</td>\n                        <td id=\"T_e3a6c_row8_col1\" class=\"data row8 col1\" >[0.63438 0.70369]</td>\n                        <td id=\"T_e3a6c_row8_col2\" class=\"data row8 col2\" >[0.89985]</td>\n                        <td id=\"T_e3a6c_row8_col3\" class=\"data row8 col3\" >[[1.54064 1.73115]]</td>\n                        <td id=\"T_e3a6c_row8_col4\" class=\"data row8 col4\" >[[0.55104 0.3     0.4    ]\n [0.86491 0.6     0.7    ]]</td>\n            </tr>\n            <tr>\n                        <th id=\"T_e3a6c_level0_row9\" class=\"row_heading level0 row9\" >9</th>\n                        <td id=\"T_e3a6c_row9_col0\" class=\"data row9 col0\" >118</td>\n                        <td id=\"T_e3a6c_row9_col1\" class=\"data row9 col1\" >[0.63475 0.70403]</td>\n                        <td id=\"T_e3a6c_row9_col2\" class=\"data row9 col2\" >[0.90032]</td>\n                        <td id=\"T_e3a6c_row9_col3\" class=\"data row9 col3\" >[[1.5435  1.73432]]</td>\n                        <td id=\"T_e3a6c_row9_col4\" class=\"data row9 col4\" >[[0.55266 0.3     0.4    ]\n [0.86654 0.6     0.7    ]]</td>\n            </tr>\n    </tbody></table>"
     },
     "metadata": {}
    },
    {
     "output_type": "stream",
     "name": "stdout",
     "text": [
      "\n\ninputs: [0, 1, 0]; target_outputs: [1]\n"
     ]
    },
    {
     "output_type": "display_data",
     "data": {
      "text/plain": "<pandas.io.formats.style.Styler at 0x1bf625654f0>",
      "text/html": "<style  type=\"text/css\" >\n</style><table id=\"T_f7630_\" ><thead>    <tr>        <th class=\"blank level0\" ></th>        <th class=\"col_heading level0 col0\" >1.step</th>        <th class=\"col_heading level0 col1\" >2.actual_output_of_hus</th>        <th class=\"col_heading level0 col2\" >2.actual_output_of_ous</th>        <th class=\"col_heading level0 col3\" >3.weights_to_ous</th>        <th class=\"col_heading level0 col4\" >4.weights_to_hus</th>    </tr></thead><tbody>\n                <tr>\n                        <th id=\"T_f7630_level0_row0\" class=\"row_heading level0 row0\" >0</th>\n                        <td id=\"T_f7630_row0_col0\" class=\"data row0 col0\" >104</td>\n                        <td id=\"T_f7630_row0_col1\" class=\"data row0 col1\" >[0.64666 0.71356]</td>\n                        <td id=\"T_f7630_row0_col2\" class=\"data row0 col2\" >[0.8958]</td>\n                        <td id=\"T_f7630_row0_col3\" class=\"data row0 col3\" >[[1.48775 1.66677]]</td>\n                        <td id=\"T_f7630_row0_col4\" class=\"data row0 col4\" >[[0.2     0.6044  0.4    ]\n [0.5     0.91273 0.7    ]]</td>\n            </tr>\n            <tr>\n                        <th id=\"T_f7630_level0_row1\" class=\"row_heading level0 row1\" >1</th>\n                        <td id=\"T_f7630_row1_col0\" class=\"data row1 col0\" >105</td>\n                        <td id=\"T_f7630_row1_col1\" class=\"data row1 col1\" >[0.64704 0.7139 ]</td>\n                        <td id=\"T_f7630_row1_col2\" class=\"data row1 col2\" >[0.89633]</td>\n                        <td id=\"T_f7630_row1_col3\" class=\"data row1 col3\" >[[1.49089 1.67024]]</td>\n                        <td id=\"T_f7630_row1_col4\" class=\"data row1 col4\" >[[0.2     0.60605 0.4    ]\n [0.5     0.91438 0.7    ]]</td>\n            </tr>\n            <tr>\n                        <th id=\"T_f7630_level0_row2\" class=\"row_heading level0 row2\" >2</th>\n                        <td id=\"T_f7630_row2_col0\" class=\"data row2 col0\" >106</td>\n                        <td id=\"T_f7630_row2_col1\" class=\"data row2 col1\" >[0.64741 0.71423]</td>\n                        <td id=\"T_f7630_row2_col2\" class=\"data row2 col2\" >[0.89684]</td>\n                        <td id=\"T_f7630_row2_col3\" class=\"data row2 col3\" >[[1.49401 1.67368]]</td>\n                        <td id=\"T_f7630_row2_col4\" class=\"data row2 col4\" >[[0.2     0.60769 0.4    ]\n [0.5     0.91603 0.7    ]]</td>\n            </tr>\n            <tr>\n                        <th id=\"T_f7630_level0_row3\" class=\"row_heading level0 row3\" >3</th>\n                        <td id=\"T_f7630_row3_col0\" class=\"data row3 col0\" >107</td>\n                        <td id=\"T_f7630_row3_col1\" class=\"data row3 col1\" >[0.64779 0.71456]</td>\n                        <td id=\"T_f7630_row3_col2\" class=\"data row3 col2\" >[0.89736]</td>\n                        <td id=\"T_f7630_row3_col3\" class=\"data row3 col3\" >[[1.4971  1.67709]]</td>\n                        <td id=\"T_f7630_row3_col4\" class=\"data row3 col4\" >[[0.2     0.60932 0.4    ]\n [0.5     0.91766 0.7    ]]</td>\n            </tr>\n            <tr>\n                        <th id=\"T_f7630_level0_row4\" class=\"row_heading level0 row4\" >4</th>\n                        <td id=\"T_f7630_row4_col0\" class=\"data row4 col0\" >108</td>\n                        <td id=\"T_f7630_row4_col1\" class=\"data row4 col1\" >[0.64815 0.71489]</td>\n                        <td id=\"T_f7630_row4_col2\" class=\"data row4 col2\" >[0.89786]</td>\n                        <td id=\"T_f7630_row4_col3\" class=\"data row4 col3\" >[[1.50016 1.68047]]</td>\n                        <td id=\"T_f7630_row4_col4\" class=\"data row4 col4\" >[[0.2     0.61094 0.4    ]\n [0.5     0.91927 0.7    ]]</td>\n            </tr>\n            <tr>\n                        <th id=\"T_f7630_level0_row5\" class=\"row_heading level0 row5\" >5</th>\n                        <td id=\"T_f7630_row5_col0\" class=\"data row5 col0\" >109</td>\n                        <td id=\"T_f7630_row5_col1\" class=\"data row5 col1\" >[0.64852 0.71522]</td>\n                        <td id=\"T_f7630_row5_col2\" class=\"data row5 col2\" >[0.89836]</td>\n                        <td id=\"T_f7630_row5_col3\" class=\"data row5 col3\" >[[1.5032  1.68382]]</td>\n                        <td id=\"T_f7630_row5_col4\" class=\"data row5 col4\" >[[0.2     0.61254 0.4    ]\n [0.5     0.92088 0.7    ]]</td>\n            </tr>\n            <tr>\n                        <th id=\"T_f7630_level0_row6\" class=\"row_heading level0 row6\" >6</th>\n                        <td id=\"T_f7630_row6_col0\" class=\"data row6 col0\" >110</td>\n                        <td id=\"T_f7630_row6_col1\" class=\"data row6 col1\" >[0.64888 0.71555]</td>\n                        <td id=\"T_f7630_row6_col2\" class=\"data row6 col2\" >[0.89886]</td>\n                        <td id=\"T_f7630_row6_col3\" class=\"data row6 col3\" >[[1.50621 1.68714]]</td>\n                        <td id=\"T_f7630_row6_col4\" class=\"data row6 col4\" >[[0.2     0.61413 0.4    ]\n [0.5     0.92247 0.7    ]]</td>\n            </tr>\n            <tr>\n                        <th id=\"T_f7630_level0_row7\" class=\"row_heading level0 row7\" >7</th>\n                        <td id=\"T_f7630_row7_col0\" class=\"data row7 col0\" >111</td>\n                        <td id=\"T_f7630_row7_col1\" class=\"data row7 col1\" >[0.64924 0.71587]</td>\n                        <td id=\"T_f7630_row7_col2\" class=\"data row7 col2\" >[0.89934]</td>\n                        <td id=\"T_f7630_row7_col3\" class=\"data row7 col3\" >[[1.50919 1.69043]]</td>\n                        <td id=\"T_f7630_row7_col4\" class=\"data row7 col4\" >[[0.2     0.61571 0.4    ]\n [0.5     0.92405 0.7    ]]</td>\n            </tr>\n            <tr>\n                        <th id=\"T_f7630_level0_row8\" class=\"row_heading level0 row8\" >8</th>\n                        <td id=\"T_f7630_row8_col0\" class=\"data row8 col0\" >112</td>\n                        <td id=\"T_f7630_row8_col1\" class=\"data row8 col1\" >[0.6496  0.71618]</td>\n                        <td id=\"T_f7630_row8_col2\" class=\"data row8 col2\" >[0.89982]</td>\n                        <td id=\"T_f7630_row8_col3\" class=\"data row8 col3\" >[[1.51215 1.69369]]</td>\n                        <td id=\"T_f7630_row8_col4\" class=\"data row8 col4\" >[[0.2     0.61727 0.4    ]\n [0.5     0.92562 0.7    ]]</td>\n            </tr>\n            <tr>\n                        <th id=\"T_f7630_level0_row9\" class=\"row_heading level0 row9\" >9</th>\n                        <td id=\"T_f7630_row9_col0\" class=\"data row9 col0\" >113</td>\n                        <td id=\"T_f7630_row9_col1\" class=\"data row9 col1\" >[0.64995 0.7165 ]</td>\n                        <td id=\"T_f7630_row9_col2\" class=\"data row9 col2\" >[0.9003]</td>\n                        <td id=\"T_f7630_row9_col3\" class=\"data row9 col3\" >[[1.51508 1.69692]]</td>\n                        <td id=\"T_f7630_row9_col4\" class=\"data row9 col4\" >[[0.2     0.61883 0.4    ]\n [0.5     0.92717 0.7    ]]</td>\n            </tr>\n    </tbody></table>"
     },
     "metadata": {}
    },
    {
     "output_type": "stream",
     "name": "stdout",
     "text": [
      "\n\ninputs: [1, 1, 0]; target_outputs: [0]\n"
     ]
    },
    {
     "output_type": "display_data",
     "data": {
      "text/plain": "<pandas.io.formats.style.Styler at 0x1bf62565490>",
      "text/html": "<style  type=\"text/css\" >\n</style><table id=\"T_b6d2d_\" ><thead>    <tr>        <th class=\"blank level0\" ></th>        <th class=\"col_heading level0 col0\" >1.step</th>        <th class=\"col_heading level0 col1\" >2.actual_output_of_hus</th>        <th class=\"col_heading level0 col2\" >2.actual_output_of_ous</th>        <th class=\"col_heading level0 col3\" >3.weights_to_ous</th>        <th class=\"col_heading level0 col4\" >4.weights_to_hus</th>    </tr></thead><tbody>\n                <tr>\n                        <th id=\"T_b6d2d_level0_row0\" class=\"row_heading level0 row0\" >0</th>\n                        <td id=\"T_b6d2d_row0_col0\" class=\"data row0 col0\" >130</td>\n                        <td id=\"T_b6d2d_row0_col1\" class=\"data row0 col1\" >[0.68427 0.8126 ]</td>\n                        <td id=\"T_b6d2d_row0_col2\" class=\"data row0 col2\" >[0.10549]</td>\n                        <td id=\"T_b6d2d_row0_col3\" class=\"data row0 col3\" >[[-1.21622 -1.60647]]</td>\n                        <td id=\"T_b6d2d_row0_col4\" class=\"data row0 col4\" >[[0.33674 0.43674 0.4    ]\n [0.6835  0.7835  0.7    ]]</td>\n            </tr>\n            <tr>\n                        <th id=\"T_b6d2d_level0_row1\" class=\"row_heading level0 row1\" >1</th>\n                        <td id=\"T_b6d2d_row1_col0\" class=\"data row1 col0\" >131</td>\n                        <td id=\"T_b6d2d_row1_col1\" class=\"data row1 col1\" >[0.68484 0.81297]</td>\n                        <td id=\"T_b6d2d_row1_col2\" class=\"data row1 col2\" >[0.10484]</td>\n                        <td id=\"T_b6d2d_row1_col3\" class=\"data row1 col3\" >[[-1.21963 -1.61052]]</td>\n                        <td id=\"T_b6d2d_row1_col4\" class=\"data row1 col4\" >[[0.33805 0.43805 0.4    ]\n [0.68472 0.78472 0.7    ]]</td>\n            </tr>\n            <tr>\n                        <th id=\"T_b6d2d_level0_row2\" class=\"row_heading level0 row2\" >2</th>\n                        <td id=\"T_b6d2d_row2_col0\" class=\"data row2 col0\" >132</td>\n                        <td id=\"T_b6d2d_row2_col1\" class=\"data row2 col1\" >[0.6854  0.81334]</td>\n                        <td id=\"T_b6d2d_row2_col2\" class=\"data row2 col2\" >[0.1042]</td>\n                        <td id=\"T_b6d2d_row2_col3\" class=\"data row2 col3\" >[[-1.223   -1.61452]]</td>\n                        <td id=\"T_b6d2d_row2_col4\" class=\"data row2 col4\" >[[0.33934 0.43934 0.4    ]\n [0.68592 0.78592 0.7    ]]</td>\n            </tr>\n            <tr>\n                        <th id=\"T_b6d2d_level0_row3\" class=\"row_heading level0 row3\" >3</th>\n                        <td id=\"T_b6d2d_row3_col0\" class=\"data row3 col0\" >133</td>\n                        <td id=\"T_b6d2d_row3_col1\" class=\"data row3 col1\" >[0.68595 0.8137 ]</td>\n                        <td id=\"T_b6d2d_row3_col2\" class=\"data row3 col2\" >[0.10357]</td>\n                        <td id=\"T_b6d2d_row3_col3\" class=\"data row3 col3\" >[[-1.22633 -1.61847]]</td>\n                        <td id=\"T_b6d2d_row3_col4\" class=\"data row3 col4\" >[[0.34063 0.44063 0.4    ]\n [0.68712 0.78712 0.7    ]]</td>\n            </tr>\n            <tr>\n                        <th id=\"T_b6d2d_level0_row4\" class=\"row_heading level0 row4\" >4</th>\n                        <td id=\"T_b6d2d_row4_col0\" class=\"data row4 col0\" >134</td>\n                        <td id=\"T_b6d2d_row4_col1\" class=\"data row4 col1\" >[0.6865  0.81406]</td>\n                        <td id=\"T_b6d2d_row4_col2\" class=\"data row4 col2\" >[0.10295]</td>\n                        <td id=\"T_b6d2d_row4_col3\" class=\"data row4 col3\" >[[-1.22963 -1.62238]]</td>\n                        <td id=\"T_b6d2d_row4_col4\" class=\"data row4 col4\" >[[0.3419 0.4419 0.4   ]\n [0.6883 0.7883 0.7   ]]</td>\n            </tr>\n            <tr>\n                        <th id=\"T_b6d2d_level0_row5\" class=\"row_heading level0 row5\" >5</th>\n                        <td id=\"T_b6d2d_row5_col0\" class=\"data row5 col0\" >135</td>\n                        <td id=\"T_b6d2d_row5_col1\" class=\"data row5 col1\" >[0.68704 0.81441]</td>\n                        <td id=\"T_b6d2d_row5_col2\" class=\"data row5 col2\" >[0.10234]</td>\n                        <td id=\"T_b6d2d_row5_col3\" class=\"data row5 col3\" >[[-1.23289 -1.62625]]</td>\n                        <td id=\"T_b6d2d_row5_col4\" class=\"data row5 col4\" >[[0.34316 0.44316 0.4    ]\n [0.68946 0.78946 0.7    ]]</td>\n            </tr>\n            <tr>\n                        <th id=\"T_b6d2d_level0_row6\" class=\"row_heading level0 row6\" >6</th>\n                        <td id=\"T_b6d2d_row6_col0\" class=\"data row6 col0\" >136</td>\n                        <td id=\"T_b6d2d_row6_col1\" class=\"data row6 col1\" >[0.68757 0.81476]</td>\n                        <td id=\"T_b6d2d_row6_col2\" class=\"data row6 col2\" >[0.10174]</td>\n                        <td id=\"T_b6d2d_row6_col3\" class=\"data row6 col3\" >[[-1.23612 -1.63008]]</td>\n                        <td id=\"T_b6d2d_row6_col4\" class=\"data row6 col4\" >[[0.3444  0.4444  0.4    ]\n [0.69062 0.79062 0.7    ]]</td>\n            </tr>\n            <tr>\n                        <th id=\"T_b6d2d_level0_row7\" class=\"row_heading level0 row7\" >7</th>\n                        <td id=\"T_b6d2d_row7_col0\" class=\"data row7 col0\" >137</td>\n                        <td id=\"T_b6d2d_row7_col1\" class=\"data row7 col1\" >[0.6881 0.8151]</td>\n                        <td id=\"T_b6d2d_row7_col2\" class=\"data row7 col2\" >[0.10115]</td>\n                        <td id=\"T_b6d2d_row7_col3\" class=\"data row7 col3\" >[[-1.23932 -1.63387]]</td>\n                        <td id=\"T_b6d2d_row7_col4\" class=\"data row7 col4\" >[[0.34564 0.44564 0.4    ]\n [0.69176 0.79176 0.7    ]]</td>\n            </tr>\n            <tr>\n                        <th id=\"T_b6d2d_level0_row8\" class=\"row_heading level0 row8\" >8</th>\n                        <td id=\"T_b6d2d_row8_col0\" class=\"data row8 col0\" >138</td>\n                        <td id=\"T_b6d2d_row8_col1\" class=\"data row8 col1\" >[0.68863 0.81545]</td>\n                        <td id=\"T_b6d2d_row8_col2\" class=\"data row8 col2\" >[0.10056]</td>\n                        <td id=\"T_b6d2d_row8_col3\" class=\"data row8 col3\" >[[-1.24248 -1.63762]]</td>\n                        <td id=\"T_b6d2d_row8_col4\" class=\"data row8 col4\" >[[0.34686 0.44686 0.4    ]\n [0.69289 0.79289 0.7    ]]</td>\n            </tr>\n            <tr>\n                        <th id=\"T_b6d2d_level0_row9\" class=\"row_heading level0 row9\" >9</th>\n                        <td id=\"T_b6d2d_row9_col0\" class=\"data row9 col0\" >139</td>\n                        <td id=\"T_b6d2d_row9_col1\" class=\"data row9 col1\" >[0.68915 0.81578]</td>\n                        <td id=\"T_b6d2d_row9_col2\" class=\"data row9 col2\" >[0.09999]</td>\n                        <td id=\"T_b6d2d_row9_col3\" class=\"data row9 col3\" >[[-1.24561 -1.64133]]</td>\n                        <td id=\"T_b6d2d_row9_col4\" class=\"data row9 col4\" >[[0.34807 0.44807 0.4    ]\n [0.69401 0.79401 0.7    ]]</td>\n            </tr>\n    </tbody></table>"
     },
     "metadata": {}
    },
    {
     "output_type": "stream",
     "name": "stdout",
     "text": [
      "\n\ninputs: [0, 0, 1]; target_outputs: [0]\n"
     ]
    },
    {
     "output_type": "display_data",
     "data": {
      "text/plain": "<pandas.io.formats.style.Styler at 0x1bf6256f550>",
      "text/html": "<style  type=\"text/css\" >\n</style><table id=\"T_ac81c_\" ><thead>    <tr>        <th class=\"blank level0\" ></th>        <th class=\"col_heading level0 col0\" >1.step</th>        <th class=\"col_heading level0 col1\" >2.actual_output_of_hus</th>        <th class=\"col_heading level0 col2\" >2.actual_output_of_ous</th>        <th class=\"col_heading level0 col3\" >3.weights_to_ous</th>        <th class=\"col_heading level0 col4\" >4.weights_to_hus</th>    </tr></thead><tbody>\n                <tr>\n                        <th id=\"T_ac81c_level0_row0\" class=\"row_heading level0 row0\" >0</th>\n                        <td id=\"T_ac81c_row0_col0\" class=\"data row0 col0\" >153</td>\n                        <td id=\"T_ac81c_row0_col1\" class=\"data row0 col1\" >[0.66099 0.72492]</td>\n                        <td id=\"T_ac81c_row0_col2\" class=\"data row0 col2\" >[0.1043]</td>\n                        <td id=\"T_ac81c_row0_col3\" class=\"data row0 col3\" >[[-1.46483 -1.63058]]</td>\n                        <td id=\"T_ac81c_row0_col4\" class=\"data row0 col4\" >[[0.2     0.3     0.66771]\n [0.5     0.6     0.96902]]</td>\n            </tr>\n            <tr>\n                        <th id=\"T_ac81c_level0_row1\" class=\"row_heading level0 row1\" >1</th>\n                        <td id=\"T_ac81c_row1_col0\" class=\"data row1 col0\" >154</td>\n                        <td id=\"T_ac81c_row1_col1\" class=\"data row1 col1\" >[0.66135 0.72524]</td>\n                        <td id=\"T_ac81c_row1_col2\" class=\"data row1 col2\" >[0.10377]</td>\n                        <td id=\"T_ac81c_row1_col3\" class=\"data row1 col3\" >[[-1.46805 -1.63411]]</td>\n                        <td id=\"T_ac81c_row1_col4\" class=\"data row1 col4\" >[[0.2     0.3     0.66931]\n [0.5     0.6     0.9706 ]]</td>\n            </tr>\n            <tr>\n                        <th id=\"T_ac81c_level0_row2\" class=\"row_heading level0 row2\" >2</th>\n                        <td id=\"T_ac81c_row2_col0\" class=\"data row2 col0\" >155</td>\n                        <td id=\"T_ac81c_row2_col1\" class=\"data row2 col1\" >[0.6617  0.72555]</td>\n                        <td id=\"T_ac81c_row2_col2\" class=\"data row2 col2\" >[0.10324]</td>\n                        <td id=\"T_ac81c_row2_col3\" class=\"data row2 col3\" >[[-1.47124 -1.63761]]</td>\n                        <td id=\"T_ac81c_row2_col4\" class=\"data row2 col4\" >[[0.2     0.3     0.6709 ]\n [0.5     0.6     0.97218]]</td>\n            </tr>\n            <tr>\n                        <th id=\"T_ac81c_level0_row3\" class=\"row_heading level0 row3\" >3</th>\n                        <td id=\"T_ac81c_row3_col0\" class=\"data row3 col0\" >156</td>\n                        <td id=\"T_ac81c_row3_col1\" class=\"data row3 col1\" >[0.66206 0.72586]</td>\n                        <td id=\"T_ac81c_row3_col2\" class=\"data row3 col2\" >[0.10272]</td>\n                        <td id=\"T_ac81c_row3_col3\" class=\"data row3 col3\" >[[-1.4744  -1.64108]]</td>\n                        <td id=\"T_ac81c_row3_col4\" class=\"data row3 col4\" >[[0.2     0.3     0.67247]\n [0.5     0.6     0.97373]]</td>\n            </tr>\n            <tr>\n                        <th id=\"T_ac81c_level0_row4\" class=\"row_heading level0 row4\" >4</th>\n                        <td id=\"T_ac81c_row4_col0\" class=\"data row4 col0\" >157</td>\n                        <td id=\"T_ac81c_row4_col1\" class=\"data row4 col1\" >[0.66241 0.72617]</td>\n                        <td id=\"T_ac81c_row4_col2\" class=\"data row4 col2\" >[0.10221]</td>\n                        <td id=\"T_ac81c_row4_col3\" class=\"data row4 col3\" >[[-1.47754 -1.64451]]</td>\n                        <td id=\"T_ac81c_row4_col4\" class=\"data row4 col4\" >[[0.2     0.3     0.67403]\n [0.5     0.6     0.97528]]</td>\n            </tr>\n            <tr>\n                        <th id=\"T_ac81c_level0_row5\" class=\"row_heading level0 row5\" >5</th>\n                        <td id=\"T_ac81c_row5_col0\" class=\"data row5 col0\" >158</td>\n                        <td id=\"T_ac81c_row5_col1\" class=\"data row5 col1\" >[0.66275 0.72648]</td>\n                        <td id=\"T_ac81c_row5_col2\" class=\"data row5 col2\" >[0.1017]</td>\n                        <td id=\"T_ac81c_row5_col3\" class=\"data row5 col3\" >[[-1.48064 -1.64792]]</td>\n                        <td id=\"T_ac81c_row5_col4\" class=\"data row5 col4\" >[[0.2     0.3     0.67558]\n [0.5     0.6     0.97681]]</td>\n            </tr>\n            <tr>\n                        <th id=\"T_ac81c_level0_row6\" class=\"row_heading level0 row6\" >6</th>\n                        <td id=\"T_ac81c_row6_col0\" class=\"data row6 col0\" >159</td>\n                        <td id=\"T_ac81c_row6_col1\" class=\"data row6 col1\" >[0.6631  0.72678]</td>\n                        <td id=\"T_ac81c_row6_col2\" class=\"data row6 col2\" >[0.1012]</td>\n                        <td id=\"T_ac81c_row6_col3\" class=\"data row6 col3\" >[[-1.48372 -1.65129]]</td>\n                        <td id=\"T_ac81c_row6_col4\" class=\"data row6 col4\" >[[0.2     0.3     0.67712]\n [0.5     0.6     0.97833]]</td>\n            </tr>\n            <tr>\n                        <th id=\"T_ac81c_level0_row7\" class=\"row_heading level0 row7\" >7</th>\n                        <td id=\"T_ac81c_row7_col0\" class=\"data row7 col0\" >160</td>\n                        <td id=\"T_ac81c_row7_col1\" class=\"data row7 col1\" >[0.66344 0.72708]</td>\n                        <td id=\"T_ac81c_row7_col2\" class=\"data row7 col2\" >[0.1007]</td>\n                        <td id=\"T_ac81c_row7_col3\" class=\"data row7 col3\" >[[-1.48677 -1.65464]]</td>\n                        <td id=\"T_ac81c_row7_col4\" class=\"data row7 col4\" >[[0.2     0.3     0.67865]\n [0.5     0.6     0.97984]]</td>\n            </tr>\n            <tr>\n                        <th id=\"T_ac81c_level0_row8\" class=\"row_heading level0 row8\" >8</th>\n                        <td id=\"T_ac81c_row8_col0\" class=\"data row8 col0\" >161</td>\n                        <td id=\"T_ac81c_row8_col1\" class=\"data row8 col1\" >[0.66377 0.72737]</td>\n                        <td id=\"T_ac81c_row8_col2\" class=\"data row8 col2\" >[0.10021]</td>\n                        <td id=\"T_ac81c_row8_col3\" class=\"data row8 col3\" >[[-1.4898  -1.65795]]</td>\n                        <td id=\"T_ac81c_row8_col4\" class=\"data row8 col4\" >[[0.2     0.3     0.68016]\n [0.5     0.6     0.98134]]</td>\n            </tr>\n            <tr>\n                        <th id=\"T_ac81c_level0_row9\" class=\"row_heading level0 row9\" >9</th>\n                        <td id=\"T_ac81c_row9_col0\" class=\"data row9 col0\" >162</td>\n                        <td id=\"T_ac81c_row9_col1\" class=\"data row9 col1\" >[0.66411 0.72767]</td>\n                        <td id=\"T_ac81c_row9_col2\" class=\"data row9 col2\" >[0.09973]</td>\n                        <td id=\"T_ac81c_row9_col3\" class=\"data row9 col3\" >[[-1.4928  -1.66124]]</td>\n                        <td id=\"T_ac81c_row9_col4\" class=\"data row9 col4\" >[[0.2     0.3     0.68166]\n [0.5     0.6     0.98283]]</td>\n            </tr>\n    </tbody></table>"
     },
     "metadata": {}
    },
    {
     "output_type": "stream",
     "name": "stdout",
     "text": [
      "\n\ninputs: [1, 0, 1]; target_outputs: [1]\n"
     ]
    },
    {
     "output_type": "display_data",
     "data": {
      "text/plain": "<pandas.io.formats.style.Styler at 0x1bf62565b80>",
      "text/html": "<style  type=\"text/css\" >\n</style><table id=\"T_0f67f_\" ><thead>    <tr>        <th class=\"blank level0\" ></th>        <th class=\"col_heading level0 col0\" >1.step</th>        <th class=\"col_heading level0 col1\" >2.actual_output_of_hus</th>        <th class=\"col_heading level0 col2\" >2.actual_output_of_ous</th>        <th class=\"col_heading level0 col3\" >3.weights_to_ous</th>        <th class=\"col_heading level0 col4\" >4.weights_to_hus</th>    </tr></thead><tbody>\n                <tr>\n                        <th id=\"T_0f67f_level0_row0\" class=\"row_heading level0 row0\" >0</th>\n                        <td id=\"T_0f67f_row0_col0\" class=\"data row0 col0\" >74</td>\n                        <td id=\"T_0f67f_row0_col1\" class=\"data row0 col1\" >[0.71705 0.81521]</td>\n                        <td id=\"T_0f67f_row0_col2\" class=\"data row0 col2\" >[0.89441]</td>\n                        <td id=\"T_0f67f_row0_col3\" class=\"data row0 col3\" >[[1.29776 1.47947]]</td>\n                        <td id=\"T_0f67f_row0_col4\" class=\"data row0 col4\" >[[0.36495 0.3     0.56495]\n [0.64213 0.6     0.84213]]</td>\n            </tr>\n            <tr>\n                        <th id=\"T_0f67f_level0_row1\" class=\"row_heading level0 row1\" >1</th>\n                        <td id=\"T_0f67f_row1_col0\" class=\"data row1 col0\" >75</td>\n                        <td id=\"T_0f67f_row1_col1\" class=\"data row1 col1\" >[0.71759 0.81555]</td>\n                        <td id=\"T_0f67f_row1_col2\" class=\"data row1 col2\" >[0.89508]</td>\n                        <td id=\"T_0f67f_row1_col3\" class=\"data row1 col3\" >[[1.30134 1.48354]]</td>\n                        <td id=\"T_0f67f_row1_col4\" class=\"data row1 col4\" >[[0.36626 0.3     0.56626]\n [0.64324 0.6     0.84324]]</td>\n            </tr>\n            <tr>\n                        <th id=\"T_0f67f_level0_row2\" class=\"row_heading level0 row2\" >2</th>\n                        <td id=\"T_0f67f_row2_col0\" class=\"data row2 col0\" >76</td>\n                        <td id=\"T_0f67f_row2_col1\" class=\"data row2 col1\" >[0.71811 0.81588]</td>\n                        <td id=\"T_0f67f_row2_col2\" class=\"data row2 col2\" >[0.89574]</td>\n                        <td id=\"T_0f67f_row2_col3\" class=\"data row2 col3\" >[[1.30487 1.48755]]</td>\n                        <td id=\"T_0f67f_row2_col4\" class=\"data row2 col4\" >[[0.36756 0.3     0.56756]\n [0.64434 0.6     0.84434]]</td>\n            </tr>\n            <tr>\n                        <th id=\"T_0f67f_level0_row3\" class=\"row_heading level0 row3\" >3</th>\n                        <td id=\"T_0f67f_row3_col0\" class=\"data row3 col0\" >77</td>\n                        <td id=\"T_0f67f_row3_col1\" class=\"data row3 col1\" >[0.71863 0.81621]</td>\n                        <td id=\"T_0f67f_row3_col2\" class=\"data row3 col2\" >[0.89638]</td>\n                        <td id=\"T_0f67f_row3_col3\" class=\"data row3 col3\" >[[1.30837 1.49153]]</td>\n                        <td id=\"T_0f67f_row3_col4\" class=\"data row3 col4\" >[[0.36885 0.3     0.56885]\n [0.64543 0.6     0.84543]]</td>\n            </tr>\n            <tr>\n                        <th id=\"T_0f67f_level0_row4\" class=\"row_heading level0 row4\" >4</th>\n                        <td id=\"T_0f67f_row4_col0\" class=\"data row4 col0\" >78</td>\n                        <td id=\"T_0f67f_row4_col1\" class=\"data row4 col1\" >[0.71915 0.81653]</td>\n                        <td id=\"T_0f67f_row4_col2\" class=\"data row4 col2\" >[0.89701]</td>\n                        <td id=\"T_0f67f_row4_col3\" class=\"data row4 col3\" >[[1.31183 1.49545]]</td>\n                        <td id=\"T_0f67f_row4_col4\" class=\"data row4 col4\" >[[0.37012 0.3     0.57012]\n [0.6465  0.6     0.8465 ]]</td>\n            </tr>\n            <tr>\n                        <th id=\"T_0f67f_level0_row5\" class=\"row_heading level0 row5\" >5</th>\n                        <td id=\"T_0f67f_row5_col0\" class=\"data row5 col0\" >79</td>\n                        <td id=\"T_0f67f_row5_col1\" class=\"data row5 col1\" >[0.71966 0.81685]</td>\n                        <td id=\"T_0f67f_row5_col2\" class=\"data row5 col2\" >[0.89764]</td>\n                        <td id=\"T_0f67f_row5_col3\" class=\"data row5 col3\" >[[1.31525 1.49934]]</td>\n                        <td id=\"T_0f67f_row5_col4\" class=\"data row5 col4\" >[[0.37138 0.3     0.57138]\n [0.64757 0.6     0.84757]]</td>\n            </tr>\n            <tr>\n                        <th id=\"T_0f67f_level0_row6\" class=\"row_heading level0 row6\" >6</th>\n                        <td id=\"T_0f67f_row6_col0\" class=\"data row6 col0\" >80</td>\n                        <td id=\"T_0f67f_row6_col1\" class=\"data row6 col1\" >[0.72016 0.81716]</td>\n                        <td id=\"T_0f67f_row6_col2\" class=\"data row6 col2\" >[0.89825]</td>\n                        <td id=\"T_0f67f_row6_col3\" class=\"data row6 col3\" >[[1.31863 1.50318]]</td>\n                        <td id=\"T_0f67f_row6_col4\" class=\"data row6 col4\" >[[0.37263 0.3     0.57263]\n [0.64862 0.6     0.84862]]</td>\n            </tr>\n            <tr>\n                        <th id=\"T_0f67f_level0_row7\" class=\"row_heading level0 row7\" >7</th>\n                        <td id=\"T_0f67f_row7_col0\" class=\"data row7 col0\" >81</td>\n                        <td id=\"T_0f67f_row7_col1\" class=\"data row7 col1\" >[0.72066 0.81748]</td>\n                        <td id=\"T_0f67f_row7_col2\" class=\"data row7 col2\" >[0.89886]</td>\n                        <td id=\"T_0f67f_row7_col3\" class=\"data row7 col3\" >[[1.32198 1.50698]]</td>\n                        <td id=\"T_0f67f_row7_col4\" class=\"data row7 col4\" >[[0.37386 0.3     0.57386]\n [0.64967 0.6     0.84967]]</td>\n            </tr>\n            <tr>\n                        <th id=\"T_0f67f_level0_row8\" class=\"row_heading level0 row8\" >8</th>\n                        <td id=\"T_0f67f_row8_col0\" class=\"data row8 col0\" >82</td>\n                        <td id=\"T_0f67f_row8_col1\" class=\"data row8 col1\" >[0.72115 0.81778]</td>\n                        <td id=\"T_0f67f_row8_col2\" class=\"data row8 col2\" >[0.89946]</td>\n                        <td id=\"T_0f67f_row8_col3\" class=\"data row8 col3\" >[[1.32529 1.51074]]</td>\n                        <td id=\"T_0f67f_row8_col4\" class=\"data row8 col4\" >[[0.37509 0.3     0.57509]\n [0.6507  0.6     0.8507 ]]</td>\n            </tr>\n            <tr>\n                        <th id=\"T_0f67f_level0_row9\" class=\"row_heading level0 row9\" >9</th>\n                        <td id=\"T_0f67f_row9_col0\" class=\"data row9 col0\" >83</td>\n                        <td id=\"T_0f67f_row9_col1\" class=\"data row9 col1\" >[0.72164 0.81809]</td>\n                        <td id=\"T_0f67f_row9_col2\" class=\"data row9 col2\" >[0.90004]</td>\n                        <td id=\"T_0f67f_row9_col3\" class=\"data row9 col3\" >[[1.32857 1.51446]]</td>\n                        <td id=\"T_0f67f_row9_col4\" class=\"data row9 col4\" >[[0.3763  0.3     0.5763 ]\n [0.65172 0.6     0.85172]]</td>\n            </tr>\n    </tbody></table>"
     },
     "metadata": {}
    },
    {
     "output_type": "stream",
     "name": "stdout",
     "text": [
      "\n\ninputs: [0, 1, 1]; target_outputs: [1]\n"
     ]
    },
    {
     "output_type": "display_data",
     "data": {
      "text/plain": "<pandas.io.formats.style.Styler at 0x1bf62565130>",
      "text/html": "<style  type=\"text/css\" >\n</style><table id=\"T_01075_\" ><thead>    <tr>        <th class=\"blank level0\" ></th>        <th class=\"col_heading level0 col0\" >1.step</th>        <th class=\"col_heading level0 col1\" >2.actual_output_of_hus</th>        <th class=\"col_heading level0 col2\" >2.actual_output_of_ous</th>        <th class=\"col_heading level0 col3\" >3.weights_to_ous</th>        <th class=\"col_heading level0 col4\" >4.weights_to_hus</th>    </tr></thead><tbody>\n                <tr>\n                        <th id=\"T_01075_level0_row0\" class=\"row_heading level0 row0\" >0</th>\n                        <td id=\"T_01075_row0_col0\" class=\"data row0 col0\" >72</td>\n                        <td id=\"T_01075_row0_col1\" class=\"data row0 col1\" >[0.73111 0.82541]</td>\n                        <td id=\"T_01075_row0_col2\" class=\"data row0 col2\" >[0.89489]</td>\n                        <td id=\"T_01075_row0_col3\" class=\"data row0 col3\" >[[1.28364 1.45766]]</td>\n                        <td id=\"T_01075_row0_col4\" class=\"data row0 col4\" >[[0.2     0.45014 0.55014]\n [0.5     0.72671 0.82671]]</td>\n            </tr>\n            <tr>\n                        <th id=\"T_01075_level0_row1\" class=\"row_heading level0 row1\" >1</th>\n                        <td id=\"T_01075_row1_col0\" class=\"data row1 col0\" >73</td>\n                        <td id=\"T_01075_row1_col1\" class=\"data row1 col1\" >[0.7316  0.82571]</td>\n                        <td id=\"T_01075_row1_col2\" class=\"data row1 col2\" >[0.89555]</td>\n                        <td id=\"T_01075_row1_col3\" class=\"data row1 col3\" >[[1.28725 1.46174]]</td>\n                        <td id=\"T_01075_row1_col4\" class=\"data row1 col4\" >[[0.2     0.45139 0.55139]\n [0.5     0.72775 0.82775]]</td>\n            </tr>\n            <tr>\n                        <th id=\"T_01075_level0_row2\" class=\"row_heading level0 row2\" >2</th>\n                        <td id=\"T_01075_row2_col0\" class=\"data row2 col0\" >74</td>\n                        <td id=\"T_01075_row2_col1\" class=\"data row2 col1\" >[0.73209 0.826  ]</td>\n                        <td id=\"T_01075_row2_col2\" class=\"data row2 col2\" >[0.8962]</td>\n                        <td id=\"T_01075_row2_col3\" class=\"data row2 col3\" >[[1.29083 1.46577]]</td>\n                        <td id=\"T_01075_row2_col4\" class=\"data row2 col4\" >[[0.2     0.45262 0.55262]\n [0.5     0.72878 0.82878]]</td>\n            </tr>\n            <tr>\n                        <th id=\"T_01075_level0_row3\" class=\"row_heading level0 row3\" >3</th>\n                        <td id=\"T_01075_row3_col0\" class=\"data row3 col0\" >75</td>\n                        <td id=\"T_01075_row3_col1\" class=\"data row3 col1\" >[0.73257 0.82629]</td>\n                        <td id=\"T_01075_row3_col2\" class=\"data row3 col2\" >[0.89685]</td>\n                        <td id=\"T_01075_row3_col3\" class=\"data row3 col3\" >[[1.29436 1.46976]]</td>\n                        <td id=\"T_01075_row3_col4\" class=\"data row3 col4\" >[[0.2     0.45384 0.55384]\n [0.5     0.7298  0.8298 ]]</td>\n            </tr>\n            <tr>\n                        <th id=\"T_01075_level0_row4\" class=\"row_heading level0 row4\" >4</th>\n                        <td id=\"T_01075_row4_col0\" class=\"data row4 col0\" >76</td>\n                        <td id=\"T_01075_row4_col1\" class=\"data row4 col1\" >[0.73304 0.82658]</td>\n                        <td id=\"T_01075_row4_col2\" class=\"data row4 col2\" >[0.89748]</td>\n                        <td id=\"T_01075_row4_col3\" class=\"data row4 col3\" >[[1.29786 1.4737 ]]</td>\n                        <td id=\"T_01075_row4_col4\" class=\"data row4 col4\" >[[0.2     0.45505 0.55505]\n [0.5     0.7308  0.8308 ]]</td>\n            </tr>\n            <tr>\n                        <th id=\"T_01075_level0_row5\" class=\"row_heading level0 row5\" >5</th>\n                        <td id=\"T_01075_row5_col0\" class=\"data row5 col0\" >77</td>\n                        <td id=\"T_01075_row5_col1\" class=\"data row5 col1\" >[0.73351 0.82687]</td>\n                        <td id=\"T_01075_row5_col2\" class=\"data row5 col2\" >[0.8981]</td>\n                        <td id=\"T_01075_row5_col3\" class=\"data row5 col3\" >[[1.30132 1.4776 ]]</td>\n                        <td id=\"T_01075_row5_col4\" class=\"data row5 col4\" >[[0.2     0.45625 0.55625]\n [0.5     0.7318  0.8318 ]]</td>\n            </tr>\n            <tr>\n                        <th id=\"T_01075_level0_row6\" class=\"row_heading level0 row6\" >6</th>\n                        <td id=\"T_01075_row6_col0\" class=\"data row6 col0\" >78</td>\n                        <td id=\"T_01075_row6_col1\" class=\"data row6 col1\" >[0.73397 0.82715]</td>\n                        <td id=\"T_01075_row6_col2\" class=\"data row6 col2\" >[0.89871]</td>\n                        <td id=\"T_01075_row6_col3\" class=\"data row6 col3\" >[[1.30474 1.48145]]</td>\n                        <td id=\"T_01075_row6_col4\" class=\"data row6 col4\" >[[0.2     0.45744 0.55744]\n [0.5     0.73278 0.83278]]</td>\n            </tr>\n            <tr>\n                        <th id=\"T_01075_level0_row7\" class=\"row_heading level0 row7\" >7</th>\n                        <td id=\"T_01075_row7_col0\" class=\"data row7 col0\" >79</td>\n                        <td id=\"T_01075_row7_col1\" class=\"data row7 col1\" >[0.73443 0.82743]</td>\n                        <td id=\"T_01075_row7_col2\" class=\"data row7 col2\" >[0.89932]</td>\n                        <td id=\"T_01075_row7_col3\" class=\"data row7 col3\" >[[1.30812 1.48527]]</td>\n                        <td id=\"T_01075_row7_col4\" class=\"data row7 col4\" >[[0.2     0.45861 0.55861]\n [0.5     0.73376 0.83376]]</td>\n            </tr>\n            <tr>\n                        <th id=\"T_01075_level0_row8\" class=\"row_heading level0 row8\" >8</th>\n                        <td id=\"T_01075_row8_col0\" class=\"data row8 col0\" >80</td>\n                        <td id=\"T_01075_row8_col1\" class=\"data row8 col1\" >[0.73489 0.82771]</td>\n                        <td id=\"T_01075_row8_col2\" class=\"data row8 col2\" >[0.89991]</td>\n                        <td id=\"T_01075_row8_col3\" class=\"data row8 col3\" >[[1.31147 1.48904]]</td>\n                        <td id=\"T_01075_row8_col4\" class=\"data row8 col4\" >[[0.2     0.45978 0.55978]\n [0.5     0.73473 0.83473]]</td>\n            </tr>\n            <tr>\n                        <th id=\"T_01075_level0_row9\" class=\"row_heading level0 row9\" >9</th>\n                        <td id=\"T_01075_row9_col0\" class=\"data row9 col0\" >81</td>\n                        <td id=\"T_01075_row9_col1\" class=\"data row9 col1\" >[0.73533 0.82798]</td>\n                        <td id=\"T_01075_row9_col2\" class=\"data row9 col2\" >[0.9005]</td>\n                        <td id=\"T_01075_row9_col3\" class=\"data row9 col3\" >[[1.31478 1.49277]]</td>\n                        <td id=\"T_01075_row9_col4\" class=\"data row9 col4\" >[[0.2     0.46093 0.56093]\n [0.5     0.73568 0.83568]]</td>\n            </tr>\n    </tbody></table>"
     },
     "metadata": {}
    },
    {
     "output_type": "stream",
     "name": "stdout",
     "text": [
      "\n\ninputs: [1, 1, 1]; target_outputs: [0]\n"
     ]
    },
    {
     "output_type": "display_data",
     "data": {
      "text/plain": "<pandas.io.formats.style.Styler at 0x1bf6268cd00>",
      "text/html": "<style  type=\"text/css\" >\n</style><table id=\"T_7cc53_\" ><thead>    <tr>        <th class=\"blank level0\" ></th>        <th class=\"col_heading level0 col0\" >1.step</th>        <th class=\"col_heading level0 col1\" >2.actual_output_of_hus</th>        <th class=\"col_heading level0 col2\" >2.actual_output_of_ous</th>        <th class=\"col_heading level0 col3\" >3.weights_to_ous</th>        <th class=\"col_heading level0 col4\" >4.weights_to_hus</th>    </tr></thead><tbody>\n                <tr>\n                        <th id=\"T_7cc53_level0_row0\" class=\"row_heading level0 row0\" >0</th>\n                        <td id=\"T_7cc53_row0_col0\" class=\"data row0 col0\" >109</td>\n                        <td id=\"T_7cc53_row0_col1\" class=\"data row0 col1\" >[0.75053 0.88578]</td>\n                        <td id=\"T_7cc53_row0_col2\" class=\"data row0 col2\" >[0.10616]</td>\n                        <td id=\"T_7cc53_row0_col3\" class=\"data row0 col3\" >[[-1.09062 -1.4812 ]]</td>\n                        <td id=\"T_7cc53_row0_col4\" class=\"data row0 col4\" >[[0.26714 0.36714 0.46714]\n [0.58279 0.68279 0.78279]]</td>\n            </tr>\n            <tr>\n                        <th id=\"T_7cc53_level0_row1\" class=\"row_heading level0 row1\" >1</th>\n                        <td id=\"T_7cc53_row1_col0\" class=\"data row1 col0\" >110</td>\n                        <td id=\"T_7cc53_row1_col1\" class=\"data row1 col1\" >[0.7511  0.88601]</td>\n                        <td id=\"T_7cc53_row1_col2\" class=\"data row1 col2\" >[0.10543]</td>\n                        <td id=\"T_7cc53_row1_col3\" class=\"data row1 col3\" >[[-1.0944  -1.48567]]</td>\n                        <td id=\"T_7cc53_row1_col4\" class=\"data row1 col4\" >[[0.26817 0.36817 0.46817]\n [0.58355 0.68355 0.78355]]</td>\n            </tr>\n            <tr>\n                        <th id=\"T_7cc53_level0_row2\" class=\"row_heading level0 row2\" >2</th>\n                        <td id=\"T_7cc53_row2_col0\" class=\"data row2 col0\" >111</td>\n                        <td id=\"T_7cc53_row2_col1\" class=\"data row2 col1\" >[0.75167 0.88624]</td>\n                        <td id=\"T_7cc53_row2_col2\" class=\"data row2 col2\" >[0.10471]</td>\n                        <td id=\"T_7cc53_row2_col3\" class=\"data row2 col3\" >[[-1.09814 -1.49007]]</td>\n                        <td id=\"T_7cc53_row2_col4\" class=\"data row2 col4\" >[[0.26919 0.36919 0.46919]\n [0.58429 0.68429 0.78429]]</td>\n            </tr>\n            <tr>\n                        <th id=\"T_7cc53_level0_row3\" class=\"row_heading level0 row3\" >3</th>\n                        <td id=\"T_7cc53_row3_col0\" class=\"data row3 col0\" >112</td>\n                        <td id=\"T_7cc53_row3_col1\" class=\"data row3 col1\" >[0.75224 0.88646]</td>\n                        <td id=\"T_7cc53_row3_col2\" class=\"data row3 col2\" >[0.104]</td>\n                        <td id=\"T_7cc53_row3_col3\" class=\"data row3 col3\" >[[-1.10183 -1.49442]]</td>\n                        <td id=\"T_7cc53_row3_col4\" class=\"data row3 col4\" >[[0.27019 0.37019 0.47019]\n [0.58503 0.68503 0.78503]]</td>\n            </tr>\n            <tr>\n                        <th id=\"T_7cc53_level0_row4\" class=\"row_heading level0 row4\" >4</th>\n                        <td id=\"T_7cc53_row4_col0\" class=\"data row4 col0\" >113</td>\n                        <td id=\"T_7cc53_row4_col1\" class=\"data row4 col1\" >[0.75279 0.88668]</td>\n                        <td id=\"T_7cc53_row4_col2\" class=\"data row4 col2\" >[0.1033]</td>\n                        <td id=\"T_7cc53_row4_col3\" class=\"data row4 col3\" >[[-1.10547 -1.49872]]</td>\n                        <td id=\"T_7cc53_row4_col4\" class=\"data row4 col4\" >[[0.27119 0.37119 0.47119]\n [0.58576 0.68576 0.78576]]</td>\n            </tr>\n            <tr>\n                        <th id=\"T_7cc53_level0_row5\" class=\"row_heading level0 row5\" >5</th>\n                        <td id=\"T_7cc53_row5_col0\" class=\"data row5 col0\" >114</td>\n                        <td id=\"T_7cc53_row5_col1\" class=\"data row5 col1\" >[0.75334 0.8869 ]</td>\n                        <td id=\"T_7cc53_row5_col2\" class=\"data row5 col2\" >[0.10262]</td>\n                        <td id=\"T_7cc53_row5_col3\" class=\"data row5 col3\" >[[-1.10907 -1.50296]]</td>\n                        <td id=\"T_7cc53_row5_col4\" class=\"data row5 col4\" >[[0.27217 0.37217 0.47217]\n [0.58648 0.68648 0.78648]]</td>\n            </tr>\n            <tr>\n                        <th id=\"T_7cc53_level0_row6\" class=\"row_heading level0 row6\" >6</th>\n                        <td id=\"T_7cc53_row6_col0\" class=\"data row6 col0\" >115</td>\n                        <td id=\"T_7cc53_row6_col1\" class=\"data row6 col1\" >[0.75388 0.88711]</td>\n                        <td id=\"T_7cc53_row6_col2\" class=\"data row6 col2\" >[0.10194]</td>\n                        <td id=\"T_7cc53_row6_col3\" class=\"data row6 col3\" >[[-1.11263 -1.50715]]</td>\n                        <td id=\"T_7cc53_row6_col4\" class=\"data row6 col4\" >[[0.27315 0.37315 0.47315]\n [0.58719 0.68719 0.78719]]</td>\n            </tr>\n            <tr>\n                        <th id=\"T_7cc53_level0_row7\" class=\"row_heading level0 row7\" >7</th>\n                        <td id=\"T_7cc53_row7_col0\" class=\"data row7 col0\" >116</td>\n                        <td id=\"T_7cc53_row7_col1\" class=\"data row7 col1\" >[0.75442 0.88732]</td>\n                        <td id=\"T_7cc53_row7_col2\" class=\"data row7 col2\" >[0.10128]</td>\n                        <td id=\"T_7cc53_row7_col3\" class=\"data row7 col3\" >[[-1.11615 -1.51129]]</td>\n                        <td id=\"T_7cc53_row7_col4\" class=\"data row7 col4\" >[[0.27411 0.37411 0.47411]\n [0.58789 0.68789 0.78789]]</td>\n            </tr>\n            <tr>\n                        <th id=\"T_7cc53_level0_row8\" class=\"row_heading level0 row8\" >8</th>\n                        <td id=\"T_7cc53_row8_col0\" class=\"data row8 col0\" >117</td>\n                        <td id=\"T_7cc53_row8_col1\" class=\"data row8 col1\" >[0.75495 0.88753]</td>\n                        <td id=\"T_7cc53_row8_col2\" class=\"data row8 col2\" >[0.10063]</td>\n                        <td id=\"T_7cc53_row8_col3\" class=\"data row8 col3\" >[[-1.11963 -1.51538]]</td>\n                        <td id=\"T_7cc53_row8_col4\" class=\"data row8 col4\" >[[0.27506 0.37506 0.47506]\n [0.58859 0.68859 0.78859]]</td>\n            </tr>\n            <tr>\n                        <th id=\"T_7cc53_level0_row9\" class=\"row_heading level0 row9\" >9</th>\n                        <td id=\"T_7cc53_row9_col0\" class=\"data row9 col0\" >118</td>\n                        <td id=\"T_7cc53_row9_col1\" class=\"data row9 col1\" >[0.75547 0.88774]</td>\n                        <td id=\"T_7cc53_row9_col2\" class=\"data row9 col2\" >[0.09999]</td>\n                        <td id=\"T_7cc53_row9_col3\" class=\"data row9 col3\" >[[-1.12307 -1.51942]]</td>\n                        <td id=\"T_7cc53_row9_col4\" class=\"data row9 col4\" >[[0.27601 0.37601 0.47601]\n [0.58928 0.68928 0.78928]]</td>\n            </tr>\n    </tbody></table>"
     },
     "metadata": {}
    },
    {
     "output_type": "stream",
     "name": "stdout",
     "text": [
      "{'inputs_list': [[1, 0]],\n 'learning_coef': 0.5,\n 'lower_margin': 0.1,\n 'target_outputs_list': [[1, 0]],\n 'upper_margin': 0.9,\n 'weights_to_hidden_units': [[0.2, 0.5], [0.3, 0.6], [0.4, 0.7]],\n 'weights_to_output_units': [[0.8, 0.9, 0.1], [0.25, 0.35, 0.15]]}\n\n\ninputs: [1, 0]; target_outputs: [1, 0]\n"
     ]
    },
    {
     "output_type": "display_data",
     "data": {
      "text/plain": "<pandas.io.formats.style.Styler at 0x1bf626991f0>",
      "text/html": "<style  type=\"text/css\" >\n</style><table id=\"T_09913_\" ><thead>    <tr>        <th class=\"blank level0\" ></th>        <th class=\"col_heading level0 col0\" >1.step</th>        <th class=\"col_heading level0 col1\" >2.actual_output_of_hus</th>        <th class=\"col_heading level0 col2\" >2.actual_output_of_ous</th>        <th class=\"col_heading level0 col3\" >3.weights_to_ous</th>        <th class=\"col_heading level0 col4\" >4.weights_to_hus</th>    </tr></thead><tbody>\n                <tr>\n                        <th id=\"T_09913_level0_row0\" class=\"row_heading level0 row0\" >0</th>\n                        <td id=\"T_09913_row0_col0\" class=\"data row0 col0\" >100</td>\n                        <td id=\"T_09913_row0_col1\" class=\"data row0 col1\" >[0.6521  0.6694  0.67654]</td>\n                        <td id=\"T_09913_row0_col2\" class=\"data row0 col2\" >[0.91265 0.10605]</td>\n                        <td id=\"T_09913_row0_col3\" class=\"data row0 col3\" >[[ 1.35937  1.47876  0.69495]\n [-1.0224  -0.96801 -1.20767]]</td>\n                        <td id=\"T_09913_row0_col4\" class=\"data row0 col4\" >[[0.6283  0.5    ]\n [0.70545 0.6    ]\n [0.73791 0.7    ]]</td>\n            </tr>\n            <tr>\n                        <th id=\"T_09913_level0_row1\" class=\"row_heading level0 row1\" >1</th>\n                        <td id=\"T_09913_row1_col0\" class=\"data row1 col0\" >101</td>\n                        <td id=\"T_09913_row1_col1\" class=\"data row1 col1\" >[0.65261 0.66989 0.67695]</td>\n                        <td id=\"T_09913_row1_col2\" class=\"data row1 col2\" >[0.91316 0.10528]</td>\n                        <td id=\"T_09913_row1_col3\" class=\"data row1 col3\" >[[ 1.36164  1.48109  0.6973 ]\n [-1.02567 -0.97138 -1.21107]]</td>\n                        <td id=\"T_09913_row1_col4\" class=\"data row1 col4\" >[[0.63054 0.5    ]\n [0.70767 0.6    ]\n [0.73977 0.7    ]]</td>\n            </tr>\n            <tr>\n                        <th id=\"T_09913_level0_row2\" class=\"row_heading level0 row2\" >2</th>\n                        <td id=\"T_09913_row2_col0\" class=\"data row2 col0\" >102</td>\n                        <td id=\"T_09913_row2_col1\" class=\"data row2 col1\" >[0.65311 0.67037 0.67735]</td>\n                        <td id=\"T_09913_row2_col2\" class=\"data row2 col2\" >[0.91365 0.10452]</td>\n                        <td id=\"T_09913_row2_col3\" class=\"data row2 col3\" >[[ 1.36389  1.48339  0.69963]\n [-1.02891 -0.9747  -1.21443]]</td>\n                        <td id=\"T_09913_row2_col4\" class=\"data row2 col4\" >[[0.63275 0.5    ]\n [0.70986 0.6    ]\n [0.74161 0.7    ]]</td>\n            </tr>\n            <tr>\n                        <th id=\"T_09913_level0_row3\" class=\"row_heading level0 row3\" >3</th>\n                        <td id=\"T_09913_row3_col0\" class=\"data row3 col0\" >103</td>\n                        <td id=\"T_09913_row3_col1\" class=\"data row3 col1\" >[0.65361 0.67085 0.67775]</td>\n                        <td id=\"T_09913_row3_col2\" class=\"data row3 col2\" >[0.91414 0.10377]</td>\n                        <td id=\"T_09913_row3_col3\" class=\"data row3 col3\" >[[ 1.36611  1.48568  0.70194]\n [-1.0321  -0.97798 -1.21774]]</td>\n                        <td id=\"T_09913_row3_col4\" class=\"data row3 col4\" >[[0.63495 0.5    ]\n [0.71203 0.6    ]\n [0.74343 0.7    ]]</td>\n            </tr>\n            <tr>\n                        <th id=\"T_09913_level0_row4\" class=\"row_heading level0 row4\" >4</th>\n                        <td id=\"T_09913_row4_col0\" class=\"data row4 col0\" >104</td>\n                        <td id=\"T_09913_row4_col1\" class=\"data row4 col1\" >[0.6541  0.67132 0.67814]</td>\n                        <td id=\"T_09913_row4_col2\" class=\"data row4 col2\" >[0.91463 0.10304]</td>\n                        <td id=\"T_09913_row4_col3\" class=\"data row4 col3\" >[[ 1.36831  1.48794  0.70422]\n [-1.03526 -0.98122 -1.22101]]</td>\n                        <td id=\"T_09913_row4_col4\" class=\"data row4 col4\" >[[0.63712 0.5    ]\n [0.71418 0.6    ]\n [0.74523 0.7    ]]</td>\n            </tr>\n            <tr>\n                        <th id=\"T_09913_level0_row5\" class=\"row_heading level0 row5\" >5</th>\n                        <td id=\"T_09913_row5_col0\" class=\"data row5 col0\" >105</td>\n                        <td id=\"T_09913_row5_col1\" class=\"data row5 col1\" >[0.65459 0.67179 0.67853]</td>\n                        <td id=\"T_09913_row5_col2\" class=\"data row5 col2\" >[0.9151  0.10232]</td>\n                        <td id=\"T_09913_row5_col3\" class=\"data row5 col3\" >[[ 1.37049  1.49017  0.70648]\n [-1.03837 -0.98441 -1.22424]]</td>\n                        <td id=\"T_09913_row5_col4\" class=\"data row5 col4\" >[[0.63926 0.5    ]\n [0.71631 0.6    ]\n [0.74701 0.7    ]]</td>\n            </tr>\n            <tr>\n                        <th id=\"T_09913_level0_row6\" class=\"row_heading level0 row6\" >6</th>\n                        <td id=\"T_09913_row6_col0\" class=\"data row6 col0\" >106</td>\n                        <td id=\"T_09913_row6_col1\" class=\"data row6 col1\" >[0.65507 0.67226 0.67891]</td>\n                        <td id=\"T_09913_row6_col2\" class=\"data row6 col2\" >[0.91557 0.10161]</td>\n                        <td id=\"T_09913_row6_col3\" class=\"data row6 col3\" >[[ 1.37265  1.49239  0.70872]\n [-1.04145 -0.98757 -1.22743]]</td>\n                        <td id=\"T_09913_row6_col4\" class=\"data row6 col4\" >[[0.64139 0.5    ]\n [0.71841 0.6    ]\n [0.74877 0.7    ]]</td>\n            </tr>\n            <tr>\n                        <th id=\"T_09913_level0_row7\" class=\"row_heading level0 row7\" >7</th>\n                        <td id=\"T_09913_row7_col0\" class=\"data row7 col0\" >107</td>\n                        <td id=\"T_09913_row7_col1\" class=\"data row7 col1\" >[0.65554 0.67272 0.67929]</td>\n                        <td id=\"T_09913_row7_col2\" class=\"data row7 col2\" >[0.91603 0.10092]</td>\n                        <td id=\"T_09913_row7_col3\" class=\"data row7 col3\" >[[ 1.37479  1.49458  0.71094]\n [-1.04449 -0.99069 -1.23058]]</td>\n                        <td id=\"T_09913_row7_col4\" class=\"data row7 col4\" >[[0.64349 0.5    ]\n [0.72049 0.6    ]\n [0.75052 0.7    ]]</td>\n            </tr>\n            <tr>\n                        <th id=\"T_09913_level0_row8\" class=\"row_heading level0 row8\" >8</th>\n                        <td id=\"T_09913_row8_col0\" class=\"data row8 col0\" >108</td>\n                        <td id=\"T_09913_row8_col1\" class=\"data row8 col1\" >[0.65601 0.67317 0.67967]</td>\n                        <td id=\"T_09913_row8_col2\" class=\"data row8 col2\" >[0.91649 0.10023]</td>\n                        <td id=\"T_09913_row8_col3\" class=\"data row8 col3\" >[[ 1.37691  1.49676  0.71313]\n [-1.04749 -0.99377 -1.23369]]</td>\n                        <td id=\"T_09913_row8_col4\" class=\"data row8 col4\" >[[0.64557 0.5    ]\n [0.72255 0.6    ]\n [0.75225 0.7    ]]</td>\n            </tr>\n            <tr>\n                        <th id=\"T_09913_level0_row9\" class=\"row_heading level0 row9\" >9</th>\n                        <td id=\"T_09913_row9_col0\" class=\"data row9 col0\" >109</td>\n                        <td id=\"T_09913_row9_col1\" class=\"data row9 col1\" >[0.65648 0.67362 0.68004]</td>\n                        <td id=\"T_09913_row9_col2\" class=\"data row9 col2\" >[0.91693 0.09956]</td>\n                        <td id=\"T_09913_row9_col3\" class=\"data row9 col3\" >[[ 1.379    1.49891  0.7153 ]\n [-1.05045 -0.99681 -1.23676]]</td>\n                        <td id=\"T_09913_row9_col4\" class=\"data row9 col4\" >[[0.64764 0.5    ]\n [0.72459 0.6    ]\n [0.75396 0.7    ]]</td>\n            </tr>\n    </tbody></table>"
     },
     "metadata": {}
    }
   ],
   "source": [
    "for data in dataset:\n",
    "    pp.pprint(data)\n",
    "    # https://www.geeksforgeeks.org/display-the-pandas-dataframe-in-table-style/\n",
    "    log = bpa(data, 1000, 5)\n",
    "    for sub_log in log:\n",
    "        print(f\"\\n\\ninputs: {sub_log['inputs']}; target_outputs: {sub_log['target_outputs']}\")\n",
    "        # df = pd.DataFrame(sub_log['training'][:10])\n",
    "        df = pd.DataFrame(sub_log['training'][-10:])\n",
    "        # displaying the DataFrame\n",
    "        display(df.style)"
   ]
  },
  {
   "cell_type": "code",
   "execution_count": 17,
   "metadata": {},
   "outputs": [],
   "source": [
    "def bpa_out_to_in(dataset, num_epochs = 1, roundup = 4):\n",
    "    log = []\n",
    "\n",
    "    epoch = 0\n",
    "    weights_to_hus = copy.deepcopy(dataset['weights_to_hidden_units'])\n",
    "    weights_to_ous = copy.deepcopy(dataset['weights_to_output_units'])\n",
    "    target_outputs = copy.deepcopy(dataset['target_outputs_list'])\n",
    "\n",
    "    while epoch <= num_epochs:\n",
    "        actual_outputs_of_ous = []*len(target_outputs)\n",
    "        actual_outputs_of_hus = []*len(target_outputs)\n",
    "        \n",
    "        for i, inputs in enumerate(dataset['inputs_list']):\n",
    "            actual_output_of_hus = []\n",
    "            for weights_to_hu in weights_to_hus:\n",
    "                actual_output_of_hus.append(actual_output(weighted_sum(inputs, weights_to_hu)))\n",
    "            \n",
    "            actual_output_of_ous = []\n",
    "            for weights_to_ou in weights_to_ous:\n",
    "                actual_output_of_ous.append(actual_output(weighted_sum(actual_output_of_hus, weights_to_ou)))\n",
    "\n",
    "            temp_weights_to_ous = copy.deepcopy(weights_to_ous)\n",
    "            delta_ous = []\n",
    "            for k, actual_output_of_ou in enumerate(actual_output_of_ous):\n",
    "                delta_ous.append(delta_ou(target_outputs[i][k], actual_output_of_ou))\n",
    "                for j, actual_output_of_hu in enumerate(actual_output_of_hus):\n",
    "                    weights_to_ous[k][j] = new_weight_to_ou(weights_to_ous[k][j], dataset['learning_coef'], delta_ous[k], actual_output_of_hu)\n",
    "\n",
    "            # print(f'delta_ous: {delta_ous}')\n",
    "            # print(f'weights_to_ous: {weights_to_ous}')\n",
    "\n",
    "            delta_hus = []\n",
    "            for j, actual_output_of_hu in enumerate(actual_output_of_hus):\n",
    "                temp_delta_hu = 0\n",
    "                for k, actual_output_of_ou in enumerate(actual_output_of_ous):\n",
    "                    temp_delta_hu += delta_hu(delta_ous[k], temp_weights_to_ous[k][j], actual_output_of_hu)\n",
    "                delta_hus.append(temp_delta_hu)\n",
    "\n",
    "            for j, actual_output_of_hu in enumerate(actual_output_of_hus):\n",
    "                for i, input in enumerate(inputs):\n",
    "                    weights_to_hus[j][i] = new_weight_to_hu(weights_to_hus[j][i], dataset['learning_coef'], delta_hus[j], input)\n",
    "            \n",
    "            # print(f'delta_hus: {delta_hus}')\n",
    "            # print(f'weights_to_hus: {weights_to_hus}')\n",
    "\n",
    "            actual_outputs_of_ous.append(actual_output_of_ous)\n",
    "            actual_outputs_of_hus.append(actual_output_of_hus)\n",
    "        \n",
    "        sub_log = {}\n",
    "        sub_log.update({\"1.epoch\": epoch})\n",
    "        # sub_log.update({\"2.inputs\": np.round(inputs, roundup)})\n",
    "        sub_log.update({\"2.target_outputs\": np.round(target_outputs, roundup)})\n",
    "        # sub_log.update({\"2.actual_outputs_of_hus\": np.round(actual_outputs_of_hus, roundup)})\n",
    "        sub_log.update({\"2.actual_outputs\": np.round(actual_outputs_of_ous, roundup)})\n",
    "        sub_log.update({\"3.weights_to_output_units\": np.round(weights_to_ous, roundup)})\n",
    "        sub_log.update({\"4.weights_to_hidden_units\": np.round(weights_to_hus, roundup)})\n",
    "        log.append(sub_log)\n",
    "\n",
    "        \n",
    "        if terminate_training(actual_output_of_ous, target_outputs, dataset['lower_margin'], dataset['upper_margin']): break\n",
    "        \n",
    "        epoch += 1\n",
    "    return log"
   ]
  },
  {
   "cell_type": "code",
   "execution_count": 20,
   "metadata": {},
   "outputs": [
    {
     "output_type": "stream",
     "name": "stdout",
     "text": [
      "{'inputs_list': [[0, 0, 0],\n                 [1, 0, 0],\n                 [0, 1, 0],\n                 [1, 1, 0],\n                 [0, 0, 1],\n                 [1, 0, 1],\n                 [0, 1, 1],\n                 [1, 1, 1]],\n 'learning_coef': 0.5,\n 'lower_margin': 0.1,\n 'target_outputs_list': [[0], [1], [1], [0], [0], [1], [1], [0]],\n 'upper_margin': 0.9,\n 'weights_to_hidden_units': [[0.2, 0.3, 0.4], [0.5, 0.6, 0.7]],\n 'weights_to_output_units': [[0.8, 0.9]]}\n"
     ]
    },
    {
     "output_type": "display_data",
     "data": {
      "text/plain": "<pandas.io.formats.style.Styler at 0x1bf60573850>",
      "text/html": "<style  type=\"text/css\" >\n</style><table id=\"T_e321c_\" ><thead>    <tr>        <th class=\"blank level0\" ></th>        <th class=\"col_heading level0 col0\" >1.epoch</th>        <th class=\"col_heading level0 col1\" >2.target_outputs</th>        <th class=\"col_heading level0 col2\" >2.actual_outputs_of_ous</th>        <th class=\"col_heading level0 col3\" >3.weights_to_ous</th>    </tr></thead><tbody>\n                <tr>\n                        <th id=\"T_e321c_level0_row0\" class=\"row_heading level0 row0\" >0</th>\n                        <td id=\"T_e321c_row0_col0\" class=\"data row0 col0\" >99996</td>\n                        <td id=\"T_e321c_row0_col1\" class=\"data row0 col1\" >[[0]\n [1]\n [1]\n [0]\n [0]\n [1]\n [1]\n [0]]</td>\n                        <td id=\"T_e321c_row0_col2\" class=\"data row0 col2\" >[[0.02772]\n [0.88738]\n [0.88702]\n [0.52534]\n [0.00095]\n [0.93871]\n [0.93912]\n [0.53398]]</td>\n                        <td id=\"T_e321c_row0_col3\" class=\"data row0 col3\" >[[-53.97289  46.85773]]</td>\n            </tr>\n            <tr>\n                        <th id=\"T_e321c_level0_row1\" class=\"row_heading level0 row1\" >1</th>\n                        <td id=\"T_e321c_row1_col0\" class=\"data row1 col0\" >99997</td>\n                        <td id=\"T_e321c_row1_col1\" class=\"data row1 col1\" >[[0]\n [1]\n [1]\n [0]\n [0]\n [1]\n [1]\n [0]]</td>\n                        <td id=\"T_e321c_row1_col2\" class=\"data row1 col2\" >[[0.02772]\n [0.88738]\n [0.88702]\n [0.52534]\n [0.00095]\n [0.93871]\n [0.93912]\n [0.53398]]</td>\n                        <td id=\"T_e321c_row1_col3\" class=\"data row1 col3\" >[[-53.97308  46.85791]]</td>\n            </tr>\n            <tr>\n                        <th id=\"T_e321c_level0_row2\" class=\"row_heading level0 row2\" >2</th>\n                        <td id=\"T_e321c_row2_col0\" class=\"data row2 col0\" >99998</td>\n                        <td id=\"T_e321c_row2_col1\" class=\"data row2 col1\" >[[0]\n [1]\n [1]\n [0]\n [0]\n [1]\n [1]\n [0]]</td>\n                        <td id=\"T_e321c_row2_col2\" class=\"data row2 col2\" >[[0.02772]\n [0.88738]\n [0.88702]\n [0.52534]\n [0.00095]\n [0.93871]\n [0.93912]\n [0.53398]]</td>\n                        <td id=\"T_e321c_row2_col3\" class=\"data row2 col3\" >[[-53.97326  46.85809]]</td>\n            </tr>\n            <tr>\n                        <th id=\"T_e321c_level0_row3\" class=\"row_heading level0 row3\" >3</th>\n                        <td id=\"T_e321c_row3_col0\" class=\"data row3 col0\" >99999</td>\n                        <td id=\"T_e321c_row3_col1\" class=\"data row3 col1\" >[[0]\n [1]\n [1]\n [0]\n [0]\n [1]\n [1]\n [0]]</td>\n                        <td id=\"T_e321c_row3_col2\" class=\"data row3 col2\" >[[0.02772]\n [0.88738]\n [0.88702]\n [0.52534]\n [0.00095]\n [0.93871]\n [0.93912]\n [0.53398]]</td>\n                        <td id=\"T_e321c_row3_col3\" class=\"data row3 col3\" >[[-53.97345  46.85827]]</td>\n            </tr>\n            <tr>\n                        <th id=\"T_e321c_level0_row4\" class=\"row_heading level0 row4\" >4</th>\n                        <td id=\"T_e321c_row4_col0\" class=\"data row4 col0\" >100000</td>\n                        <td id=\"T_e321c_row4_col1\" class=\"data row4 col1\" >[[0]\n [1]\n [1]\n [0]\n [0]\n [1]\n [1]\n [0]]</td>\n                        <td id=\"T_e321c_row4_col2\" class=\"data row4 col2\" >[[0.02772]\n [0.88738]\n [0.88702]\n [0.52534]\n [0.00095]\n [0.93871]\n [0.93912]\n [0.53398]]</td>\n                        <td id=\"T_e321c_row4_col3\" class=\"data row4 col3\" >[[-53.97364  46.85845]]</td>\n            </tr>\n    </tbody></table>"
     },
     "metadata": {}
    }
   ],
   "source": [
    "for data in dataset:\n",
    "    pp.pprint(data)\n",
    "    log = bpa_out_to_in(data, 100000, 5)\n",
    "    # df = pd.DataFrame(log[:10])\n",
    "    df = pd.DataFrame(log[-5:])\n",
    "    # df = pd.DataFrame([log])\n",
    "    display(df.style)\n",
    "    break"
   ]
  },
  {
   "cell_type": "code",
   "execution_count": null,
   "metadata": {},
   "outputs": [],
   "source": []
  }
 ]
}