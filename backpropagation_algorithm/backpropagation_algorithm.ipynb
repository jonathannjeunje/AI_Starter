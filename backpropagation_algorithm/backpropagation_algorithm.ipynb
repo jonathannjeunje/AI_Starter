{
 "metadata": {
  "language_info": {
   "codemirror_mode": {
    "name": "ipython",
    "version": 3
   },
   "file_extension": ".py",
   "mimetype": "text/x-python",
   "name": "python",
   "nbconvert_exporter": "python",
   "pygments_lexer": "ipython3",
   "version": "3.7.3-final"
  },
  "orig_nbformat": 2,
  "kernelspec": {
   "name": "python3",
   "display_name": "Python 3",
   "language": "python"
  }
 },
 "nbformat": 4,
 "nbformat_minor": 2,
 "cells": [
  {
   "source": [
    "# Backpropagation Algorithm"
   ],
   "cell_type": "markdown",
   "metadata": {}
  },
  {
   "cell_type": "code",
   "execution_count": 198,
   "metadata": {},
   "outputs": [],
   "source": [
    "import pandas as pd\n",
    "import json\n",
    "import pprint as pp\n",
    "import math\n",
    "import copy\n",
    "from IPython.display import display \n",
    "import numpy as np"
   ]
  },
  {
   "cell_type": "code",
   "execution_count": 200,
   "metadata": {},
   "outputs": [],
   "source": [
    "def weighted_sum(values, weights):\n",
    "    res = 0\n",
    "    for value, weight in zip(values, weights):\n",
    "        res += value * weight\n",
    "    return res"
   ]
  },
  {
   "cell_type": "code",
   "execution_count": 201,
   "metadata": {},
   "outputs": [],
   "source": [
    "def actual_output(weighted_sum): \n",
    "    return 1/(1 + math.exp(-weighted_sum))"
   ]
  },
  {
   "cell_type": "code",
   "execution_count": 202,
   "metadata": {},
   "outputs": [],
   "source": [
    "def delta_ou(target_output, actual_output_ou):\n",
    "    return (target_output - actual_output_ou) * actual_output_ou * (1-actual_output_ou)"
   ]
  },
  {
   "cell_type": "code",
   "execution_count": 203,
   "metadata": {},
   "outputs": [],
   "source": [
    "def new_weight_to_ou(weight_to_ou, learning_coef, delta_ou, actual_output_hu):\n",
    "    return weight_to_ou + learning_coef * delta_ou * actual_output_hu"
   ]
  },
  {
   "cell_type": "code",
   "execution_count": 204,
   "metadata": {},
   "outputs": [],
   "source": [
    "def delta_hu(delta_ou, weight_to_ou, actual_output_hu):\n",
    "        return delta_ou * weight_to_ou * actual_output_hu * (1 - actual_output_hu) "
   ]
  },
  {
   "cell_type": "code",
   "execution_count": 205,
   "metadata": {},
   "outputs": [],
   "source": [
    "def new_weight_to_hu(weight_to_hu, learning_coef, delta_hu, value_iu):\n",
    "    return weight_to_hu + learning_coef * delta_hu * value_iu"
   ]
  },
  {
   "cell_type": "code",
   "execution_count": 206,
   "metadata": {},
   "outputs": [],
   "source": [
    "def terminate_training(actual_outputs_of_ou, target_outputs, lower_margin, upper_margin):\n",
    "    for i, target_output in enumerate(target_outputs):\n",
    "        if target_output == 1:\n",
    "            if not actual_outputs_of_ou[i] >= upper_margin:\n",
    "                return False\n",
    "        else:\n",
    "            if not actual_outputs_of_ou[i] <= lower_margin:\n",
    "                return False\n",
    "    return True"
   ]
  },
  {
   "cell_type": "code",
   "execution_count": 266,
   "metadata": {},
   "outputs": [],
   "source": [
    "def bpa(dataset, num_steps = 1, roundup = 4):\n",
    "    log = []\n",
    "\n",
    "    for i, inputs in enumerate(dataset['inputs_list']):\n",
    "        \n",
    "        weights_to_hus = copy.deepcopy(dataset['weights_to_hidden_units'])\n",
    "        weights_to_ous = copy.deepcopy(dataset['weights_to_output_units'])\n",
    "        target_outputs = copy.deepcopy(dataset['target_outputs_list'][i])\n",
    "\n",
    "        sub_log = []\n",
    "        step = 0\n",
    "        while step <= num_steps:\n",
    "            actual_output_of_hus = []\n",
    "            for weights_to_hu in weights_to_hus:\n",
    "                actual_output_of_hus.append(actual_output(weighted_sum(inputs, weights_to_hu)))\n",
    "            \n",
    "            actual_output_of_ous = []\n",
    "            for weights_to_ou in weights_to_ous:\n",
    "                actual_output_of_ous.append(actual_output(weighted_sum(actual_output_of_hus, weights_to_ou)))\n",
    "\n",
    "            sub_sub_log = {}\n",
    "            sub_sub_log.update({\"1.step\": step})\n",
    "            sub_sub_log.update({\"2.actual_output_of_hus\": np.round(actual_output_of_hus, roundup)})\n",
    "            sub_sub_log.update({\"2.actual_output_of_ous\": np.round(actual_output_of_ous, roundup)})\n",
    "            sub_sub_log.update({\"3.weights_to_ous\": np.round(weights_to_ous, roundup)})\n",
    "            sub_sub_log.update({\"4.weights_to_hus\": np.round(weights_to_hus, roundup)})\n",
    "            sub_log.append(sub_sub_log)\n",
    "\n",
    "            \n",
    "            trained = terminate_training(actual_output_of_ous, target_outputs, dataset['lower_margin'], dataset['upper_margin'])\n",
    "            if trained:\n",
    "                # print('The training is complete.')\n",
    "                break\n",
    "            else:\n",
    "                temp_weights_to_ous = copy.deepcopy(weights_to_ous)\n",
    "\n",
    "                delta_ous = []\n",
    "                for k, actual_output_of_ou in enumerate(actual_output_of_ous):\n",
    "                    delta_ous.append(delta_ou(target_outputs[k], actual_output_of_ou))\n",
    "                    \n",
    "                    for j, actual_output_of_hu in enumerate(actual_output_of_hus):\n",
    "                        weights_to_ous[k][j] = new_weight_to_ou(weights_to_ous[k][j], dataset['learning_coef'], delta_ous[k], actual_output_of_hu)\n",
    "\n",
    "                # print(f'delta_ous: {delta_ous}')\n",
    "                # print(f'weights_to_ous: {weights_to_ous}')\n",
    "\n",
    "                delta_hus = []\n",
    "                for j, actual_output_of_hu in enumerate(actual_output_of_hus):\n",
    "                    temp_delta_hu = 0\n",
    "                    for k, actual_output_of_ou in enumerate(actual_output_of_ous):\n",
    "                        temp_delta_hu += delta_hu(delta_ous[k], temp_weights_to_ous[k][j], actual_output_of_hu)\n",
    "                    delta_hus.append(temp_delta_hu)\n",
    "\n",
    "                for j, actual_output_of_hu in enumerate(actual_output_of_hus):\n",
    "                    for i, input in enumerate(inputs):\n",
    "                        weights_to_hus[j][i] = new_weight_to_hu(weights_to_hus[j][i], dataset['learning_coef'], delta_hus[j], input)\n",
    "                \n",
    "                # print(f'delta_hus: {delta_hus}')\n",
    "                # print(f'weights_to_hus: {weights_to_hus}')\n",
    "            \n",
    "            step += 1\n",
    "        log.append({\"inputs\": inputs, \"target_outputs\": target_outputs, \"training\": sub_log})\n",
    "        # break #only on input\n",
    "    return log"
   ]
  },
  {
   "cell_type": "code",
   "execution_count": 267,
   "metadata": {},
   "outputs": [],
   "source": [
    "with open('dataset.json', 'r') as file:\n",
    "    dataset = json.load(file)"
   ]
  },
  {
   "cell_type": "code",
   "execution_count": 269,
   "metadata": {},
   "outputs": [
    {
     "output_type": "stream",
     "name": "stdout",
     "text": [
      "{'inputs_list': [[0, 0, 0],\n                 [1, 0, 0],\n                 [0, 1, 0],\n                 [1, 1, 0],\n                 [0, 0, 1],\n                 [1, 0, 1],\n                 [0, 1, 1],\n                 [1, 1, 1]],\n 'learning_coef': 0.5,\n 'lower_margin': 0.1,\n 'target_outputs_list': [[0], [1], [1], [0], [0], [1], [1], [0]],\n 'upper_margin': 0.9,\n 'weights_to_hidden_units': [[0.2, 0.3, 0.4], [0.5, 0.6, 0.7]],\n 'weights_to_output_units': [[0.8, 0.9]]}\n\n\ninputs: [0, 0, 0]; target_outputs: [0]\n"
     ]
    },
    {
     "output_type": "display_data",
     "data": {
      "text/plain": "<pandas.io.formats.style.Styler at 0x2889f3af1d0>",
      "text/html": "<style  type=\"text/css\" >\n</style><table id=\"T_3d077530_70e2_11eb_b26c_00bb607d38d0\" ><thead>    <tr>        <th class=\"blank level0\" ></th>        <th class=\"col_heading level0 col0\" >1.step</th>        <th class=\"col_heading level0 col1\" >2.actual_output_of_hus</th>        <th class=\"col_heading level0 col2\" >2.actual_output_of_ous</th>        <th class=\"col_heading level0 col3\" >3.weights_to_ous</th>        <th class=\"col_heading level0 col4\" >4.weights_to_hus</th>    </tr></thead><tbody>\n                <tr>\n                        <th id=\"T_3d077530_70e2_11eb_b26c_00bb607d38d0level0_row0\" class=\"row_heading level0 row0\" >0</th>\n                        <td id=\"T_3d077530_70e2_11eb_b26c_00bb607d38d0row0_col0\" class=\"data row0 col0\" >0</td>\n                        <td id=\"T_3d077530_70e2_11eb_b26c_00bb607d38d0row0_col1\" class=\"data row0 col1\" >[0.5 0.5]</td>\n                        <td id=\"T_3d077530_70e2_11eb_b26c_00bb607d38d0row0_col2\" class=\"data row0 col2\" >[0.70057]</td>\n                        <td id=\"T_3d077530_70e2_11eb_b26c_00bb607d38d0row0_col3\" class=\"data row0 col3\" >[[0.8 0.9]]</td>\n                        <td id=\"T_3d077530_70e2_11eb_b26c_00bb607d38d0row0_col4\" class=\"data row0 col4\" >[[0.2 0.3 0.4]\n [0.5 0.6 0.7]]</td>\n            </tr>\n            <tr>\n                        <th id=\"T_3d077530_70e2_11eb_b26c_00bb607d38d0level0_row1\" class=\"row_heading level0 row1\" >1</th>\n                        <td id=\"T_3d077530_70e2_11eb_b26c_00bb607d38d0row1_col0\" class=\"data row1 col0\" >1</td>\n                        <td id=\"T_3d077530_70e2_11eb_b26c_00bb607d38d0row1_col1\" class=\"data row1 col1\" >[0.5 0.5]</td>\n                        <td id=\"T_3d077530_70e2_11eb_b26c_00bb607d38d0row1_col2\" class=\"data row1 col2\" >[0.6928]</td>\n                        <td id=\"T_3d077530_70e2_11eb_b26c_00bb607d38d0row1_col3\" class=\"data row1 col3\" >[[0.76326 0.86326]]</td>\n                        <td id=\"T_3d077530_70e2_11eb_b26c_00bb607d38d0row1_col4\" class=\"data row1 col4\" >[[0.2 0.3 0.4]\n [0.5 0.6 0.7]]</td>\n            </tr>\n    </tbody></table>"
     },
     "metadata": {}
    },
    {
     "output_type": "stream",
     "name": "stdout",
     "text": [
      "\n\ninputs: [1, 0, 0]; target_outputs: [1]\n"
     ]
    },
    {
     "output_type": "display_data",
     "data": {
      "text/plain": "<pandas.io.formats.style.Styler at 0x288a0fe94a8>",
      "text/html": "<style  type=\"text/css\" >\n</style><table id=\"T_3d08d3e4_70e2_11eb_8b56_00bb607d38d0\" ><thead>    <tr>        <th class=\"blank level0\" ></th>        <th class=\"col_heading level0 col0\" >1.step</th>        <th class=\"col_heading level0 col1\" >2.actual_output_of_hus</th>        <th class=\"col_heading level0 col2\" >2.actual_output_of_ous</th>        <th class=\"col_heading level0 col3\" >3.weights_to_ous</th>        <th class=\"col_heading level0 col4\" >4.weights_to_hus</th>    </tr></thead><tbody>\n                <tr>\n                        <th id=\"T_3d08d3e4_70e2_11eb_8b56_00bb607d38d0level0_row0\" class=\"row_heading level0 row0\" >0</th>\n                        <td id=\"T_3d08d3e4_70e2_11eb_8b56_00bb607d38d0row0_col0\" class=\"data row0 col0\" >0</td>\n                        <td id=\"T_3d08d3e4_70e2_11eb_8b56_00bb607d38d0row0_col1\" class=\"data row0 col1\" >[0.54983 0.62246]</td>\n                        <td id=\"T_3d08d3e4_70e2_11eb_8b56_00bb607d38d0row0_col2\" class=\"data row0 col2\" >[0.73107]</td>\n                        <td id=\"T_3d08d3e4_70e2_11eb_8b56_00bb607d38d0row0_col3\" class=\"data row0 col3\" >[[0.8 0.9]]</td>\n                        <td id=\"T_3d08d3e4_70e2_11eb_8b56_00bb607d38d0row0_col4\" class=\"data row0 col4\" >[[0.2 0.3 0.4]\n [0.5 0.6 0.7]]</td>\n            </tr>\n            <tr>\n                        <th id=\"T_3d08d3e4_70e2_11eb_8b56_00bb607d38d0level0_row1\" class=\"row_heading level0 row1\" >1</th>\n                        <td id=\"T_3d08d3e4_70e2_11eb_8b56_00bb607d38d0row1_col0\" class=\"data row1 col0\" >1</td>\n                        <td id=\"T_3d08d3e4_70e2_11eb_8b56_00bb607d38d0row1_col1\" class=\"data row1 col1\" >[0.55113 0.62377]</td>\n                        <td id=\"T_3d08d3e4_70e2_11eb_8b56_00bb607d38d0row1_col2\" class=\"data row1 col2\" >[0.73508]</td>\n                        <td id=\"T_3d08d3e4_70e2_11eb_8b56_00bb607d38d0row1_col3\" class=\"data row1 col3\" >[[0.81454 0.91646]]</td>\n                        <td id=\"T_3d08d3e4_70e2_11eb_8b56_00bb607d38d0row1_col4\" class=\"data row1 col4\" >[[0.20523 0.3     0.4    ]\n [0.50559 0.6     0.7    ]]</td>\n            </tr>\n    </tbody></table>"
     },
     "metadata": {}
    },
    {
     "output_type": "stream",
     "name": "stdout",
     "text": [
      "\n\ninputs: [0, 1, 0]; target_outputs: [1]\n"
     ]
    },
    {
     "output_type": "display_data",
     "data": {
      "text/plain": "<pandas.io.formats.style.Styler at 0x288a0fe9588>",
      "text/html": "<style  type=\"text/css\" >\n</style><table id=\"T_3d0a5982_70e2_11eb_a0ca_00bb607d38d0\" ><thead>    <tr>        <th class=\"blank level0\" ></th>        <th class=\"col_heading level0 col0\" >1.step</th>        <th class=\"col_heading level0 col1\" >2.actual_output_of_hus</th>        <th class=\"col_heading level0 col2\" >2.actual_output_of_ous</th>        <th class=\"col_heading level0 col3\" >3.weights_to_ous</th>        <th class=\"col_heading level0 col4\" >4.weights_to_hus</th>    </tr></thead><tbody>\n                <tr>\n                        <th id=\"T_3d0a5982_70e2_11eb_a0ca_00bb607d38d0level0_row0\" class=\"row_heading level0 row0\" >0</th>\n                        <td id=\"T_3d0a5982_70e2_11eb_a0ca_00bb607d38d0row0_col0\" class=\"data row0 col0\" >0</td>\n                        <td id=\"T_3d0a5982_70e2_11eb_a0ca_00bb607d38d0row0_col1\" class=\"data row0 col1\" >[0.57444 0.64566]</td>\n                        <td id=\"T_3d0a5982_70e2_11eb_a0ca_00bb607d38d0row0_col2\" class=\"data row0 col2\" >[0.73897]</td>\n                        <td id=\"T_3d0a5982_70e2_11eb_a0ca_00bb607d38d0row0_col3\" class=\"data row0 col3\" >[[0.8 0.9]]</td>\n                        <td id=\"T_3d0a5982_70e2_11eb_a0ca_00bb607d38d0row0_col4\" class=\"data row0 col4\" >[[0.2 0.3 0.4]\n [0.5 0.6 0.7]]</td>\n            </tr>\n            <tr>\n                        <th id=\"T_3d0a5982_70e2_11eb_a0ca_00bb607d38d0level0_row1\" class=\"row_heading level0 row1\" >1</th>\n                        <td id=\"T_3d0a5982_70e2_11eb_a0ca_00bb607d38d0row1_col0\" class=\"data row1 col0\" >1</td>\n                        <td id=\"T_3d0a5982_70e2_11eb_a0ca_00bb607d38d0row1_col1\" class=\"data row1 col1\" >[0.57565 0.64684]</td>\n                        <td id=\"T_3d0a5982_70e2_11eb_a0ca_00bb607d38d0row1_col2\" class=\"data row1 col2\" >[0.74298]</td>\n                        <td id=\"T_3d0a5982_70e2_11eb_a0ca_00bb607d38d0row1_col3\" class=\"data row1 col3\" >[[0.81446 0.91625]]</td>\n                        <td id=\"T_3d0a5982_70e2_11eb_a0ca_00bb607d38d0row1_col4\" class=\"data row1 col4\" >[[0.2     0.30492 0.4    ]\n [0.5     0.60518 0.7    ]]</td>\n            </tr>\n    </tbody></table>"
     },
     "metadata": {}
    },
    {
     "output_type": "stream",
     "name": "stdout",
     "text": [
      "\n\ninputs: [1, 1, 0]; target_outputs: [0]\n"
     ]
    },
    {
     "output_type": "display_data",
     "data": {
      "text/plain": "<pandas.io.formats.style.Styler at 0x288a101c908>",
      "text/html": "<style  type=\"text/css\" >\n</style><table id=\"T_3d0b6af6_70e2_11eb_bae3_00bb607d38d0\" ><thead>    <tr>        <th class=\"blank level0\" ></th>        <th class=\"col_heading level0 col0\" >1.step</th>        <th class=\"col_heading level0 col1\" >2.actual_output_of_hus</th>        <th class=\"col_heading level0 col2\" >2.actual_output_of_ous</th>        <th class=\"col_heading level0 col3\" >3.weights_to_ous</th>        <th class=\"col_heading level0 col4\" >4.weights_to_hus</th>    </tr></thead><tbody>\n                <tr>\n                        <th id=\"T_3d0b6af6_70e2_11eb_bae3_00bb607d38d0level0_row0\" class=\"row_heading level0 row0\" >0</th>\n                        <td id=\"T_3d0b6af6_70e2_11eb_bae3_00bb607d38d0row0_col0\" class=\"data row0 col0\" >0</td>\n                        <td id=\"T_3d0b6af6_70e2_11eb_bae3_00bb607d38d0row0_col1\" class=\"data row0 col1\" >[0.62246 0.75026]</td>\n                        <td id=\"T_3d0b6af6_70e2_11eb_bae3_00bb607d38d0row0_col2\" class=\"data row0 col2\" >[0.76372]</td>\n                        <td id=\"T_3d0b6af6_70e2_11eb_bae3_00bb607d38d0row0_col3\" class=\"data row0 col3\" >[[0.8 0.9]]</td>\n                        <td id=\"T_3d0b6af6_70e2_11eb_bae3_00bb607d38d0row0_col4\" class=\"data row0 col4\" >[[0.2 0.3 0.4]\n [0.5 0.6 0.7]]</td>\n            </tr>\n            <tr>\n                        <th id=\"T_3d0b6af6_70e2_11eb_bae3_00bb607d38d0level0_row1\" class=\"row_heading level0 row1\" >1</th>\n                        <td id=\"T_3d0b6af6_70e2_11eb_bae3_00bb607d38d0row1_col0\" class=\"data row1 col0\" >1</td>\n                        <td id=\"T_3d0b6af6_70e2_11eb_bae3_00bb607d38d0row1_col1\" class=\"data row1 col1\" >[0.61635 0.74588]</td>\n                        <td id=\"T_3d0b6af6_70e2_11eb_bae3_00bb607d38d0row1_col2\" class=\"data row1 col2\" >[0.75014]</td>\n                        <td id=\"T_3d0b6af6_70e2_11eb_bae3_00bb607d38d0row1_col3\" class=\"data row1 col3\" >[[0.75711 0.8483 ]]</td>\n                        <td id=\"T_3d0b6af6_70e2_11eb_bae3_00bb607d38d0row1_col4\" class=\"data row1 col4\" >[[0.18705 0.28705 0.4    ]\n [0.48838 0.58838 0.7    ]]</td>\n            </tr>\n    </tbody></table>"
     },
     "metadata": {}
    },
    {
     "output_type": "stream",
     "name": "stdout",
     "text": [
      "\n\ninputs: [0, 0, 1]; target_outputs: [0]\n"
     ]
    },
    {
     "output_type": "display_data",
     "data": {
      "text/plain": "<pandas.io.formats.style.Styler at 0x2889f2fce48>",
      "text/html": "<style  type=\"text/css\" >\n</style><table id=\"T_3d0ca1c6_70e2_11eb_9fc6_00bb607d38d0\" ><thead>    <tr>        <th class=\"blank level0\" ></th>        <th class=\"col_heading level0 col0\" >1.step</th>        <th class=\"col_heading level0 col1\" >2.actual_output_of_hus</th>        <th class=\"col_heading level0 col2\" >2.actual_output_of_ous</th>        <th class=\"col_heading level0 col3\" >3.weights_to_ous</th>        <th class=\"col_heading level0 col4\" >4.weights_to_hus</th>    </tr></thead><tbody>\n                <tr>\n                        <th id=\"T_3d0ca1c6_70e2_11eb_9fc6_00bb607d38d0level0_row0\" class=\"row_heading level0 row0\" >0</th>\n                        <td id=\"T_3d0ca1c6_70e2_11eb_9fc6_00bb607d38d0row0_col0\" class=\"data row0 col0\" >0</td>\n                        <td id=\"T_3d0ca1c6_70e2_11eb_9fc6_00bb607d38d0row0_col1\" class=\"data row0 col1\" >[0.59869 0.66819]</td>\n                        <td id=\"T_3d0ca1c6_70e2_11eb_9fc6_00bb607d38d0row0_col2\" class=\"data row0 col2\" >[0.74655]</td>\n                        <td id=\"T_3d0ca1c6_70e2_11eb_9fc6_00bb607d38d0row0_col3\" class=\"data row0 col3\" >[[0.8 0.9]]</td>\n                        <td id=\"T_3d0ca1c6_70e2_11eb_9fc6_00bb607d38d0row0_col4\" class=\"data row0 col4\" >[[0.2 0.3 0.4]\n [0.5 0.6 0.7]]</td>\n            </tr>\n            <tr>\n                        <th id=\"T_3d0ca1c6_70e2_11eb_9fc6_00bb607d38d0level0_row1\" class=\"row_heading level0 row1\" >1</th>\n                        <td id=\"T_3d0ca1c6_70e2_11eb_9fc6_00bb607d38d0row1_col0\" class=\"data row1 col0\" >1</td>\n                        <td id=\"T_3d0ca1c6_70e2_11eb_9fc6_00bb607d38d0row1_col1\" class=\"data row1 col1\" >[0.59542 0.66506]</td>\n                        <td id=\"T_3d0ca1c6_70e2_11eb_9fc6_00bb607d38d0row1_col2\" class=\"data row1 col2\" >[0.73465]</td>\n                        <td id=\"T_3d0ca1c6_70e2_11eb_9fc6_00bb607d38d0row1_col3\" class=\"data row1 col3\" >[[0.75772 0.85281]]</td>\n                        <td id=\"T_3d0ca1c6_70e2_11eb_9fc6_00bb607d38d0row1_col4\" class=\"data row1 col4\" >[[0.2     0.3     0.38642]\n [0.5     0.6     0.68591]]</td>\n            </tr>\n    </tbody></table>"
     },
     "metadata": {}
    },
    {
     "output_type": "stream",
     "name": "stdout",
     "text": [
      "\n\ninputs: [1, 0, 1]; target_outputs: [1]\n"
     ]
    },
    {
     "output_type": "display_data",
     "data": {
      "text/plain": "<pandas.io.formats.style.Styler at 0x2889e640438>",
      "text/html": "<style  type=\"text/css\" >\n</style><table id=\"T_3d0db2cc_70e2_11eb_9e6e_00bb607d38d0\" ><thead>    <tr>        <th class=\"blank level0\" ></th>        <th class=\"col_heading level0 col0\" >1.step</th>        <th class=\"col_heading level0 col1\" >2.actual_output_of_hus</th>        <th class=\"col_heading level0 col2\" >2.actual_output_of_ous</th>        <th class=\"col_heading level0 col3\" >3.weights_to_ous</th>        <th class=\"col_heading level0 col4\" >4.weights_to_hus</th>    </tr></thead><tbody>\n                <tr>\n                        <th id=\"T_3d0db2cc_70e2_11eb_9e6e_00bb607d38d0level0_row0\" class=\"row_heading level0 row0\" >0</th>\n                        <td id=\"T_3d0db2cc_70e2_11eb_9e6e_00bb607d38d0row0_col0\" class=\"data row0 col0\" >0</td>\n                        <td id=\"T_3d0db2cc_70e2_11eb_9e6e_00bb607d38d0row0_col1\" class=\"data row0 col1\" >[0.64566 0.76852]</td>\n                        <td id=\"T_3d0db2cc_70e2_11eb_9e6e_00bb607d38d0row0_col2\" class=\"data row0 col2\" >[0.76998]</td>\n                        <td id=\"T_3d0db2cc_70e2_11eb_9e6e_00bb607d38d0row0_col3\" class=\"data row0 col3\" >[[0.8 0.9]]</td>\n                        <td id=\"T_3d0db2cc_70e2_11eb_9e6e_00bb607d38d0row0_col4\" class=\"data row0 col4\" >[[0.2 0.3 0.4]\n [0.5 0.6 0.7]]</td>\n            </tr>\n            <tr>\n                        <th id=\"T_3d0db2cc_70e2_11eb_9e6e_00bb607d38d0level0_row1\" class=\"row_heading level0 row1\" >1</th>\n                        <td id=\"T_3d0db2cc_70e2_11eb_9e6e_00bb607d38d0row1_col0\" class=\"data row1 col0\" >1</td>\n                        <td id=\"T_3d0db2cc_70e2_11eb_9e6e_00bb607d38d0row1_col1\" class=\"data row1 col1\" >[0.64736 0.76968]</td>\n                        <td id=\"T_3d0db2cc_70e2_11eb_9e6e_00bb607d38d0row1_col2\" class=\"data row1 col2\" >[0.77402]</td>\n                        <td id=\"T_3d0db2cc_70e2_11eb_9e6e_00bb607d38d0row1_col3\" class=\"data row1 col3\" >[[0.81315 0.91565]]</td>\n                        <td id=\"T_3d0db2cc_70e2_11eb_9e6e_00bb607d38d0row1_col4\" class=\"data row1 col4\" >[[0.20373 0.3     0.40373]\n [0.50326 0.6     0.70326]]</td>\n            </tr>\n    </tbody></table>"
     },
     "metadata": {}
    },
    {
     "output_type": "stream",
     "name": "stdout",
     "text": [
      "\n\ninputs: [0, 1, 1]; target_outputs: [1]\n"
     ]
    },
    {
     "output_type": "display_data",
     "data": {
      "text/plain": "<pandas.io.formats.style.Styler at 0x2889f39cfd0>",
      "text/html": "<style  type=\"text/css\" >\n</style><table id=\"T_3d0ec32e_70e2_11eb_94ff_00bb607d38d0\" ><thead>    <tr>        <th class=\"blank level0\" ></th>        <th class=\"col_heading level0 col0\" >1.step</th>        <th class=\"col_heading level0 col1\" >2.actual_output_of_hus</th>        <th class=\"col_heading level0 col2\" >2.actual_output_of_ous</th>        <th class=\"col_heading level0 col3\" >3.weights_to_ous</th>        <th class=\"col_heading level0 col4\" >4.weights_to_hus</th>    </tr></thead><tbody>\n                <tr>\n                        <th id=\"T_3d0ec32e_70e2_11eb_94ff_00bb607d38d0level0_row0\" class=\"row_heading level0 row0\" >0</th>\n                        <td id=\"T_3d0ec32e_70e2_11eb_94ff_00bb607d38d0row0_col0\" class=\"data row0 col0\" >0</td>\n                        <td id=\"T_3d0ec32e_70e2_11eb_94ff_00bb607d38d0row0_col1\" class=\"data row0 col1\" >[0.66819 0.78583]</td>\n                        <td id=\"T_3d0ec32e_70e2_11eb_94ff_00bb607d38d0row0_col2\" class=\"data row0 col2\" >[0.77588]</td>\n                        <td id=\"T_3d0ec32e_70e2_11eb_94ff_00bb607d38d0row0_col3\" class=\"data row0 col3\" >[[0.8 0.9]]</td>\n                        <td id=\"T_3d0ec32e_70e2_11eb_94ff_00bb607d38d0row0_col4\" class=\"data row0 col4\" >[[0.2 0.3 0.4]\n [0.5 0.6 0.7]]</td>\n            </tr>\n            <tr>\n                        <th id=\"T_3d0ec32e_70e2_11eb_94ff_00bb607d38d0level0_row1\" class=\"row_heading level0 row1\" >1</th>\n                        <td id=\"T_3d0ec32e_70e2_11eb_94ff_00bb607d38d0row1_col0\" class=\"data row1 col0\" >1</td>\n                        <td id=\"T_3d0ec32e_70e2_11eb_94ff_00bb607d38d0row1_col1\" class=\"data row1 col1\" >[0.66972 0.78683]</td>\n                        <td id=\"T_3d0ec32e_70e2_11eb_94ff_00bb607d38d0row1_col2\" class=\"data row1 col2\" >[0.77983]</td>\n                        <td id=\"T_3d0ec32e_70e2_11eb_94ff_00bb607d38d0row1_col3\" class=\"data row1 col3\" >[[0.81302 0.91531]]</td>\n                        <td id=\"T_3d0ec32e_70e2_11eb_94ff_00bb607d38d0row1_col4\" class=\"data row1 col4\" >[[0.2     0.30346 0.40346]\n [0.5     0.60295 0.70295]]</td>\n            </tr>\n    </tbody></table>"
     },
     "metadata": {}
    },
    {
     "output_type": "stream",
     "name": "stdout",
     "text": [
      "\n\ninputs: [1, 1, 1]; target_outputs: [0]\n"
     ]
    },
    {
     "output_type": "display_data",
     "data": {
      "text/plain": "<pandas.io.formats.style.Styler at 0x2889f39c668>",
      "text/html": "<style  type=\"text/css\" >\n</style><table id=\"T_3d0fd3e6_70e2_11eb_a134_00bb607d38d0\" ><thead>    <tr>        <th class=\"blank level0\" ></th>        <th class=\"col_heading level0 col0\" >1.step</th>        <th class=\"col_heading level0 col1\" >2.actual_output_of_hus</th>        <th class=\"col_heading level0 col2\" >2.actual_output_of_ous</th>        <th class=\"col_heading level0 col3\" >3.weights_to_ous</th>        <th class=\"col_heading level0 col4\" >4.weights_to_hus</th>    </tr></thead><tbody>\n                <tr>\n                        <th id=\"T_3d0fd3e6_70e2_11eb_a134_00bb607d38d0level0_row0\" class=\"row_heading level0 row0\" >0</th>\n                        <td id=\"T_3d0fd3e6_70e2_11eb_a134_00bb607d38d0row0_col0\" class=\"data row0 col0\" >0</td>\n                        <td id=\"T_3d0fd3e6_70e2_11eb_a134_00bb607d38d0row0_col1\" class=\"data row0 col1\" >[0.71095 0.85815]</td>\n                        <td id=\"T_3d0fd3e6_70e2_11eb_a134_00bb607d38d0row0_col2\" class=\"data row0 col2\" >[0.79267]</td>\n                        <td id=\"T_3d0fd3e6_70e2_11eb_a134_00bb607d38d0row0_col3\" class=\"data row0 col3\" >[[0.8 0.9]]</td>\n                        <td id=\"T_3d0fd3e6_70e2_11eb_a134_00bb607d38d0row0_col4\" class=\"data row0 col4\" >[[0.2 0.3 0.4]\n [0.5 0.6 0.7]]</td>\n            </tr>\n            <tr>\n                        <th id=\"T_3d0fd3e6_70e2_11eb_a134_00bb607d38d0level0_row1\" class=\"row_heading level0 row1\" >1</th>\n                        <td id=\"T_3d0fd3e6_70e2_11eb_a134_00bb607d38d0row1_col0\" class=\"data row1 col0\" >1</td>\n                        <td id=\"T_3d0fd3e6_70e2_11eb_a134_00bb607d38d0row1_col1\" class=\"data row1 col1\" >[0.7043  0.85552]</td>\n                        <td id=\"T_3d0fd3e6_70e2_11eb_a134_00bb607d38d0row1_col2\" class=\"data row1 col2\" >[0.77781]</td>\n                        <td id=\"T_3d0fd3e6_70e2_11eb_a134_00bb607d38d0row1_col3\" class=\"data row1 col3\" >[[0.75369 0.8441 ]]</td>\n                        <td id=\"T_3d0fd3e6_70e2_11eb_a134_00bb607d38d0row1_col4\" class=\"data row1 col4\" >[[0.18929 0.28929 0.38929]\n [0.49286 0.59286 0.69286]]</td>\n            </tr>\n    </tbody></table>"
     },
     "metadata": {}
    },
    {
     "output_type": "stream",
     "name": "stdout",
     "text": [
      "{'inputs_list': [[1, 0]],\n 'learning_coef': 0.5,\n 'lower_margin': 0.1,\n 'target_outputs_list': [[1, 0]],\n 'upper_margin': 0.9,\n 'weights_to_hidden_units': [[0.2, 0.5], [0.3, 0.6], [0.4, 0.7]],\n 'weights_to_output_units': [[0.8, 0.9, 0.1], [0.25, 0.35, 0.15]]}\n\n\ninputs: [1, 0]; target_outputs: [1, 0]\n"
     ]
    },
    {
     "output_type": "display_data",
     "data": {
      "text/plain": "<pandas.io.formats.style.Styler at 0x2889f3af550>",
      "text/html": "<style  type=\"text/css\" >\n</style><table id=\"T_3d10e492_70e2_11eb_b528_00bb607d38d0\" ><thead>    <tr>        <th class=\"blank level0\" ></th>        <th class=\"col_heading level0 col0\" >1.step</th>        <th class=\"col_heading level0 col1\" >2.actual_output_of_hus</th>        <th class=\"col_heading level0 col2\" >2.actual_output_of_ous</th>        <th class=\"col_heading level0 col3\" >3.weights_to_ous</th>        <th class=\"col_heading level0 col4\" >4.weights_to_hus</th>    </tr></thead><tbody>\n                <tr>\n                        <th id=\"T_3d10e492_70e2_11eb_b528_00bb607d38d0level0_row0\" class=\"row_heading level0 row0\" >0</th>\n                        <td id=\"T_3d10e492_70e2_11eb_b528_00bb607d38d0row0_col0\" class=\"data row0 col0\" >0</td>\n                        <td id=\"T_3d10e492_70e2_11eb_b528_00bb607d38d0row0_col1\" class=\"data row0 col1\" >[0.54983 0.57444 0.59869]</td>\n                        <td id=\"T_3d10e492_70e2_11eb_b528_00bb607d38d0row0_col2\" class=\"data row0 col2\" >[0.73434 0.60547]</td>\n                        <td id=\"T_3d10e492_70e2_11eb_b528_00bb607d38d0row0_col3\" class=\"data row0 col3\" >[[0.8  0.9  0.1 ]\n [0.25 0.35 0.15]]</td>\n                        <td id=\"T_3d10e492_70e2_11eb_b528_00bb607d38d0row0_col4\" class=\"data row0 col4\" >[[0.2 0.5]\n [0.3 0.6]\n [0.4 0.7]]</td>\n            </tr>\n            <tr>\n                        <th id=\"T_3d10e492_70e2_11eb_b528_00bb607d38d0level0_row1\" class=\"row_heading level0 row1\" >1</th>\n                        <td id=\"T_3d10e492_70e2_11eb_b528_00bb607d38d0row1_col0\" class=\"data row1 col0\" >1</td>\n                        <td id=\"T_3d10e492_70e2_11eb_b528_00bb607d38d0row1_col1\" class=\"data row1 col1\" >[0.55    0.57432 0.59821]</td>\n                        <td id=\"T_3d10e492_70e2_11eb_b528_00bb607d38d0row1_col2\" class=\"data row1 col2\" >[0.73931 0.58822]</td>\n                        <td id=\"T_3d10e492_70e2_11eb_b528_00bb607d38d0row1_col3\" class=\"data row1 col3\" >[[0.81425 0.91489 0.11551]\n [0.21024 0.30846 0.10671]]</td>\n                        <td id=\"T_3d10e492_70e2_11eb_b528_00bb607d38d0row1_col4\" class=\"data row1 col4\" >[[0.20066 0.5    ]\n [0.29951 0.6    ]\n [0.39802 0.7    ]]</td>\n            </tr>\n    </tbody></table>"
     },
     "metadata": {}
    }
   ],
   "source": [
    "for data in dataset:\n",
    "    pp.pprint(data)\n",
    "    # https://www.geeksforgeeks.org/display-the-pandas-dataframe-in-table-style/\n",
    "    log = bpa(data, 1, 5)\n",
    "    for sub_log in log:\n",
    "        print(f\"\\n\\ninputs: {sub_log['inputs']}; target_outputs: {sub_log['target_outputs']}\")\n",
    "        # df = pd.DataFrame(sub_log['training'][:10])\n",
    "        df = pd.DataFrame(sub_log['training'][-10:])\n",
    "        # displaying the DataFrame\n",
    "        display(df.style)"
   ]
  }
 ]
}