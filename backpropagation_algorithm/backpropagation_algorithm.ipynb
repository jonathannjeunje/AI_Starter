{
 "metadata": {
  "language_info": {
   "codemirror_mode": {
    "name": "ipython",
    "version": 3
   },
   "file_extension": ".py",
   "mimetype": "text/x-python",
   "name": "python",
   "nbconvert_exporter": "python",
   "pygments_lexer": "ipython3",
   "version": "3.8.5"
  },
  "orig_nbformat": 2,
  "kernelspec": {
   "name": "python3",
   "display_name": "Python 3",
   "language": "python"
  }
 },
 "nbformat": 4,
 "nbformat_minor": 2,
 "cells": [
  {
   "source": [
    "# Backpropagation Algorithm"
   ],
   "cell_type": "markdown",
   "metadata": {}
  },
  {
   "cell_type": "code",
   "execution_count": 14,
   "metadata": {},
   "outputs": [],
   "source": [
    "import pandas as pd\n",
    "import json\n",
    "import pprint as pp\n",
    "import math\n",
    "import copy\n",
    "import numpy as np\n",
    "from IPython.display import display "
   ]
  },
  {
   "cell_type": "code",
   "execution_count": 15,
   "metadata": {},
   "outputs": [],
   "source": [
    "def weighted_sum(values, weights):\n",
    "    res = 0\n",
    "    for value, weight in zip(values, weights):\n",
    "        res += value * weight\n",
    "    return res"
   ]
  },
  {
   "cell_type": "code",
   "execution_count": 16,
   "metadata": {},
   "outputs": [],
   "source": [
    "def actual_output(weighted_sum): \n",
    "    return 1/(1 + math.exp(-weighted_sum))"
   ]
  },
  {
   "cell_type": "code",
   "execution_count": 17,
   "metadata": {},
   "outputs": [],
   "source": [
    "def delta_ou(target_output, actual_output_ou):\n",
    "    return (target_output - actual_output_ou) * actual_output_ou * (1-actual_output_ou)"
   ]
  },
  {
   "cell_type": "code",
   "execution_count": 18,
   "metadata": {},
   "outputs": [],
   "source": [
    "def new_weight_to_ou(weight_to_ou, learning_coef, delta_ou, actual_output_hu):\n",
    "    return weight_to_ou + learning_coef * delta_ou * actual_output_hu"
   ]
  },
  {
   "cell_type": "code",
   "execution_count": 19,
   "metadata": {},
   "outputs": [],
   "source": [
    "def delta_hu(delta_ou, weight_to_ou, actual_output_hu):\n",
    "        return delta_ou * weight_to_ou * actual_output_hu * (1 - actual_output_hu) "
   ]
  },
  {
   "cell_type": "code",
   "execution_count": 20,
   "metadata": {},
   "outputs": [],
   "source": [
    "def new_weight_to_hu(weight_to_hu, learning_coef, delta_hu, value_iu):\n",
    "    return weight_to_hu + learning_coef * delta_hu * value_iu"
   ]
  },
  {
   "cell_type": "code",
   "execution_count": 21,
   "metadata": {},
   "outputs": [],
   "source": [
    "def terminate_training(actual_outputs_of_ou, target_outputs, lower_margin, upper_margin):\n",
    "    for i, target_output in enumerate(target_outputs):\n",
    "        for j, item in enumerate(target_output):\n",
    "            if item == 1:\n",
    "                if actual_outputs_of_ou[i][j] <= upper_margin:\n",
    "                    return False\n",
    "            else:\n",
    "                if actual_outputs_of_ou[i][j] >= lower_margin:\n",
    "                    return False\n",
    "    # print(True, actual_outputs_of_ou)\n",
    "    return True"
   ]
  },
  {
   "cell_type": "code",
   "execution_count": 22,
   "metadata": {},
   "outputs": [],
   "source": [
    "def avg(items):\n",
    "    res = [([0]*len(items[0][0])).copy() for _ in range(len(items[0]))]\n",
    "    # print(res)\n",
    "    for j in range(len(items[0][0])):\n",
    "        for i in range(len(items[0])):\n",
    "            for item in items:\n",
    "                res[i][j] += item[i][j]\n",
    "            # print(res, i, j)\n",
    "            res[i][j] /= len(items)\n",
    "    return res"
   ]
  },
  {
   "cell_type": "code",
   "execution_count": 23,
   "metadata": {},
   "outputs": [],
   "source": [
    "def bpa1(dataset, num_epochs = 1, roundup = 4):\n",
    "    log = []\n",
    "\n",
    "    epoch = 0\n",
    "    final_weights_to_hus = copy.deepcopy(dataset['weights_to_hidden_units'])\n",
    "    final_weights_to_ous = copy.deepcopy(dataset['weights_to_output_units'])\n",
    "    target_outputs = copy.deepcopy(dataset['target_outputs_list'])\n",
    "\n",
    "    while epoch <= num_epochs:\n",
    "        actual_outputs_of_hus = []\n",
    "        actual_outputs_of_ous = []\n",
    "        list_weights_to_hus = []\n",
    "        list_weights_to_ous = []\n",
    "        \n",
    "        for i, inputs in enumerate(dataset['inputs_list']):\n",
    "            weights_to_hus = copy.deepcopy(final_weights_to_hus)\n",
    "            weights_to_ous = copy.deepcopy(final_weights_to_ous)\n",
    "            # print(weights_to_hus)\n",
    "\n",
    "            actual_output_of_hus = []\n",
    "            for weights_to_hu in weights_to_hus:\n",
    "                actual_output_of_hus.append(actual_output(weighted_sum(inputs, weights_to_hu)))\n",
    "            \n",
    "            actual_output_of_ous = []\n",
    "            for weights_to_ou in weights_to_ous:\n",
    "                actual_output_of_ous.append(actual_output(weighted_sum(actual_output_of_hus, weights_to_ou)))\n",
    "\n",
    "            temp_weights_to_ous = copy.deepcopy(weights_to_ous)\n",
    "            delta_ous = []\n",
    "            for k, actual_output_of_ou in enumerate(actual_output_of_ous):\n",
    "                delta_ous.append(delta_ou(target_outputs[i][k], actual_output_of_ou))\n",
    "                for j, actual_output_of_hu in enumerate(actual_output_of_hus):\n",
    "                    weights_to_ous[k][j] = new_weight_to_ou(weights_to_ous[k][j], dataset['learning_coef'], delta_ous[k], actual_output_of_hu)\n",
    "\n",
    "            # print(f'delta_ous: {delta_ous}')\n",
    "            # print(f'weights_to_ous: {weights_to_ous}')\n",
    "\n",
    "            delta_hus = []\n",
    "            for j, actual_output_of_hu in enumerate(actual_output_of_hus):\n",
    "                temp_delta_hu = 0\n",
    "                for k, actual_output_of_ou in enumerate(actual_output_of_ous):\n",
    "                    temp_delta_hu += delta_hu(delta_ous[k], temp_weights_to_ous[k][j], actual_output_of_hu)\n",
    "                delta_hus.append(temp_delta_hu)\n",
    "\n",
    "            for j, actual_output_of_hu in enumerate(actual_output_of_hus):\n",
    "                for i, input in enumerate(inputs):\n",
    "                    weights_to_hus[j][i] = new_weight_to_hu(weights_to_hus[j][i], dataset['learning_coef'], delta_hus[j], input)\n",
    "            \n",
    "            # print(f'delta_hus: {delta_hus}')\n",
    "            # print(f'weights_to_hus: {weights_to_hus}')\n",
    "\n",
    "            actual_outputs_of_ous.append(actual_output_of_ous)\n",
    "            actual_outputs_of_hus.append(actual_output_of_hus)\n",
    "            list_weights_to_ous.append(weights_to_ous)\n",
    "            list_weights_to_hus.append(weights_to_hus)\n",
    "        # print(len(list_weights_to_hus))\n",
    "        # pp.pprint(list_weights_to_hus)\n",
    "        final_weights_to_hus = avg(list_weights_to_hus)\n",
    "        # print(final_weights_to_hus)\n",
    "        final_weights_to_ous = avg(list_weights_to_ous)\n",
    "\n",
    "        sub_log = {}\n",
    "        sub_log.update({\"1.epoch\": epoch})\n",
    "        # sub_log.update({\"2.inputs\": np.round(inputs, roundup)})\n",
    "        # sub_log.update({\"2.target_outputs\": target_outputs.copy()})\n",
    "        # sub_log.update({\"2.actual_outputs_of_hus\": np.round(actual_outputs_of_hus, roundup)})\n",
    "        sub_log.update({\"2.actual_outputs\": actual_outputs_of_ous.copy()})\n",
    "        sub_log.update({\"3.weights_to_output_units\": weights_to_ous.copy()})\n",
    "        sub_log.update({\"4.weights_to_hidden_units\": np.round(weights_to_hus, roundup)})\n",
    "        log.append(sub_log)\n",
    "        # log=sub_log\n",
    "\n",
    "        if terminate_training(actual_outputs_of_ous, target_outputs, dataset['lower_margin'], dataset['upper_margin']): break\n",
    "        epoch += 1\n",
    "    return log"
   ]
  },
  {
   "cell_type": "code",
   "execution_count": 24,
   "metadata": {},
   "outputs": [],
   "source": [
    "with open('dataset.json', 'r') as file:\n",
    "    dataset = json.load(file)"
   ]
  },
  {
   "cell_type": "code",
   "execution_count": 27,
   "metadata": {
    "tags": []
   },
   "outputs": [
    {
     "output_type": "stream",
     "name": "stdout",
     "text": [
      "{'inputs_list': [[0, 0, 0],\n                 [1, 0, 0],\n                 [0, 1, 0],\n                 [1, 1, 0],\n                 [0, 0, 1],\n                 [1, 0, 1],\n                 [0, 1, 1],\n                 [1, 1, 1]],\n 'learning_coef': 0.5,\n 'lower_margin': 0.1,\n 'target_outputs_list': [[0], [1], [1], [0], [0], [1], [1], [0]],\n 'upper_margin': 0.9,\n 'weights_to_hidden_units': [[0.2, 0.3, 0.4], [0.5, 0.6, 0.7]],\n 'weights_to_output_units': [[0.8, 0.9]]}\n"
     ]
    },
    {
     "output_type": "display_data",
     "data": {
      "text/plain": "<pandas.io.formats.style.Styler at 0x2506b766220>",
      "text/html": "<style  type=\"text/css\" >\n</style><table id=\"T_d5465_\" ><thead>    <tr>        <th class=\"blank level0\" ></th>        <th class=\"col_heading level0 col0\" >1.epoch</th>        <th class=\"col_heading level0 col1\" >2.actual_outputs</th>        <th class=\"col_heading level0 col2\" >3.weights_to_output_units</th>        <th class=\"col_heading level0 col3\" >4.weights_to_hidden_units</th>    </tr></thead><tbody>\n                <tr>\n                        <th id=\"T_d5465_level0_row0\" class=\"row_heading level0 row0\" >0</th>\n                        <td id=\"T_d5465_row0_col0\" class=\"data row0 col0\" >88018</td>\n                        <td id=\"T_d5465_row0_col1\" class=\"data row0 col1\" >[[0.03597712033496381], [0.9208084732043368], [0.9208083428349533], [0.07915731488431352], [0.0026389183188500038], [0.9483307549108131], [0.9483308869312006], [0.09999986436893588]]</td>\n                        <td id=\"T_d5465_row0_col2\" class=\"data row0 col2\" >[[-32.932245231223405, 26.34738004576651]]</td>\n                        <td id=\"T_d5465_row0_col3\" class=\"data row0 col3\" >[[ 0.98913  0.98913 -0.05225]\n [ 8.0856   8.08651 -0.49839]]</td>\n            </tr>\n    </tbody></table>"
     },
     "metadata": {}
    }
   ],
   "source": [
    "for data in dataset:\n",
    "    pp.pprint(data)\n",
    "    log = bpa1(data, 100000, 5)\n",
    "    # df = pd.DataFrame(log[:10])\n",
    "    df = pd.DataFrame(log[-1:])\n",
    "    # df = pd.DataFrame([log])\n",
    "    display(df.style)\n",
    "    break"
   ]
  },
  {
   "cell_type": "code",
   "execution_count": null,
   "metadata": {},
   "outputs": [],
   "source": []
  }
 ]
}