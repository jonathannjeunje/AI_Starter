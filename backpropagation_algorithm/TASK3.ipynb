{
 "metadata": {
  "language_info": {
   "codemirror_mode": {
    "name": "ipython",
    "version": 3
   },
   "file_extension": ".py",
   "mimetype": "text/x-python",
   "name": "python",
   "nbconvert_exporter": "python",
   "pygments_lexer": "ipython3",
   "version": "3.8.5-final"
  },
  "orig_nbformat": 2,
  "kernelspec": {
   "name": "python3",
   "display_name": "Python 3.8.5 64-bit",
   "metadata": {
    "interpreter": {
     "hash": "8e4d8516bd3b0e9eecd22f6b316a5e13855df5ee1f125d42d046664193e0885d"
    }
   }
  }
 },
 "nbformat": 4,
 "nbformat_minor": 2,
 "cells": [
  {
   "cell_type": "code",
   "execution_count": 56,
   "metadata": {},
   "outputs": [],
   "source": [
    "import numpy as np\n",
    "#np.random.seed(0)\n",
    "import pandas as pd\n",
    "from IPython.display import display\n",
    "\n",
    "def sigmoid (x):\n",
    "    return 1/(1 + np.exp(-x))\n",
    "\n",
    "def sigmoid_derivative(x):\n",
    "    return x * (1 - x)"
   ]
  },
  {
   "cell_type": "code",
   "execution_count": 57,
   "metadata": {},
   "outputs": [
    {
     "output_type": "stream",
     "name": "stdout",
     "text": [
      "Initial hidden weights: [0.19497795 0.02287278] [0.03268967 0.03595286] [0.11611273 0.79561392]\nInitial output weights: [0.62436297] [0.82813617]\n"
     ]
    }
   ],
   "source": [
    "#Input datasets\n",
    "inputs = np.array([\n",
    "    [0,0,0],\n",
    "    [1,0,0],\n",
    "    [0,1,0],\n",
    "    [1,1,0],\n",
    "    [0,0,1],\n",
    "    [1,0,1],\n",
    "    [0,1,1],\n",
    "    [1,1,1]\n",
    "])\n",
    "expected_output = np.array([\n",
    "    [0],\n",
    "    [1],\n",
    "    [1],\n",
    "    [0],\n",
    "    [0],\n",
    "    [1],\n",
    "    [1],\n",
    "    [0]\n",
    "])\n",
    "lr = 0.1\n",
    "\n",
    "inputLayerNeurons, hiddenLayerNeurons, outputLayerNeurons = inputs.shape[1], 2, expected_output.shape[1]\n",
    "#Random weights and bias initialization\n",
    "hidden_weights = np.random.uniform(size=(inputLayerNeurons,hiddenLayerNeurons))\n",
    "output_weights = np.random.uniform(size=(hiddenLayerNeurons,outputLayerNeurons))\n",
    "\n",
    "print(\"Initial hidden weights: \",end='')\n",
    "print(*hidden_weights)\n",
    "print(\"Initial output weights: \",end='')\n",
    "print(*output_weights)"
   ]
  },
  {
   "cell_type": "code",
   "execution_count": 58,
   "metadata": {},
   "outputs": [],
   "source": [
    "#Input datasets\n",
    "inputs = np.array([\n",
    "    # trainingData*inputLayerNeurons\n",
    "    [1, 0]\n",
    "])\n",
    "expected_output = np.array([\n",
    "    # trainingData*outputLayerNeurons\n",
    "    [1, 0]\n",
    "])\n",
    "lr = 0.5\n",
    "\n",
    "hidden_weights = np.array([\n",
    "    # inputLayerNeurons*hiddenLayerNeurons\n",
    "    [0.2, 0.3, 0.4],\n",
    "    [0.5, 0.6, 0.7]\n",
    "])\n",
    "output_weights = np.array([\n",
    "    # hiddenLayerNeurons*outputLayerNeurons\n",
    "    [0.8,0.25],\n",
    "    [0.9,0.35],\n",
    "    [0.1,0.15]\n",
    "])"
   ]
  },
  {
   "cell_type": "code",
   "execution_count": 63,
   "metadata": {},
   "outputs": [
    {
     "output_type": "display_data",
     "data": {
      "text/plain": "<pandas.io.formats.style.Styler at 0x251f5409ac0>",
      "text/html": "<style  type=\"text/css\" >\n</style><table id=\"T_2040d_\" ><thead>    <tr>        <th class=\"blank level0\" ></th>        <th class=\"col_heading level0 col0\" >Epoch</th>        <th class=\"col_heading level0 col1\" >Delta Hidden</th>        <th class=\"col_heading level0 col2\" >Hidden weights</th>        <th class=\"col_heading level0 col3\" >Delta Output</th>        <th class=\"col_heading level0 col4\" >Output weights</th>        <th class=\"col_heading level0 col5\" >Output</th>    </tr></thead><tbody>\n                <tr>\n                        <th id=\"T_2040d_level0_row0\" class=\"row_heading level0 row0\" >0</th>\n                        <td id=\"T_2040d_row0_col0\" class=\"data row0 col0\" >1</td>\n                        <td id=\"T_2040d_row0_col1\" class=\"data row0 col1\" >[[1.00997294e-04 9.93957563e-05 8.86957003e-05]]</td>\n                        <td id=\"T_2040d_row0_col2\" class=\"data row0 col2\" >[[1.25540318 1.32545803 1.26976641]\n [0.5        0.6        0.7       ]]</td>\n                        <td id=\"T_2040d_row0_col3\" class=\"data row0 col3\" >[[ 0.00015008 -0.00015462]]</td>\n                        <td id=\"T_2040d_row0_col4\" class=\"data row0 col4\" >[[ 2.03832295 -1.80625618]\n [ 2.17161367 -1.76816813]\n [ 1.38552982 -2.00571058]]</td>\n                        <td id=\"T_2040d_row0_col5\" class=\"data row0 col5\" >[[0.98767302 0.01251325]]</td>\n            </tr>\n    </tbody></table>"
     },
     "metadata": {}
    },
    {
     "output_type": "display_data",
     "data": {
      "text/plain": "<pandas.io.formats.style.Styler at 0x251f906e850>",
      "text/html": "<style  type=\"text/css\" >\n</style><table id=\"T_831c0_\" ><thead>    <tr>        <th class=\"blank level0\" ></th>        <th class=\"col_heading level0 col0\" >Epoch</th>        <th class=\"col_heading level0 col1\" >Delta Hidden</th>        <th class=\"col_heading level0 col2\" >Hidden weights</th>        <th class=\"col_heading level0 col3\" >Delta Output</th>        <th class=\"col_heading level0 col4\" >Output weights</th>        <th class=\"col_heading level0 col5\" >Output</th>    </tr></thead><tbody>\n                <tr>\n                        <th id=\"T_831c0_level0_row0\" class=\"row_heading level0 row0\" >0</th>\n                        <td id=\"T_831c0_row0_col0\" class=\"data row0 col0\" >1000</td>\n                        <td id=\"T_831c0_row0_col1\" class=\"data row0 col1\" >[[7.39625041e-05 7.27376150e-05 6.53131094e-05]]</td>\n                        <td id=\"T_831c0_row0_col2\" class=\"data row0 col2\" >[[1.29841531 1.36777284 1.30764417]\n [0.5        0.6        0.7       ]]</td>\n                        <td id=\"T_831c0_row0_col3\" class=\"data row0 col3\" >[[ 0.00010999 -0.00011272]]</td>\n                        <td id=\"T_831c0_row0_col4\" class=\"data row0 col4\" >[[ 2.08831537 -1.85761964]\n [ 2.22235116 -1.82029711]\n [ 1.43565036 -2.05720571]]</td>\n                        <td id=\"T_831c0_row0_col5\" class=\"data row0 col5\" >[[0.98945667 0.01067386]]</td>\n            </tr>\n    </tbody></table>"
     },
     "metadata": {}
    }
   ],
   "source": [
    "log = []\n",
    "epochs = 1000\n",
    "#Training algorithm\n",
    "for i in range(epochs):\n",
    "\t#Forward Propagation\n",
    "\thidden_layer_net = np.dot(inputs, hidden_weights)\n",
    "\thidden_layer_output = sigmoid(hidden_layer_net)\n",
    "\n",
    "\toutput_layer_net = np.dot(hidden_layer_output, output_weights)\n",
    "\tpredicted_output = sigmoid(output_layer_net)\n",
    "\n",
    "\t#Backpropagation\n",
    "\terror = expected_output - predicted_output\n",
    "\tdelta_predicted_output = error * sigmoid_derivative(predicted_output)\n",
    "\t\n",
    "\terror_hidden_layer = delta_predicted_output.dot(output_weights.T)\n",
    "\tdelta_hidden_layer = error_hidden_layer * sigmoid_derivative(hidden_layer_output)\n",
    "\n",
    "\t#Updating Weights\n",
    "\toutput_weights += hidden_layer_output.T.dot(delta_predicted_output) * lr\n",
    "\thidden_weights += inputs.T.dot(delta_hidden_layer) * lr\n",
    "\n",
    "\tlog.append({\n",
    "\t\t\t \"Epoch\": i + 1,\n",
    "\t\t\t \"Delta Hidden\":delta_hidden_layer,\n",
    "\t\t\t \"Hidden weights\":hidden_weights,\n",
    "\t\t\t \"Delta Output\":delta_predicted_output,\n",
    "\t\t\t \"Output weights\":output_weights,\n",
    "\t\t\t \"Output\":predicted_output})"
   ]
  },
  {
   "cell_type": "code",
   "execution_count": null,
   "metadata": {},
   "outputs": [],
   "source": [
    "n = 1\n",
    "df = pd.DataFrame(log[:n]); display(df.style)\n",
    "df = pd.DataFrame(log[-n:]); display(df.style)"
   ]
  },
  {
   "cell_type": "code",
   "execution_count": 60,
   "metadata": {},
   "outputs": [
    {
     "output_type": "stream",
     "name": "stdout",
     "text": [
      "Final_output:[1]\n"
     ]
    }
   ],
   "source": [
    "predicted_final_output=[]\n",
    "for i in predicted_output:\n",
    "  if i[0]>0.9:\n",
    "    predicted_final_output.append(1)\n",
    "  else:\n",
    "    predicted_final_output.append(0)\n",
    "\n",
    "print(\"Final_output:\",end='')\n",
    "print(predicted_final_output)"
   ]
  },
  {
   "cell_type": "code",
   "execution_count": null,
   "metadata": {},
   "outputs": [],
   "source": []
  }
 ]
}