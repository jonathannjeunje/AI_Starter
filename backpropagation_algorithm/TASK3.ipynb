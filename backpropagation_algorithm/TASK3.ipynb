{
 "metadata": {
  "language_info": {
   "codemirror_mode": {
    "name": "ipython",
    "version": 3
   },
   "file_extension": ".py",
   "mimetype": "text/x-python",
   "name": "python",
   "nbconvert_exporter": "python",
   "pygments_lexer": "ipython3",
   "version": "3.8.5-final"
  },
  "orig_nbformat": 2,
  "kernelspec": {
   "name": "python3",
   "display_name": "Python 3.8.5 64-bit",
   "metadata": {
    "interpreter": {
     "hash": "8e4d8516bd3b0e9eecd22f6b316a5e13855df5ee1f125d42d046664193e0885d"
    }
   }
  }
 },
 "nbformat": 4,
 "nbformat_minor": 2,
 "cells": [
  {
   "cell_type": "code",
   "execution_count": 160,
   "metadata": {},
   "outputs": [],
   "source": [
    "import numpy as np\n",
    "#np.random.seed(0)\n",
    "import pandas as pd\n",
    "from IPython.display import display\n",
    "\n",
    "def sigmoid (x):\n",
    "    return 1/(1 + np.exp(-x))\n",
    "\n",
    "def sigmoid_derivative(x):\n",
    "    return x * (1 - x)"
   ]
  },
  {
   "cell_type": "code",
   "execution_count": 161,
   "metadata": {},
   "outputs": [
    {
     "output_type": "display_data",
     "data": {
      "text/plain": "<pandas.io.formats.style.Styler at 0x251fab74c10>",
      "text/html": "<style  type=\"text/css\" >\n</style><table id=\"T_d7d65_\" ><thead>    <tr>        <th class=\"blank level0\" ></th>        <th class=\"col_heading level0 col0\" >Initial hidden weights</th>        <th class=\"col_heading level0 col1\" >Initial output weights</th>    </tr></thead><tbody>\n                <tr>\n                        <th id=\"T_d7d65_level0_row0\" class=\"row_heading level0 row0\" >0</th>\n                        <td id=\"T_d7d65_row0_col0\" class=\"data row0 col0\" >[[0.1413557  0.13154395]\n [0.87303529 0.560994  ]\n [0.95686303 0.0608095 ]]</td>\n                        <td id=\"T_d7d65_row0_col1\" class=\"data row0 col1\" >[[0.34027539]\n [0.12464081]]</td>\n            </tr>\n    </tbody></table>"
     },
     "metadata": {}
    }
   ],
   "source": [
    "#Input datasets\n",
    "inputs = np.array([\n",
    "    [0,0,0],\n",
    "    [1,0,0],\n",
    "    [0,1,0],\n",
    "    [1,1,0],\n",
    "    [0,0,1],\n",
    "    [1,0,1],\n",
    "    [0,1,1],\n",
    "    [1,1,1]\n",
    "])\n",
    "expected_output = np.array([\n",
    "    [0],\n",
    "    [1],\n",
    "    [1],\n",
    "    [0],\n",
    "    [0],\n",
    "    [1],\n",
    "    [1],\n",
    "    [0]\n",
    "])\n",
    "lr = 0.1\n",
    "\n",
    "inputLayerNeurons, hiddenLayerNeurons, outputLayerNeurons = inputs.shape[1], 2, expected_output.shape[1]\n",
    "#Random weights and bias initialization\n",
    "hidden_weights = np.random.uniform(size=(inputLayerNeurons,hiddenLayerNeurons))\n",
    "output_weights = np.random.uniform(size=(hiddenLayerNeurons,outputLayerNeurons))\n",
    "\n",
    "display(pd.DataFrame([{\n",
    "    \"Initial hidden weights\": hidden_weights,\n",
    "    \"Initial output weights\": output_weights,\n",
    "}]).style)"
   ]
  },
  {
   "cell_type": "code",
   "execution_count": 162,
   "metadata": {},
   "outputs": [],
   "source": [
    "#Input datasets\n",
    "inputs = np.array([\n",
    "    # trainingData*inputLayerNeurons\n",
    "    [1, 0]\n",
    "])\n",
    "expected_output = np.array([\n",
    "    # trainingData*outputLayerNeurons\n",
    "    [1, 0]\n",
    "])\n",
    "lr = 0.5\n",
    "\n",
    "hidden_weights = np.array([\n",
    "    # inputLayerNeurons*hiddenLayerNeurons\n",
    "    [0.2, 0.3, 0.4],\n",
    "    [0.5, 0.6, 0.7]\n",
    "])\n",
    "output_weights = np.array([\n",
    "    # hiddenLayerNeurons*outputLayerNeurons\n",
    "    [0.8,0.25],\n",
    "    [0.9,0.35],\n",
    "    [0.1,0.15]\n",
    "])"
   ]
  },
  {
   "cell_type": "code",
   "execution_count": 163,
   "metadata": {},
   "outputs": [],
   "source": [
    "def terminate_training(actual_outputs_of_ou, target_outputs, lower_margin, upper_margin):\n",
    "    for i, target_output in enumerate(target_outputs):\n",
    "        for j, item in enumerate(target_output):\n",
    "            if item == 1:\n",
    "                if actual_outputs_of_ou[i][j] <= upper_margin:\n",
    "                    return False\n",
    "            else:\n",
    "                if actual_outputs_of_ou[i][j] >= lower_margin:\n",
    "                    return False\n",
    "    # print(True, actual_outputs_of_ou)\n",
    "    return True"
   ]
  },
  {
   "cell_type": "code",
   "execution_count": 164,
   "metadata": {},
   "outputs": [],
   "source": [
    "log = []\n",
    "epochs = 100000\n",
    "#Training algorithm\n",
    "for i in range(epochs):\n",
    "\t#Forward Propagation\n",
    "\thidden_layer_net = np.dot(inputs, hidden_weights)\n",
    "\thidden_layer_output = sigmoid(hidden_layer_net)\n",
    "\n",
    "\toutput_layer_net = np.dot(hidden_layer_output, output_weights)\n",
    "\tpredicted_output = sigmoid(output_layer_net)\n",
    "\n",
    "\t#Backpropagation\n",
    "\terror = expected_output - predicted_output\n",
    "\tdelta_predicted_output = error * sigmoid_derivative(predicted_output)\n",
    "\t\n",
    "\terror_hidden_layer = delta_predicted_output.dot(output_weights.T)\n",
    "\tdelta_hidden_layer = error_hidden_layer * sigmoid_derivative(hidden_layer_output)\n",
    "\n",
    "\t#Updating Weights\n",
    "\toutput_weights += hidden_layer_output.T.dot(delta_predicted_output) * lr\n",
    "\thidden_weights += inputs.T.dot(delta_hidden_layer) * lr\n",
    "\n",
    "\tlog.append({\n",
    "\t\t\t \"Epoch\": i + 1,\n",
    "\t\t\t \"Delta Hidden\":delta_hidden_layer.copy(),\n",
    "\t\t\t \"Hidden weights\":hidden_weights.copy(),\n",
    "\t\t\t \"Delta Output\":delta_predicted_output.copy(),\n",
    "\t\t\t \"Output weights\":output_weights.copy(),\n",
    "\t\t\t \"Output\":predicted_output.copy()\n",
    "\t\t\t })\n",
    "\tif terminate_training(predicted_output, expected_output, 0.1, 0.9): break"
   ]
  },
  {
   "cell_type": "code",
   "execution_count": 165,
   "metadata": {},
   "outputs": [
    {
     "output_type": "display_data",
     "data": {
      "text/plain": "<pandas.io.formats.style.Styler at 0x251fb15f070>",
      "text/html": "<style  type=\"text/css\" >\n</style><table id=\"T_eada6_\" ><thead>    <tr>        <th class=\"blank level0\" ></th>        <th class=\"col_heading level0 col0\" >Epoch</th>        <th class=\"col_heading level0 col1\" >Delta Hidden</th>        <th class=\"col_heading level0 col2\" >Hidden weights</th>        <th class=\"col_heading level0 col3\" >Delta Output</th>        <th class=\"col_heading level0 col4\" >Output weights</th>        <th class=\"col_heading level0 col5\" >Output</th>    </tr></thead><tbody>\n                <tr>\n                        <th id=\"T_eada6_level0_row0\" class=\"row_heading level0 row0\" >0</th>\n                        <td id=\"T_eada6_row0_col0\" class=\"data row0 col0\" >1</td>\n                        <td id=\"T_eada6_row0_col1\" class=\"data row0 col1\" >[[ 0.0013128  -0.00097212 -0.00396721]]</td>\n                        <td id=\"T_eada6_row0_col2\" class=\"data row0 col2\" >[[0.2006564  0.29951394 0.39801639]\n [0.5        0.6        0.7       ]]</td>\n                        <td id=\"T_eada6_row0_col3\" class=\"data row0 col3\" >[[ 0.0518275  -0.14463248]]</td>\n                        <td id=\"T_eada6_row0_col4\" class=\"data row0 col4\" >[[0.81424826 0.21023807]\n [0.91488596 0.30845848]\n [0.11551424 0.10670516]]</td>\n                        <td id=\"T_eada6_row0_col5\" class=\"data row0 col5\" >[[0.73433598 0.6054716 ]]</td>\n            </tr>\n            <tr>\n                        <th id=\"T_eada6_level0_row1\" class=\"row_heading level0 row1\" >1</th>\n                        <td id=\"T_eada6_row1_col0\" class=\"data row1 col0\" >2</td>\n                        <td id=\"T_eada6_row1_col1\" class=\"data row1 col1\" >[[ 0.00271176  0.00049355 -0.00225914]]</td>\n                        <td id=\"T_eada6_row1_col2\" class=\"data row1 col2\" >[[0.20201228 0.29976072 0.39688682]\n [0.5        0.6        0.7       ]]</td>\n                        <td id=\"T_eada6_row1_col3\" class=\"data row1 col3\" >[[ 0.05024353 -0.14247721]]</td>\n                        <td id=\"T_eada6_row1_col4\" class=\"data row1 col4\" >[[0.82806514 0.17105709]\n [0.92931399 0.26754446]\n [0.13054236 0.06408944]]</td>\n                        <td id=\"T_eada6_row1_col5\" class=\"data row1 col5\" >[[0.73930824 0.58822136]]</td>\n            </tr>\n            <tr>\n                        <th id=\"T_eada6_level0_row2\" class=\"row_heading level0 row2\" >2</th>\n                        <td id=\"T_eada6_row2_col0\" class=\"data row2 col0\" >3</td>\n                        <td id=\"T_eada6_row2_col1\" class=\"data row2 col1\" >[[ 0.00406189  0.00191903 -0.00062629]]</td>\n                        <td id=\"T_eada6_row2_col2\" class=\"data row2 col2\" >[[0.20404322 0.30072023 0.39657368]\n [0.5        0.6        0.7       ]]</td>\n                        <td id=\"T_eada6_row2_col3\" class=\"data row2 col3\" >[[ 0.04871754 -0.13987965]]</td>\n                        <td id=\"T_eada6_row2_col4\" class=\"data row2 col4\" >[[0.84147056 0.13256697]\n [0.94330528 0.22737214]\n [0.14510743 0.02226966]]</td>\n                        <td id=\"T_eada6_row2_col5\" class=\"data row2 col5\" >[[0.74413077 0.57104918]]</td>\n            </tr>\n    </tbody></table>"
     },
     "metadata": {}
    },
    {
     "output_type": "display_data",
     "data": {
      "text/plain": "<pandas.io.formats.style.Styler at 0x251f9510130>",
      "text/html": "<style  type=\"text/css\" >\n</style><table id=\"T_87bdc_\" ><thead>    <tr>        <th class=\"blank level0\" ></th>        <th class=\"col_heading level0 col0\" >Epoch</th>        <th class=\"col_heading level0 col1\" >Delta Hidden</th>        <th class=\"col_heading level0 col2\" >Hidden weights</th>        <th class=\"col_heading level0 col3\" >Delta Output</th>        <th class=\"col_heading level0 col4\" >Output weights</th>        <th class=\"col_heading level0 col5\" >Output</th>    </tr></thead><tbody>\n                <tr>\n                        <th id=\"T_87bdc_level0_row0\" class=\"row_heading level0 row0\" >0</th>\n                        <td id=\"T_87bdc_row0_col0\" class=\"data row0 col0\" >108</td>\n                        <td id=\"T_87bdc_row0_col1\" class=\"data row0 col1\" >[[0.00416462 0.00412254 0.00345507]]</td>\n                        <td id=\"T_87bdc_row0_col2\" class=\"data row0 col2\" >[[0.64557398 0.72255345 0.75224702]\n [0.5        0.6        0.7       ]]</td>\n                        <td id=\"T_87bdc_row0_col3\" class=\"data row0 col3\" >[[ 0.00645881 -0.00915643]]</td>\n                        <td id=\"T_87bdc_row0_col4\" class=\"data row0 col4\" >[[ 1.37690758 -1.0474888 ]\n [ 1.49675616 -0.99376809]\n [ 0.71313111 -1.23368996]]</td>\n                        <td id=\"T_87bdc_row0_col5\" class=\"data row0 col5\" >[[0.91603056 0.10091672]]</td>\n            </tr>\n            <tr>\n                        <th id=\"T_87bdc_level0_row1\" class=\"row_heading level0 row1\" >1</th>\n                        <td id=\"T_87bdc_row1_col0\" class=\"data row1 col0\" >109</td>\n                        <td id=\"T_87bdc_row1_col1\" class=\"data row1 col1\" >[[0.00412288 0.0040814  0.00342049]]</td>\n                        <td id=\"T_87bdc_row1_col2\" class=\"data row1 col2\" >[[0.64763542 0.72459415 0.75395726]\n [0.5        0.6        0.7       ]]</td>\n                        <td id=\"T_87bdc_row1_col3\" class=\"data row1 col3\" >[[ 0.00639213 -0.00903963]]</td>\n                        <td id=\"T_87bdc_row1_col4\" class=\"data row1 col4\" >[[ 1.37900424 -1.05045385]\n [ 1.49890765 -0.99681069]\n [ 0.71530337 -1.23676193]]</td>\n                        <td id=\"T_87bdc_row1_col5\" class=\"data row1 col5\" >[[0.91648587 0.10023292]]</td>\n            </tr>\n            <tr>\n                        <th id=\"T_87bdc_level0_row2\" class=\"row_heading level0 row2\" >2</th>\n                        <td id=\"T_87bdc_row2_col0\" class=\"data row2 col0\" >110</td>\n                        <td id=\"T_87bdc_row2_col1\" class=\"data row2 col1\" >[[0.00408188 0.00404099 0.00338653]]</td>\n                        <td id=\"T_87bdc_row2_col2\" class=\"data row2 col2\" >[[0.64967636 0.72661464 0.75565052]\n [0.5        0.6        0.7       ]]</td>\n                        <td id=\"T_87bdc_row2_col3\" class=\"data row2 col3\" >[[ 0.00632668 -0.00892543]]</td>\n                        <td id=\"T_87bdc_row2_col4\" class=\"data row2 col4\" >[[ 1.3810809  -1.05338353]\n [ 1.50103854 -0.99981685]\n [ 0.71745457 -1.23979676]]</td>\n                        <td id=\"T_87bdc_row2_col5\" class=\"data row2 col5\" >[[0.91693486 0.09956057]]</td>\n            </tr>\n    </tbody></table>"
     },
     "metadata": {}
    }
   ],
   "source": [
    "n = 3\n",
    "display(pd.DataFrame(log[:n]).style)\n",
    "display(pd.DataFrame(log[-n:]).style)"
   ]
  },
  {
   "cell_type": "code",
   "execution_count": null,
   "metadata": {},
   "outputs": [],
   "source": []
  }
 ]
}