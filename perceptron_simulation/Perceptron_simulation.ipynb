{
 "metadata": {
  "language_info": {
   "codemirror_mode": {
    "name": "ipython",
    "version": 3
   },
   "file_extension": ".py",
   "mimetype": "text/x-python",
   "name": "python",
   "nbconvert_exporter": "python",
   "pygments_lexer": "ipython3",
   "version": "3.8.5-final"
  },
  "orig_nbformat": 2,
  "kernelspec": {
   "name": "python3",
   "display_name": "Python 3",
   "language": "python"
  }
 },
 "nbformat": 4,
 "nbformat_minor": 2,
 "cells": [
  {
   "cell_type": "code",
   "execution_count": 9,
   "metadata": {},
   "outputs": [],
   "source": [
    "import pprint as pp\n",
    "import json"
   ]
  },
  {
   "cell_type": "code",
   "execution_count": 10,
   "metadata": {},
   "outputs": [],
   "source": [
    "def actual_output_fn(input, current_weight, threshold):\n",
    "    weighted_sum = 0 \n",
    "    for i in range(len(input)):\n",
    "        weighted_sum += input[i] * current_weight[i]\n",
    "    if weighted_sum < threshold: return 0\n",
    "    else: return 1\n",
    "\n",
    "def new_weight_fn(current_weight, learning_coefficient, target_output, actual_output, input):\n",
    "    size = len(current_weight)\n",
    "    new_weight = [0]*size\n",
    "    for i in range(size):\n",
    "        new_weight[i] = current_weight[i] + learning_coefficient * (target_output - actual_output) * input[i]\n",
    "    return new_weight\n",
    "\n",
    "def weight_change_fn(current_weight, updated_weight):\n",
    "    size = len(current_weight)\n",
    "    weight_change = [0]*size\n",
    "    for i in range(size):\n",
    "        weight_change[i] = updated_weight[i] - current_weight[i]\n",
    "    return weight_change\n",
    "\n",
    "def perceptron_simulation(data):\n",
    "    current_weight = data[\"original_weight\"]\n",
    "    size = len(data[\"input\"])\n",
    "    actual_output = [0]*size\n",
    "    flag = 1\n",
    "    epoque = 0\n",
    "    log = []\n",
    "    while(flag == 1):\n",
    "        epoque += 1\n",
    "        print(\"\\nEpoque\", epoque,\": \")\n",
    "        for i in range(size):\n",
    "            actual_output[i] = actual_output_fn(data[\"input\"][i], current_weight, data[\"threshold\"])\n",
    "            updated_weight = new_weight_fn(current_weight, data[\"learning_coefficient\"], data[\"target_output\"][i], actual_output[i], data[\"input\"][i])\n",
    "\n",
    "            print(\"\"\"\n",
    "                    target_output: %s\n",
    "                    actual_output: %s\n",
    "                    current_weight: %s\n",
    "                    weight_change: %s\n",
    "                    current_weight: %s\n",
    "                \"\"\" %(\n",
    "                    data[\"target_output\"][i],\n",
    "                    actual_output[i], \n",
    "                    current_weight,\n",
    "                    weight_change_fn(current_weight, updated_weight),\n",
    "                    updated_weight)\n",
    "                    )\n",
    "            log.append({\n",
    "                \"target_output\": data[\"target_output\"][i],\n",
    "                \"actual_output\": actual_output[i],\n",
    "                \"current_weight\": current_weight,\n",
    "                \"weight_change\": weight_change_fn(current_weight, updated_weight),\n",
    "                \"current_weight\": updated_weight\n",
    "            })\n",
    "            current_weight = updated_weight\n",
    "\n",
    "        flag = 0\n",
    "        for i in range(size):\n",
    "            if data[\"target_output\"][i]^actual_output[i] == 1: \n",
    "                flag = 1\n",
    "                break\n",
    "    return log"
   ]
  },
  {
   "cell_type": "code",
   "execution_count": null,
   "metadata": {},
   "outputs": [],
   "source": []
  },
  {
   "cell_type": "code",
   "execution_count": 11,
   "metadata": {
    "tags": []
   },
   "outputs": [],
   "source": [
    "# with open('dataset.json', 'r') as file: dataset = json.load(file)\n",
    "# for data in dataset:\n",
    "#     pp.pprint(data)\n",
    "#     perceptron_simulation(data)"
   ]
  },
  {
   "cell_type": "code",
   "execution_count": 3,
   "metadata": {},
   "outputs": [
    {
     "output_type": "error",
     "ename": "IndentationError",
     "evalue": "unexpected indent (<ipython-input-3-7ac3488b3411>, line 12)",
     "traceback": [
      "\u001b[1;36m  File \u001b[1;32m\"<ipython-input-3-7ac3488b3411>\"\u001b[1;36m, line \u001b[1;32m12\u001b[0m\n\u001b[1;33m    perceptron_simulation(data)\u001b[0m\n\u001b[1;37m    ^\u001b[0m\n\u001b[1;31mIndentationError\u001b[0m\u001b[1;31m:\u001b[0m unexpected indent\n"
     ]
    }
   ],
   "source": [
    "data = {\"input\": [\n",
    "            [0, 0], \n",
    "            [0, 1], \n",
    "            [1, 0], \n",
    "            [1, 1]\n",
    "            ],\n",
    "        \"target_output\": [0, 1, 1 , 1],\n",
    "        \"original_weight\": [0.9, 0.8],\n",
    "        \"learning_coefficient\": 0.7,\n",
    "        \"threshold\": 3.1\n",
    "    }\n",
    "    perceptron_simulation(data)"
   ]
  },
  {
   "cell_type": "code",
   "execution_count": null,
   "metadata": {},
   "outputs": [],
   "source": []
  }
 ]
}