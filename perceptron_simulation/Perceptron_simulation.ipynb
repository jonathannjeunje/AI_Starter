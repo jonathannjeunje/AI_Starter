{
 "metadata": {
  "language_info": {
   "codemirror_mode": {
    "name": "ipython",
    "version": 3
   },
   "file_extension": ".py",
   "mimetype": "text/x-python",
   "name": "python",
   "nbconvert_exporter": "python",
   "pygments_lexer": "ipython3",
   "version": "3.8.5-final"
  },
  "orig_nbformat": 2,
  "kernelspec": {
   "name": "python3",
   "display_name": "Python 3",
   "language": "python"
  }
 },
 "nbformat": 4,
 "nbformat_minor": 2,
 "cells": [
  {
   "cell_type": "code",
   "execution_count": 60,
   "metadata": {},
   "outputs": [],
   "source": [
    "import pprint as pp\n",
    "import json\n",
    "import pandas as pd\n",
    "from IPython.display import display\n"
   ]
  },
  {
   "cell_type": "code",
   "execution_count": 61,
   "metadata": {},
   "outputs": [],
   "source": [
    "def actual_output_fn(input, current_weight, threshold):\n",
    "    weighted_sum = 0 \n",
    "    for i in range(len(input)):\n",
    "        weighted_sum += input[i] * current_weight[i]\n",
    "    if weighted_sum < threshold: return 0\n",
    "    else: return 1\n",
    "\n",
    "def new_weight_fn(current_weight, learning_coefficient, target_output, actual_output, input):\n",
    "    size = len(current_weight)\n",
    "    new_weight = [0]*size\n",
    "    for i in range(size):\n",
    "        new_weight[i] = current_weight[i] + learning_coefficient * (target_output - actual_output) * input[i]\n",
    "    return new_weight\n",
    "\n",
    "def weight_change_fn(current_weight, updated_weight):\n",
    "    size = len(current_weight)\n",
    "    weight_change = [0]*size\n",
    "    for i in range(size):\n",
    "        weight_change[i] = updated_weight[i] - current_weight[i]\n",
    "    return weight_change\n",
    "\n",
    "def perceptron_simulation(data):\n",
    "    current_weight = data[\"original_weight\"]\n",
    "    size = len(data[\"input\"])\n",
    "    actual_output = [0]*size\n",
    "    flag = 1\n",
    "    epoque = 0\n",
    "    log = []\n",
    "    while(flag == 1):\n",
    "        epoque += 1\n",
    "        # print(\"\\nEpoque\", epoque,\": \")\n",
    "        for i in range(size):\n",
    "            actual_output[i] = actual_output_fn(data[\"input\"][i], current_weight, data[\"threshold\"])\n",
    "            updated_weight = new_weight_fn(current_weight, data[\"learning_coefficient\"], data[\"target_output\"][i], actual_output[i], data[\"input\"][i])\n",
    "\n",
    "            # print(\"\"\"\n",
    "            #         target_output: %s\n",
    "            #         actual_output: %s\n",
    "            #         current_weight: %s\n",
    "            #         weight_change: %s\n",
    "            #         current_weight: %s\n",
    "            #     \"\"\" %(\n",
    "            #         data[\"target_output\"][i],\n",
    "            #         actual_output[i], \n",
    "            #         current_weight,\n",
    "            #         weight_change_fn(current_weight, updated_weight),\n",
    "            #         updated_weight)\n",
    "            #         )\n",
    "            log.append({\n",
    "                \"Epoch\": epoque,\n",
    "                \"input\": data[\"input\"][i],\n",
    "                \"target_output\": data[\"target_output\"][i],\n",
    "                \"original_weight\": current_weight,\n",
    "                \"actual_output\": actual_output[i],\n",
    "                \"weight_change\": weight_change_fn(current_weight, updated_weight),\n",
    "                \"updated_weight\": updated_weight\n",
    "\n",
    "            })\n",
    "            current_weight = updated_weight\n",
    "\n",
    "        flag = 0\n",
    "        for i in range(size):\n",
    "            if data[\"target_output\"][i]^actual_output[i] == 1: \n",
    "                flag = 1\n",
    "                break\n",
    "    return log"
   ]
  },
  {
   "cell_type": "code",
   "execution_count": null,
   "metadata": {},
   "outputs": [],
   "source": []
  },
  {
   "cell_type": "code",
   "execution_count": 62,
   "metadata": {
    "tags": []
   },
   "outputs": [],
   "source": [
    "# with open('dataset.json', 'r') as file: dataset = json.load(file)\n",
    "# for data in dataset:\n",
    "#     pp.pprint(data)\n",
    "#     perceptron_simulation(data)"
   ]
  },
  {
   "cell_type": "code",
   "execution_count": 63,
   "metadata": {},
   "outputs": [],
   "source": [
    "data = {\"input\": [\n",
    "            [0, 0], \n",
    "            [0, 1], \n",
    "            [1, 0], \n",
    "            [1, 1]\n",
    "            ],\n",
    "        \"target_output\": [0, 1, 1 , 1],\n",
    "        \"original_weight\": [0.6, 0.5],\n",
    "        \"learning_coefficient\": 0.5,\n",
    "        \"threshold\": 2.0\n",
    "    }\n",
    "log = perceptron_simulation(data)\n",
    "\n"
   ]
  },
  {
   "cell_type": "code",
   "execution_count": 64,
   "metadata": {},
   "outputs": [
    {
     "output_type": "display_data",
     "data": {
      "text/plain": "<pandas.io.formats.style.Styler at 0x1de16894ac0>",
      "text/html": "<style  type=\"text/css\" >\n</style><table id=\"T_0fb5c_\" ><thead></thead><tbody>\n        </tbody></table>"
     },
     "metadata": {}
    },
    {
     "output_type": "display_data",
     "data": {
      "text/plain": "<pandas.io.formats.style.Styler at 0x1de168941c0>",
      "text/html": "<style  type=\"text/css\" >\n</style><table id=\"T_de6ae_\" ><thead>    <tr>        <th class=\"blank level0\" ></th>        <th class=\"col_heading level0 col0\" >Epoch</th>        <th class=\"col_heading level0 col1\" >input</th>        <th class=\"col_heading level0 col2\" >target_output</th>        <th class=\"col_heading level0 col3\" >original_weight</th>        <th class=\"col_heading level0 col4\" >actual_output</th>        <th class=\"col_heading level0 col5\" >weight_change</th>        <th class=\"col_heading level0 col6\" >updated_weight</th>    </tr></thead><tbody>\n                <tr>\n                        <th id=\"T_de6ae_level0_row0\" class=\"row_heading level0 row0\" >0</th>\n                        <td id=\"T_de6ae_row0_col0\" class=\"data row0 col0\" >1</td>\n                        <td id=\"T_de6ae_row0_col1\" class=\"data row0 col1\" >[0, 0]</td>\n                        <td id=\"T_de6ae_row0_col2\" class=\"data row0 col2\" >0</td>\n                        <td id=\"T_de6ae_row0_col3\" class=\"data row0 col3\" >[0.6, 0.5]</td>\n                        <td id=\"T_de6ae_row0_col4\" class=\"data row0 col4\" >0</td>\n                        <td id=\"T_de6ae_row0_col5\" class=\"data row0 col5\" >[0.0, 0.0]</td>\n                        <td id=\"T_de6ae_row0_col6\" class=\"data row0 col6\" >[0.6, 0.5]</td>\n            </tr>\n            <tr>\n                        <th id=\"T_de6ae_level0_row1\" class=\"row_heading level0 row1\" >1</th>\n                        <td id=\"T_de6ae_row1_col0\" class=\"data row1 col0\" >1</td>\n                        <td id=\"T_de6ae_row1_col1\" class=\"data row1 col1\" >[0, 1]</td>\n                        <td id=\"T_de6ae_row1_col2\" class=\"data row1 col2\" >1</td>\n                        <td id=\"T_de6ae_row1_col3\" class=\"data row1 col3\" >[0.6, 0.5]</td>\n                        <td id=\"T_de6ae_row1_col4\" class=\"data row1 col4\" >0</td>\n                        <td id=\"T_de6ae_row1_col5\" class=\"data row1 col5\" >[0.0, 0.5]</td>\n                        <td id=\"T_de6ae_row1_col6\" class=\"data row1 col6\" >[0.6, 1.0]</td>\n            </tr>\n            <tr>\n                        <th id=\"T_de6ae_level0_row2\" class=\"row_heading level0 row2\" >2</th>\n                        <td id=\"T_de6ae_row2_col0\" class=\"data row2 col0\" >1</td>\n                        <td id=\"T_de6ae_row2_col1\" class=\"data row2 col1\" >[1, 0]</td>\n                        <td id=\"T_de6ae_row2_col2\" class=\"data row2 col2\" >1</td>\n                        <td id=\"T_de6ae_row2_col3\" class=\"data row2 col3\" >[0.6, 1.0]</td>\n                        <td id=\"T_de6ae_row2_col4\" class=\"data row2 col4\" >0</td>\n                        <td id=\"T_de6ae_row2_col5\" class=\"data row2 col5\" >[0.5000000000000001, 0.0]</td>\n                        <td id=\"T_de6ae_row2_col6\" class=\"data row2 col6\" >[1.1, 1.0]</td>\n            </tr>\n            <tr>\n                        <th id=\"T_de6ae_level0_row3\" class=\"row_heading level0 row3\" >3</th>\n                        <td id=\"T_de6ae_row3_col0\" class=\"data row3 col0\" >1</td>\n                        <td id=\"T_de6ae_row3_col1\" class=\"data row3 col1\" >[1, 1]</td>\n                        <td id=\"T_de6ae_row3_col2\" class=\"data row3 col2\" >1</td>\n                        <td id=\"T_de6ae_row3_col3\" class=\"data row3 col3\" >[1.1, 1.0]</td>\n                        <td id=\"T_de6ae_row3_col4\" class=\"data row3 col4\" >1</td>\n                        <td id=\"T_de6ae_row3_col5\" class=\"data row3 col5\" >[0.0, 0.0]</td>\n                        <td id=\"T_de6ae_row3_col6\" class=\"data row3 col6\" >[1.1, 1.0]</td>\n            </tr>\n            <tr>\n                        <th id=\"T_de6ae_level0_row4\" class=\"row_heading level0 row4\" >4</th>\n                        <td id=\"T_de6ae_row4_col0\" class=\"data row4 col0\" >2</td>\n                        <td id=\"T_de6ae_row4_col1\" class=\"data row4 col1\" >[0, 0]</td>\n                        <td id=\"T_de6ae_row4_col2\" class=\"data row4 col2\" >0</td>\n                        <td id=\"T_de6ae_row4_col3\" class=\"data row4 col3\" >[1.1, 1.0]</td>\n                        <td id=\"T_de6ae_row4_col4\" class=\"data row4 col4\" >0</td>\n                        <td id=\"T_de6ae_row4_col5\" class=\"data row4 col5\" >[0.0, 0.0]</td>\n                        <td id=\"T_de6ae_row4_col6\" class=\"data row4 col6\" >[1.1, 1.0]</td>\n            </tr>\n            <tr>\n                        <th id=\"T_de6ae_level0_row5\" class=\"row_heading level0 row5\" >5</th>\n                        <td id=\"T_de6ae_row5_col0\" class=\"data row5 col0\" >2</td>\n                        <td id=\"T_de6ae_row5_col1\" class=\"data row5 col1\" >[0, 1]</td>\n                        <td id=\"T_de6ae_row5_col2\" class=\"data row5 col2\" >1</td>\n                        <td id=\"T_de6ae_row5_col3\" class=\"data row5 col3\" >[1.1, 1.0]</td>\n                        <td id=\"T_de6ae_row5_col4\" class=\"data row5 col4\" >0</td>\n                        <td id=\"T_de6ae_row5_col5\" class=\"data row5 col5\" >[0.0, 0.5]</td>\n                        <td id=\"T_de6ae_row5_col6\" class=\"data row5 col6\" >[1.1, 1.5]</td>\n            </tr>\n            <tr>\n                        <th id=\"T_de6ae_level0_row6\" class=\"row_heading level0 row6\" >6</th>\n                        <td id=\"T_de6ae_row6_col0\" class=\"data row6 col0\" >2</td>\n                        <td id=\"T_de6ae_row6_col1\" class=\"data row6 col1\" >[1, 0]</td>\n                        <td id=\"T_de6ae_row6_col2\" class=\"data row6 col2\" >1</td>\n                        <td id=\"T_de6ae_row6_col3\" class=\"data row6 col3\" >[1.1, 1.5]</td>\n                        <td id=\"T_de6ae_row6_col4\" class=\"data row6 col4\" >0</td>\n                        <td id=\"T_de6ae_row6_col5\" class=\"data row6 col5\" >[0.5, 0.0]</td>\n                        <td id=\"T_de6ae_row6_col6\" class=\"data row6 col6\" >[1.6, 1.5]</td>\n            </tr>\n            <tr>\n                        <th id=\"T_de6ae_level0_row7\" class=\"row_heading level0 row7\" >7</th>\n                        <td id=\"T_de6ae_row7_col0\" class=\"data row7 col0\" >2</td>\n                        <td id=\"T_de6ae_row7_col1\" class=\"data row7 col1\" >[1, 1]</td>\n                        <td id=\"T_de6ae_row7_col2\" class=\"data row7 col2\" >1</td>\n                        <td id=\"T_de6ae_row7_col3\" class=\"data row7 col3\" >[1.6, 1.5]</td>\n                        <td id=\"T_de6ae_row7_col4\" class=\"data row7 col4\" >1</td>\n                        <td id=\"T_de6ae_row7_col5\" class=\"data row7 col5\" >[0.0, 0.0]</td>\n                        <td id=\"T_de6ae_row7_col6\" class=\"data row7 col6\" >[1.6, 1.5]</td>\n            </tr>\n            <tr>\n                        <th id=\"T_de6ae_level0_row8\" class=\"row_heading level0 row8\" >8</th>\n                        <td id=\"T_de6ae_row8_col0\" class=\"data row8 col0\" >3</td>\n                        <td id=\"T_de6ae_row8_col1\" class=\"data row8 col1\" >[0, 0]</td>\n                        <td id=\"T_de6ae_row8_col2\" class=\"data row8 col2\" >0</td>\n                        <td id=\"T_de6ae_row8_col3\" class=\"data row8 col3\" >[1.6, 1.5]</td>\n                        <td id=\"T_de6ae_row8_col4\" class=\"data row8 col4\" >0</td>\n                        <td id=\"T_de6ae_row8_col5\" class=\"data row8 col5\" >[0.0, 0.0]</td>\n                        <td id=\"T_de6ae_row8_col6\" class=\"data row8 col6\" >[1.6, 1.5]</td>\n            </tr>\n            <tr>\n                        <th id=\"T_de6ae_level0_row9\" class=\"row_heading level0 row9\" >9</th>\n                        <td id=\"T_de6ae_row9_col0\" class=\"data row9 col0\" >3</td>\n                        <td id=\"T_de6ae_row9_col1\" class=\"data row9 col1\" >[0, 1]</td>\n                        <td id=\"T_de6ae_row9_col2\" class=\"data row9 col2\" >1</td>\n                        <td id=\"T_de6ae_row9_col3\" class=\"data row9 col3\" >[1.6, 1.5]</td>\n                        <td id=\"T_de6ae_row9_col4\" class=\"data row9 col4\" >0</td>\n                        <td id=\"T_de6ae_row9_col5\" class=\"data row9 col5\" >[0.0, 0.5]</td>\n                        <td id=\"T_de6ae_row9_col6\" class=\"data row9 col6\" >[1.6, 2.0]</td>\n            </tr>\n            <tr>\n                        <th id=\"T_de6ae_level0_row10\" class=\"row_heading level0 row10\" >10</th>\n                        <td id=\"T_de6ae_row10_col0\" class=\"data row10 col0\" >3</td>\n                        <td id=\"T_de6ae_row10_col1\" class=\"data row10 col1\" >[1, 0]</td>\n                        <td id=\"T_de6ae_row10_col2\" class=\"data row10 col2\" >1</td>\n                        <td id=\"T_de6ae_row10_col3\" class=\"data row10 col3\" >[1.6, 2.0]</td>\n                        <td id=\"T_de6ae_row10_col4\" class=\"data row10 col4\" >0</td>\n                        <td id=\"T_de6ae_row10_col5\" class=\"data row10 col5\" >[0.5, 0.0]</td>\n                        <td id=\"T_de6ae_row10_col6\" class=\"data row10 col6\" >[2.1, 2.0]</td>\n            </tr>\n            <tr>\n                        <th id=\"T_de6ae_level0_row11\" class=\"row_heading level0 row11\" >11</th>\n                        <td id=\"T_de6ae_row11_col0\" class=\"data row11 col0\" >3</td>\n                        <td id=\"T_de6ae_row11_col1\" class=\"data row11 col1\" >[1, 1]</td>\n                        <td id=\"T_de6ae_row11_col2\" class=\"data row11 col2\" >1</td>\n                        <td id=\"T_de6ae_row11_col3\" class=\"data row11 col3\" >[2.1, 2.0]</td>\n                        <td id=\"T_de6ae_row11_col4\" class=\"data row11 col4\" >1</td>\n                        <td id=\"T_de6ae_row11_col5\" class=\"data row11 col5\" >[0.0, 0.0]</td>\n                        <td id=\"T_de6ae_row11_col6\" class=\"data row11 col6\" >[2.1, 2.0]</td>\n            </tr>\n            <tr>\n                        <th id=\"T_de6ae_level0_row12\" class=\"row_heading level0 row12\" >12</th>\n                        <td id=\"T_de6ae_row12_col0\" class=\"data row12 col0\" >4</td>\n                        <td id=\"T_de6ae_row12_col1\" class=\"data row12 col1\" >[0, 0]</td>\n                        <td id=\"T_de6ae_row12_col2\" class=\"data row12 col2\" >0</td>\n                        <td id=\"T_de6ae_row12_col3\" class=\"data row12 col3\" >[2.1, 2.0]</td>\n                        <td id=\"T_de6ae_row12_col4\" class=\"data row12 col4\" >0</td>\n                        <td id=\"T_de6ae_row12_col5\" class=\"data row12 col5\" >[0.0, 0.0]</td>\n                        <td id=\"T_de6ae_row12_col6\" class=\"data row12 col6\" >[2.1, 2.0]</td>\n            </tr>\n            <tr>\n                        <th id=\"T_de6ae_level0_row13\" class=\"row_heading level0 row13\" >13</th>\n                        <td id=\"T_de6ae_row13_col0\" class=\"data row13 col0\" >4</td>\n                        <td id=\"T_de6ae_row13_col1\" class=\"data row13 col1\" >[0, 1]</td>\n                        <td id=\"T_de6ae_row13_col2\" class=\"data row13 col2\" >1</td>\n                        <td id=\"T_de6ae_row13_col3\" class=\"data row13 col3\" >[2.1, 2.0]</td>\n                        <td id=\"T_de6ae_row13_col4\" class=\"data row13 col4\" >1</td>\n                        <td id=\"T_de6ae_row13_col5\" class=\"data row13 col5\" >[0.0, 0.0]</td>\n                        <td id=\"T_de6ae_row13_col6\" class=\"data row13 col6\" >[2.1, 2.0]</td>\n            </tr>\n            <tr>\n                        <th id=\"T_de6ae_level0_row14\" class=\"row_heading level0 row14\" >14</th>\n                        <td id=\"T_de6ae_row14_col0\" class=\"data row14 col0\" >4</td>\n                        <td id=\"T_de6ae_row14_col1\" class=\"data row14 col1\" >[1, 0]</td>\n                        <td id=\"T_de6ae_row14_col2\" class=\"data row14 col2\" >1</td>\n                        <td id=\"T_de6ae_row14_col3\" class=\"data row14 col3\" >[2.1, 2.0]</td>\n                        <td id=\"T_de6ae_row14_col4\" class=\"data row14 col4\" >1</td>\n                        <td id=\"T_de6ae_row14_col5\" class=\"data row14 col5\" >[0.0, 0.0]</td>\n                        <td id=\"T_de6ae_row14_col6\" class=\"data row14 col6\" >[2.1, 2.0]</td>\n            </tr>\n            <tr>\n                        <th id=\"T_de6ae_level0_row15\" class=\"row_heading level0 row15\" >15</th>\n                        <td id=\"T_de6ae_row15_col0\" class=\"data row15 col0\" >4</td>\n                        <td id=\"T_de6ae_row15_col1\" class=\"data row15 col1\" >[1, 1]</td>\n                        <td id=\"T_de6ae_row15_col2\" class=\"data row15 col2\" >1</td>\n                        <td id=\"T_de6ae_row15_col3\" class=\"data row15 col3\" >[2.1, 2.0]</td>\n                        <td id=\"T_de6ae_row15_col4\" class=\"data row15 col4\" >1</td>\n                        <td id=\"T_de6ae_row15_col5\" class=\"data row15 col5\" >[0.0, 0.0]</td>\n                        <td id=\"T_de6ae_row15_col6\" class=\"data row15 col6\" >[2.1, 2.0]</td>\n            </tr>\n    </tbody></table>"
     },
     "metadata": {}
    }
   ],
   "source": [
    "n = 0\n",
    "display(pd.DataFrame(log[:n]).style)\n",
    "display(pd.DataFrame(log[-n:]).style)"
   ]
  },
  {
   "cell_type": "code",
   "execution_count": null,
   "metadata": {},
   "outputs": [],
   "source": []
  }
 ]
}