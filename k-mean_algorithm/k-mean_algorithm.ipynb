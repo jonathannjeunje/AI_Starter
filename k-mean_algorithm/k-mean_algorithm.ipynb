{
 "metadata": {
  "language_info": {
   "codemirror_mode": {
    "name": "ipython",
    "version": 3
   },
   "file_extension": ".py",
   "mimetype": "text/x-python",
   "name": "python",
   "nbconvert_exporter": "python",
   "pygments_lexer": "ipython3",
   "version": "3.8.5"
  },
  "orig_nbformat": 2,
  "kernelspec": {
   "name": "python385jvsc74a57bd08e4d8516bd3b0e9eecd22f6b316a5e13855df5ee1f125d42d046664193e0885d",
   "display_name": "Python 3.8.5 64-bit"
  }
 },
 "nbformat": 4,
 "nbformat_minor": 2,
 "cells": [
  {
   "source": [
    "# K-means Algorithm"
   ],
   "cell_type": "markdown",
   "metadata": {}
  },
  {
   "cell_type": "code",
   "execution_count": 22,
   "metadata": {},
   "outputs": [],
   "source": [
    "import numpy as np"
   ]
  },
  {
   "cell_type": "code",
   "execution_count": 23,
   "metadata": {},
   "outputs": [],
   "source": [
    "class Point:\n",
    "    def __init__(self, coords = []):\n",
    "        self.coords = tuple(coords)\n",
    "    def euc_dist_from(self, point) -> float:\n",
    "        return np.linalg.norm(np.array(point.coords) - np.array(self.coords))\n",
    "    def add(self, point):\n",
    "        self.coords = tuple(np.array(self.coords) + np.array(point.coords))\n",
    "    def div(self, denum: int):\n",
    "        self.coords = tuple(np.array(self.coords)/denum)\n",
    "    def __str__(self):\n",
    "        return str(self.coords)\n",
    "    def __len__(self):\n",
    "        return len(self.coords)\n",
    "    def __hash__(self):\n",
    "        return hash(self.coords)\n",
    "    def __round__(self, num_dec):\n",
    "        return tuple(np.round(np.array(self.coords), num_dec))"
   ]
  },
  {
   "cell_type": "code",
   "execution_count": 24,
   "metadata": {},
   "outputs": [],
   "source": [
    "class Kmeans:\n",
    "    def __init__(self, data = [[]], centroids = [[]]):\n",
    "        self.data = [Point(item) for item in data]\n",
    "        self.centroids = [Point(item) for item in centroids]\n",
    "        self.init_clusters()\n",
    "\n",
    "    def init_clusters(self):\n",
    "        self.clusters = {f'Cluster-{idx+1}': [] for idx in range(len(self.centroids))}\n",
    "\n",
    "    def __str__(self):\n",
    "        return f'data: {data}\\centroids: {centroids}'\n",
    "\n",
    "    def kmeans_process(self):\n",
    "        prev_clusters = None\n",
    "        while True:\n",
    "            self.init_clusters()\n",
    "            # find each point's cluster\n",
    "            for point in self.data:\n",
    "                # calculating the distances from each cluster's centroid\n",
    "                dists = []\n",
    "                for centroid in self.centroids: dists.append(point.euc_dist_from(centroid))\n",
    "                # zero-base index of min distance\n",
    "                winnig_idx = np.argmin(np.array(dists))\n",
    "                # recording the clustering\n",
    "                self.clusters[f'Cluster-{winnig_idx+1}'].append(point)    \n",
    "            # check for termination croiteria\n",
    "            if prev_clusters == self.clusters: break\n",
    "            # prepare next loop\n",
    "            prev_clusters = self.clusters.copy()\n",
    "            self.update_centroids(self.clusters)\n",
    "\n",
    "    def update_centroids(self, clusters):\n",
    "        for idx, points in enumerate(clusters.values()):\n",
    "            new_centroid = Point([0]*len(self.data[0]))\n",
    "            # calculating the new centroid\n",
    "            for point in points: new_centroid.add(point)\n",
    "            new_centroid.div(len(points))\n",
    "            # saveing the new centroid\n",
    "            self.centroids[idx] = new_centroid\n",
    "\n",
    "    def print_kmeans_process(self):\n",
    "        prev_clusters, prev_centroids = {}, []\n",
    "        rcnt = 1\n",
    "        while True:\n",
    "            text = []\n",
    "            rnum = 3\n",
    "            self.init_clusters()\n",
    "            text.append(f\"Iteration-{rcnt}:\\n\")\n",
    "            # find each point's cluster\n",
    "            for point in self.data:\n",
    "                tnum, tab = 1, '\\t'\n",
    "                text.append(f\"{tab*tnum}Determining the cluster of the point {point}:\\n\")\n",
    "                # calculating the distances from each cluster's centroid\n",
    "                tnum+=1\n",
    "                dists = []\n",
    "                for centroid in self.centroids:\n",
    "                    text.append(f\"{tab*tnum}Distance from the centroid {round(centroid, rnum)}: \")\n",
    "                    sub_text = []\n",
    "                    for item in zip(point.coords, centroid.coords): sub_text.append(f\"({round(item[0], rnum)} - {round(item[1], rnum)})^2\")\n",
    "                    text.append(f\"sqrt[{' + '.join(sub_text)}] = {round(point.euc_dist_from(centroid), rnum)}\\n\")\n",
    "                    dists.append(point.euc_dist_from(centroid))\n",
    "                # zero-base index of min distance\n",
    "                winnig_idx = np.argmin(np.array(dists))\n",
    "                # recording the clustering\n",
    "                self.clusters[f'Cluster-{winnig_idx+1}'].append(point)    \n",
    "                text.append(f\"\\n{tab*tnum}Min distance is {round(dists[winnig_idx], 3)} => Point: {point} --> Cluster-{winnig_idx+1}\\n\\n\")\n",
    "            # check for termination croiteria\n",
    "            text.append(f\"{tab*tnum}Current {self.print_clusters(tnum = tnum)}\\n\\n\")\n",
    "            text.append(f\"{tab*tnum}Previous {self.print_clusters(prev_clusters, prev_centroids, tnum = tnum)}\\n\\n\")\n",
    "            text.append(f\"{tab*tnum}Are they equal? \")\n",
    "            if prev_clusters == self.clusters: \n",
    "                text.append(f\"Yes! => We stop here!\\n\\n\")\n",
    "                text.append(f\"Final {self.print_clusters(tnum = 0)}\\n\")\n",
    "                print(''.join(text))\n",
    "                break\n",
    "            text.append(f\"No! => We move to the next round!\\n\\n\")\n",
    "            # prepare next loop\n",
    "            prev_clusters, prev_centroids = self.clusters.copy(), self.centroids.copy()\n",
    "            # tnum+=1\n",
    "            text.append(f\"{tab*tnum}Update centroids: {self.print_update_centroids(self.clusters, tnum = tnum, rnum = rnum)}\")\n",
    "            rcnt += 1\n",
    "\n",
    "            print(''.join(text))\n",
    "\n",
    "    def print_update_centroids(self, clusters, tnum = 0, rnum = 3):\n",
    "        text = []\n",
    "        tab = '\\t'\n",
    "        tnum += 1\n",
    "        for idx, cluster in enumerate(clusters.items()):\n",
    "            new_centroid = Point([0]*len(self.data[0]))\n",
    "            # calculating the new centroid\n",
    "            text.append(f\"\\n{tab*tnum}{cluster[0]}:\\n\")\n",
    "            matrix = []\n",
    "            for point in cluster[1]:\n",
    "                new_centroid.add(point)\n",
    "                matrix.append(round(point, rnum))\n",
    "            new_centroid.div(len(cluster[1]))\n",
    "            self.centroids[idx] = new_centroid\n",
    "            \n",
    "            matrix = np.transpose(matrix).tolist()\n",
    "            sub_text = []\n",
    "            tnum+=1\n",
    "            for idx1, coord in enumerate(round(new_centroid, rnum)):\n",
    "                sub_text.append(f\"{tab*tnum}({' + '.join([str(item) for item in matrix[idx1]])})/{len(cluster[1])} = {coord}\\n\")\n",
    "            text.append(f\"{''.join(sub_text)}\")\n",
    "            # saveing the new centroid\n",
    "            text.append(f\"{tab*tnum}The new centroid is {round(new_centroid, rnum)}\")\n",
    "            tnum-=1\n",
    "            \n",
    "        return ''.join(text)\n",
    "\n",
    "    def print_clusters(self, clusters = None, centroids = None, tnum = 0):\n",
    "        if clusters is None: clusters = self.clusters\n",
    "        if centroids is None: centroids = self.centroids\n",
    "        tab = '\\t'\n",
    "        text = [f\"Clustering Result: \"]\n",
    "        tnum+=1\n",
    "        for cluster, centroid in zip(clusters.items(), centroids):\n",
    "            text.append(f\"\\n{tab*tnum}{cluster[0]} with Centroid {round(centroid, 3)}:\\n{tab*(tnum+1)}\")\n",
    "            sub_text = []\n",
    "            for point in cluster[1]:\n",
    "                sub_text.append(f\"{point}\")\n",
    "            text.append(', '.join(sub_text))\n",
    "        return ''.join(text) "
   ]
  },
  {
   "cell_type": "code",
   "execution_count": 25,
   "metadata": {
    "tags": []
   },
   "outputs": [
    {
     "output_type": "stream",
     "name": "stdout",
     "text": [
      "Iteration-1:\n\tDetermining the cluster of the point (3, 2):\n\t\tDistance from the centroid (20, 8): sqrt[(3 - 20)^2 + (2 - 8)^2] = 18.028\n\t\tDistance from the centroid (14, 5): sqrt[(3 - 14)^2 + (2 - 5)^2] = 11.402\n\t\tDistance from the centroid (26, 3): sqrt[(3 - 26)^2 + (2 - 3)^2] = 23.022\n\n\t\tMin distance is 11.402 => Point: (3, 2) --> Cluster-2\n\n\tDetermining the cluster of the point (27, 2):\n\t\tDistance from the centroid (20, 8): sqrt[(27 - 20)^2 + (2 - 8)^2] = 9.22\n\t\tDistance from the centroid (14, 5): sqrt[(27 - 14)^2 + (2 - 5)^2] = 13.342\n\t\tDistance from the centroid (26, 3): sqrt[(27 - 26)^2 + (2 - 3)^2] = 1.414\n\n\t\tMin distance is 1.414 => Point: (27, 2) --> Cluster-3\n\n\tDetermining the cluster of the point (20, 8):\n\t\tDistance from the centroid (20, 8): sqrt[(20 - 20)^2 + (8 - 8)^2] = 0.0\n\t\tDistance from the centroid (14, 5): sqrt[(20 - 14)^2 + (8 - 5)^2] = 6.708\n\t\tDistance from the centroid (26, 3): sqrt[(20 - 26)^2 + (8 - 3)^2] = 7.81\n\n\t\tMin distance is 0.0 => Point: (20, 8) --> Cluster-1\n\n\tDetermining the cluster of the point (25, 1):\n\t\tDistance from the centroid (20, 8): sqrt[(25 - 20)^2 + (1 - 8)^2] = 8.602\n\t\tDistance from the centroid (14, 5): sqrt[(25 - 14)^2 + (1 - 5)^2] = 11.705\n\t\tDistance from the centroid (26, 3): sqrt[(25 - 26)^2 + (1 - 3)^2] = 2.236\n\n\t\tMin distance is 2.236 => Point: (25, 1) --> Cluster-3\n\n\tDetermining the cluster of the point (12, 4):\n\t\tDistance from the centroid (20, 8): sqrt[(12 - 20)^2 + (4 - 8)^2] = 8.944\n\t\tDistance from the centroid (14, 5): sqrt[(12 - 14)^2 + (4 - 5)^2] = 2.236\n\t\tDistance from the centroid (26, 3): sqrt[(12 - 26)^2 + (4 - 3)^2] = 14.036\n\n\t\tMin distance is 2.236 => Point: (12, 4) --> Cluster-2\n\n\tDetermining the cluster of the point (21, 6):\n\t\tDistance from the centroid (20, 8): sqrt[(21 - 20)^2 + (6 - 8)^2] = 2.236\n\t\tDistance from the centroid (14, 5): sqrt[(21 - 14)^2 + (6 - 5)^2] = 7.071\n\t\tDistance from the centroid (26, 3): sqrt[(21 - 26)^2 + (6 - 3)^2] = 5.831\n\n\t\tMin distance is 2.236 => Point: (21, 6) --> Cluster-1\n\n\tDetermining the cluster of the point (18, 6):\n\t\tDistance from the centroid (20, 8): sqrt[(18 - 20)^2 + (6 - 8)^2] = 2.828\n\t\tDistance from the centroid (14, 5): sqrt[(18 - 14)^2 + (6 - 5)^2] = 4.123\n\t\tDistance from the centroid (26, 3): sqrt[(18 - 26)^2 + (6 - 3)^2] = 8.544\n\n\t\tMin distance is 2.828 => Point: (18, 6) --> Cluster-1\n\n\tDetermining the cluster of the point (14, 5):\n\t\tDistance from the centroid (20, 8): sqrt[(14 - 20)^2 + (5 - 8)^2] = 6.708\n\t\tDistance from the centroid (14, 5): sqrt[(14 - 14)^2 + (5 - 5)^2] = 0.0\n\t\tDistance from the centroid (26, 3): sqrt[(14 - 26)^2 + (5 - 3)^2] = 12.166\n\n\t\tMin distance is 0.0 => Point: (14, 5) --> Cluster-2\n\n\tDetermining the cluster of the point (16, 5):\n\t\tDistance from the centroid (20, 8): sqrt[(16 - 20)^2 + (5 - 8)^2] = 5.0\n\t\tDistance from the centroid (14, 5): sqrt[(16 - 14)^2 + (5 - 5)^2] = 2.0\n\t\tDistance from the centroid (26, 3): sqrt[(16 - 26)^2 + (5 - 3)^2] = 10.198\n\n\t\tMin distance is 2.0 => Point: (16, 5) --> Cluster-2\n\n\tDetermining the cluster of the point (24, 4):\n\t\tDistance from the centroid (20, 8): sqrt[(24 - 20)^2 + (4 - 8)^2] = 5.657\n\t\tDistance from the centroid (14, 5): sqrt[(24 - 14)^2 + (4 - 5)^2] = 10.05\n\t\tDistance from the centroid (26, 3): sqrt[(24 - 26)^2 + (4 - 3)^2] = 2.236\n\n\t\tMin distance is 2.236 => Point: (24, 4) --> Cluster-3\n\n\tDetermining the cluster of the point (21, 4):\n\t\tDistance from the centroid (20, 8): sqrt[(21 - 20)^2 + (4 - 8)^2] = 4.123\n\t\tDistance from the centroid (14, 5): sqrt[(21 - 14)^2 + (4 - 5)^2] = 7.071\n\t\tDistance from the centroid (26, 3): sqrt[(21 - 26)^2 + (4 - 3)^2] = 5.099\n\n\t\tMin distance is 4.123 => Point: (21, 4) --> Cluster-1\n\n\tDetermining the cluster of the point (26, 3):\n\t\tDistance from the centroid (20, 8): sqrt[(26 - 20)^2 + (3 - 8)^2] = 7.81\n\t\tDistance from the centroid (14, 5): sqrt[(26 - 14)^2 + (3 - 5)^2] = 12.166\n\t\tDistance from the centroid (26, 3): sqrt[(26 - 26)^2 + (3 - 3)^2] = 0.0\n\n\t\tMin distance is 0.0 => Point: (26, 3) --> Cluster-3\n\n\tDetermining the cluster of the point (3, 5):\n\t\tDistance from the centroid (20, 8): sqrt[(3 - 20)^2 + (5 - 8)^2] = 17.263\n\t\tDistance from the centroid (14, 5): sqrt[(3 - 14)^2 + (5 - 5)^2] = 11.0\n\t\tDistance from the centroid (26, 3): sqrt[(3 - 26)^2 + (5 - 3)^2] = 23.087\n\n\t\tMin distance is 11.0 => Point: (3, 5) --> Cluster-2\n\n\tDetermining the cluster of the point (1, 8):\n\t\tDistance from the centroid (20, 8): sqrt[(1 - 20)^2 + (8 - 8)^2] = 19.0\n\t\tDistance from the centroid (14, 5): sqrt[(1 - 14)^2 + (8 - 5)^2] = 13.342\n\t\tDistance from the centroid (26, 3): sqrt[(1 - 26)^2 + (8 - 3)^2] = 25.495\n\n\t\tMin distance is 13.342 => Point: (1, 8) --> Cluster-2\n\n\tDetermining the cluster of the point (1, 10):\n\t\tDistance from the centroid (20, 8): sqrt[(1 - 20)^2 + (10 - 8)^2] = 19.105\n\t\tDistance from the centroid (14, 5): sqrt[(1 - 14)^2 + (10 - 5)^2] = 13.928\n\t\tDistance from the centroid (26, 3): sqrt[(1 - 26)^2 + (10 - 3)^2] = 25.962\n\n\t\tMin distance is 13.928 => Point: (1, 10) --> Cluster-2\n\n\t\tCurrent Clustering Result: \n\t\t\tCluster-1 with Centroid (20, 8):\n\t\t\t\t(20, 8), (21, 6), (18, 6), (21, 4)\n\t\t\tCluster-2 with Centroid (14, 5):\n\t\t\t\t(3, 2), (12, 4), (14, 5), (16, 5), (3, 5), (1, 8), (1, 10)\n\t\t\tCluster-3 with Centroid (26, 3):\n\t\t\t\t(27, 2), (25, 1), (24, 4), (26, 3)\n\n\t\tPrevious Clustering Result: \n\n\t\tAre they equal? No! => We move to the next round!\n\n\t\tUpdate centroids: \n\t\t\tCluster-1:\n\t\t\t\t(20 + 21 + 18 + 21)/4 = 20.0\n\t\t\t\t(8 + 6 + 6 + 4)/4 = 6.0\n\t\t\t\tThe new centroid is (20.0, 6.0)\n\t\t\tCluster-2:\n\t\t\t\t(3 + 12 + 14 + 16 + 3 + 1 + 1)/7 = 7.143\n\t\t\t\t(2 + 4 + 5 + 5 + 5 + 8 + 10)/7 = 5.571\n\t\t\t\tThe new centroid is (7.143, 5.571)\n\t\t\tCluster-3:\n\t\t\t\t(27 + 25 + 24 + 26)/4 = 25.5\n\t\t\t\t(2 + 1 + 4 + 3)/4 = 2.5\n\t\t\t\tThe new centroid is (25.5, 2.5)\nIteration-2:\n\tDetermining the cluster of the point (3, 2):\n\t\tDistance from the centroid (20.0, 6.0): sqrt[(3 - 20.0)^2 + (2 - 6.0)^2] = 17.464\n\t\tDistance from the centroid (7.143, 5.571): sqrt[(3 - 7.143)^2 + (2 - 5.571)^2] = 5.47\n\t\tDistance from the centroid (25.5, 2.5): sqrt[(3 - 25.5)^2 + (2 - 2.5)^2] = 22.506\n\n\t\tMin distance is 5.47 => Point: (3, 2) --> Cluster-2\n\n\tDetermining the cluster of the point (27, 2):\n\t\tDistance from the centroid (20.0, 6.0): sqrt[(27 - 20.0)^2 + (2 - 6.0)^2] = 8.062\n\t\tDistance from the centroid (7.143, 5.571): sqrt[(27 - 7.143)^2 + (2 - 5.571)^2] = 20.176\n\t\tDistance from the centroid (25.5, 2.5): sqrt[(27 - 25.5)^2 + (2 - 2.5)^2] = 1.581\n\n\t\tMin distance is 1.581 => Point: (27, 2) --> Cluster-3\n\n\tDetermining the cluster of the point (20, 8):\n\t\tDistance from the centroid (20.0, 6.0): sqrt[(20 - 20.0)^2 + (8 - 6.0)^2] = 2.0\n\t\tDistance from the centroid (7.143, 5.571): sqrt[(20 - 7.143)^2 + (8 - 5.571)^2] = 13.084\n\t\tDistance from the centroid (25.5, 2.5): sqrt[(20 - 25.5)^2 + (8 - 2.5)^2] = 7.778\n\n\t\tMin distance is 2.0 => Point: (20, 8) --> Cluster-1\n\n\tDetermining the cluster of the point (25, 1):\n\t\tDistance from the centroid (20.0, 6.0): sqrt[(25 - 20.0)^2 + (1 - 6.0)^2] = 7.071\n\t\tDistance from the centroid (7.143, 5.571): sqrt[(25 - 7.143)^2 + (1 - 5.571)^2] = 18.433\n\t\tDistance from the centroid (25.5, 2.5): sqrt[(25 - 25.5)^2 + (1 - 2.5)^2] = 1.581\n\n\t\tMin distance is 1.581 => Point: (25, 1) --> Cluster-3\n\n\tDetermining the cluster of the point (12, 4):\n\t\tDistance from the centroid (20.0, 6.0): sqrt[(12 - 20.0)^2 + (4 - 6.0)^2] = 8.246\n\t\tDistance from the centroid (7.143, 5.571): sqrt[(12 - 7.143)^2 + (4 - 5.571)^2] = 5.105\n\t\tDistance from the centroid (25.5, 2.5): sqrt[(12 - 25.5)^2 + (4 - 2.5)^2] = 13.583\n\n\t\tMin distance is 5.105 => Point: (12, 4) --> Cluster-2\n\n\tDetermining the cluster of the point (21, 6):\n\t\tDistance from the centroid (20.0, 6.0): sqrt[(21 - 20.0)^2 + (6 - 6.0)^2] = 1.0\n\t\tDistance from the centroid (7.143, 5.571): sqrt[(21 - 7.143)^2 + (6 - 5.571)^2] = 13.864\n\t\tDistance from the centroid (25.5, 2.5): sqrt[(21 - 25.5)^2 + (6 - 2.5)^2] = 5.701\n\n\t\tMin distance is 1.0 => Point: (21, 6) --> Cluster-1\n\n\tDetermining the cluster of the point (18, 6):\n\t\tDistance from the centroid (20.0, 6.0): sqrt[(18 - 20.0)^2 + (6 - 6.0)^2] = 2.0\n\t\tDistance from the centroid (7.143, 5.571): sqrt[(18 - 7.143)^2 + (6 - 5.571)^2] = 10.866\n\t\tDistance from the centroid (25.5, 2.5): sqrt[(18 - 25.5)^2 + (6 - 2.5)^2] = 8.276\n\n\t\tMin distance is 2.0 => Point: (18, 6) --> Cluster-1\n\n\tDetermining the cluster of the point (14, 5):\n\t\tDistance from the centroid (20.0, 6.0): sqrt[(14 - 20.0)^2 + (5 - 6.0)^2] = 6.083\n\t\tDistance from the centroid (7.143, 5.571): sqrt[(14 - 7.143)^2 + (5 - 5.571)^2] = 6.881\n\t\tDistance from the centroid (25.5, 2.5): sqrt[(14 - 25.5)^2 + (5 - 2.5)^2] = 11.769\n\n\t\tMin distance is 6.083 => Point: (14, 5) --> Cluster-1\n\n\tDetermining the cluster of the point (16, 5):\n\t\tDistance from the centroid (20.0, 6.0): sqrt[(16 - 20.0)^2 + (5 - 6.0)^2] = 4.123\n\t\tDistance from the centroid (7.143, 5.571): sqrt[(16 - 7.143)^2 + (5 - 5.571)^2] = 8.876\n\t\tDistance from the centroid (25.5, 2.5): sqrt[(16 - 25.5)^2 + (5 - 2.5)^2] = 9.823\n\n\t\tMin distance is 4.123 => Point: (16, 5) --> Cluster-1\n\n\tDetermining the cluster of the point (24, 4):\n\t\tDistance from the centroid (20.0, 6.0): sqrt[(24 - 20.0)^2 + (4 - 6.0)^2] = 4.472\n\t\tDistance from the centroid (7.143, 5.571): sqrt[(24 - 7.143)^2 + (4 - 5.571)^2] = 16.93\n\t\tDistance from the centroid (25.5, 2.5): sqrt[(24 - 25.5)^2 + (4 - 2.5)^2] = 2.121\n\n\t\tMin distance is 2.121 => Point: (24, 4) --> Cluster-3\n\n\tDetermining the cluster of the point (21, 4):\n\t\tDistance from the centroid (20.0, 6.0): sqrt[(21 - 20.0)^2 + (4 - 6.0)^2] = 2.236\n\t\tDistance from the centroid (7.143, 5.571): sqrt[(21 - 7.143)^2 + (4 - 5.571)^2] = 13.946\n\t\tDistance from the centroid (25.5, 2.5): sqrt[(21 - 25.5)^2 + (4 - 2.5)^2] = 4.743\n\n\t\tMin distance is 2.236 => Point: (21, 4) --> Cluster-1\n\n\tDetermining the cluster of the point (26, 3):\n\t\tDistance from the centroid (20.0, 6.0): sqrt[(26 - 20.0)^2 + (3 - 6.0)^2] = 6.708\n\t\tDistance from the centroid (7.143, 5.571): sqrt[(26 - 7.143)^2 + (3 - 5.571)^2] = 19.032\n\t\tDistance from the centroid (25.5, 2.5): sqrt[(26 - 25.5)^2 + (3 - 2.5)^2] = 0.707\n\n\t\tMin distance is 0.707 => Point: (26, 3) --> Cluster-3\n\n\tDetermining the cluster of the point (3, 5):\n\t\tDistance from the centroid (20.0, 6.0): sqrt[(3 - 20.0)^2 + (5 - 6.0)^2] = 17.029\n\t\tDistance from the centroid (7.143, 5.571): sqrt[(3 - 7.143)^2 + (5 - 5.571)^2] = 4.182\n\t\tDistance from the centroid (25.5, 2.5): sqrt[(3 - 25.5)^2 + (5 - 2.5)^2] = 22.638\n\n\t\tMin distance is 4.182 => Point: (3, 5) --> Cluster-2\n\n\tDetermining the cluster of the point (1, 8):\n\t\tDistance from the centroid (20.0, 6.0): sqrt[(1 - 20.0)^2 + (8 - 6.0)^2] = 19.105\n\t\tDistance from the centroid (7.143, 5.571): sqrt[(1 - 7.143)^2 + (8 - 5.571)^2] = 6.606\n\t\tDistance from the centroid (25.5, 2.5): sqrt[(1 - 25.5)^2 + (8 - 2.5)^2] = 25.11\n\n\t\tMin distance is 6.606 => Point: (1, 8) --> Cluster-2\n\n\tDetermining the cluster of the point (1, 10):\n\t\tDistance from the centroid (20.0, 6.0): sqrt[(1 - 20.0)^2 + (10 - 6.0)^2] = 19.416\n\t\tDistance from the centroid (7.143, 5.571): sqrt[(1 - 7.143)^2 + (10 - 5.571)^2] = 7.573\n\t\tDistance from the centroid (25.5, 2.5): sqrt[(1 - 25.5)^2 + (10 - 2.5)^2] = 25.622\n\n\t\tMin distance is 7.573 => Point: (1, 10) --> Cluster-2\n\n\t\tCurrent Clustering Result: \n\t\t\tCluster-1 with Centroid (20.0, 6.0):\n\t\t\t\t(20, 8), (21, 6), (18, 6), (14, 5), (16, 5), (21, 4)\n\t\t\tCluster-2 with Centroid (7.143, 5.571):\n\t\t\t\t(3, 2), (12, 4), (3, 5), (1, 8), (1, 10)\n\t\t\tCluster-3 with Centroid (25.5, 2.5):\n\t\t\t\t(27, 2), (25, 1), (24, 4), (26, 3)\n\n\t\tPrevious Clustering Result: \n\t\t\tCluster-1 with Centroid (20, 8):\n\t\t\t\t(20, 8), (21, 6), (18, 6), (21, 4)\n\t\t\tCluster-2 with Centroid (14, 5):\n\t\t\t\t(3, 2), (12, 4), (14, 5), (16, 5), (3, 5), (1, 8), (1, 10)\n\t\t\tCluster-3 with Centroid (26, 3):\n\t\t\t\t(27, 2), (25, 1), (24, 4), (26, 3)\n\n\t\tAre they equal? No! => We move to the next round!\n\n\t\tUpdate centroids: \n\t\t\tCluster-1:\n\t\t\t\t(20 + 21 + 18 + 14 + 16 + 21)/6 = 18.333\n\t\t\t\t(8 + 6 + 6 + 5 + 5 + 4)/6 = 5.667\n\t\t\t\tThe new centroid is (18.333, 5.667)\n\t\t\tCluster-2:\n\t\t\t\t(3 + 12 + 3 + 1 + 1)/5 = 4.0\n\t\t\t\t(2 + 4 + 5 + 8 + 10)/5 = 5.8\n\t\t\t\tThe new centroid is (4.0, 5.8)\n\t\t\tCluster-3:\n\t\t\t\t(27 + 25 + 24 + 26)/4 = 25.5\n\t\t\t\t(2 + 1 + 4 + 3)/4 = 2.5\n\t\t\t\tThe new centroid is (25.5, 2.5)\nIteration-3:\n\tDetermining the cluster of the point (3, 2):\n\t\tDistance from the centroid (18.333, 5.667): sqrt[(3 - 18.333)^2 + (2 - 5.667)^2] = 15.766\n\t\tDistance from the centroid (4.0, 5.8): sqrt[(3 - 4.0)^2 + (2 - 5.8)^2] = 3.929\n\t\tDistance from the centroid (25.5, 2.5): sqrt[(3 - 25.5)^2 + (2 - 2.5)^2] = 22.506\n\n\t\tMin distance is 3.929 => Point: (3, 2) --> Cluster-2\n\n\tDetermining the cluster of the point (27, 2):\n\t\tDistance from the centroid (18.333, 5.667): sqrt[(27 - 18.333)^2 + (2 - 5.667)^2] = 9.41\n\t\tDistance from the centroid (4.0, 5.8): sqrt[(27 - 4.0)^2 + (2 - 5.8)^2] = 23.312\n\t\tDistance from the centroid (25.5, 2.5): sqrt[(27 - 25.5)^2 + (2 - 2.5)^2] = 1.581\n\n\t\tMin distance is 1.581 => Point: (27, 2) --> Cluster-3\n\n\tDetermining the cluster of the point (20, 8):\n\t\tDistance from the centroid (18.333, 5.667): sqrt[(20 - 18.333)^2 + (8 - 5.667)^2] = 2.867\n\t\tDistance from the centroid (4.0, 5.8): sqrt[(20 - 4.0)^2 + (8 - 5.8)^2] = 16.151\n\t\tDistance from the centroid (25.5, 2.5): sqrt[(20 - 25.5)^2 + (8 - 2.5)^2] = 7.778\n\n\t\tMin distance is 2.867 => Point: (20, 8) --> Cluster-1\n\n\tDetermining the cluster of the point (25, 1):\n\t\tDistance from the centroid (18.333, 5.667): sqrt[(25 - 18.333)^2 + (1 - 5.667)^2] = 8.138\n\t\tDistance from the centroid (4.0, 5.8): sqrt[(25 - 4.0)^2 + (1 - 5.8)^2] = 21.542\n\t\tDistance from the centroid (25.5, 2.5): sqrt[(25 - 25.5)^2 + (1 - 2.5)^2] = 1.581\n\n\t\tMin distance is 1.581 => Point: (25, 1) --> Cluster-3\n\n\tDetermining the cluster of the point (12, 4):\n\t\tDistance from the centroid (18.333, 5.667): sqrt[(12 - 18.333)^2 + (4 - 5.667)^2] = 6.549\n\t\tDistance from the centroid (4.0, 5.8): sqrt[(12 - 4.0)^2 + (4 - 5.8)^2] = 8.2\n\t\tDistance from the centroid (25.5, 2.5): sqrt[(12 - 25.5)^2 + (4 - 2.5)^2] = 13.583\n\n\t\tMin distance is 6.549 => Point: (12, 4) --> Cluster-1\n\n\tDetermining the cluster of the point (21, 6):\n\t\tDistance from the centroid (18.333, 5.667): sqrt[(21 - 18.333)^2 + (6 - 5.667)^2] = 2.687\n\t\tDistance from the centroid (4.0, 5.8): sqrt[(21 - 4.0)^2 + (6 - 5.8)^2] = 17.001\n\t\tDistance from the centroid (25.5, 2.5): sqrt[(21 - 25.5)^2 + (6 - 2.5)^2] = 5.701\n\n\t\tMin distance is 2.687 => Point: (21, 6) --> Cluster-1\n\n\tDetermining the cluster of the point (18, 6):\n\t\tDistance from the centroid (18.333, 5.667): sqrt[(18 - 18.333)^2 + (6 - 5.667)^2] = 0.471\n\t\tDistance from the centroid (4.0, 5.8): sqrt[(18 - 4.0)^2 + (6 - 5.8)^2] = 14.001\n\t\tDistance from the centroid (25.5, 2.5): sqrt[(18 - 25.5)^2 + (6 - 2.5)^2] = 8.276\n\n\t\tMin distance is 0.471 => Point: (18, 6) --> Cluster-1\n\n\tDetermining the cluster of the point (14, 5):\n\t\tDistance from the centroid (18.333, 5.667): sqrt[(14 - 18.333)^2 + (5 - 5.667)^2] = 4.384\n\t\tDistance from the centroid (4.0, 5.8): sqrt[(14 - 4.0)^2 + (5 - 5.8)^2] = 10.032\n\t\tDistance from the centroid (25.5, 2.5): sqrt[(14 - 25.5)^2 + (5 - 2.5)^2] = 11.769\n\n\t\tMin distance is 4.384 => Point: (14, 5) --> Cluster-1\n\n\tDetermining the cluster of the point (16, 5):\n\t\tDistance from the centroid (18.333, 5.667): sqrt[(16 - 18.333)^2 + (5 - 5.667)^2] = 2.427\n\t\tDistance from the centroid (4.0, 5.8): sqrt[(16 - 4.0)^2 + (5 - 5.8)^2] = 12.027\n\t\tDistance from the centroid (25.5, 2.5): sqrt[(16 - 25.5)^2 + (5 - 2.5)^2] = 9.823\n\n\t\tMin distance is 2.427 => Point: (16, 5) --> Cluster-1\n\n\tDetermining the cluster of the point (24, 4):\n\t\tDistance from the centroid (18.333, 5.667): sqrt[(24 - 18.333)^2 + (4 - 5.667)^2] = 5.907\n\t\tDistance from the centroid (4.0, 5.8): sqrt[(24 - 4.0)^2 + (4 - 5.8)^2] = 20.081\n\t\tDistance from the centroid (25.5, 2.5): sqrt[(24 - 25.5)^2 + (4 - 2.5)^2] = 2.121\n\n\t\tMin distance is 2.121 => Point: (24, 4) --> Cluster-3\n\n\tDetermining the cluster of the point (21, 4):\n\t\tDistance from the centroid (18.333, 5.667): sqrt[(21 - 18.333)^2 + (4 - 5.667)^2] = 3.145\n\t\tDistance from the centroid (4.0, 5.8): sqrt[(21 - 4.0)^2 + (4 - 5.8)^2] = 17.095\n\t\tDistance from the centroid (25.5, 2.5): sqrt[(21 - 25.5)^2 + (4 - 2.5)^2] = 4.743\n\n\t\tMin distance is 3.145 => Point: (21, 4) --> Cluster-1\n\n\tDetermining the cluster of the point (26, 3):\n\t\tDistance from the centroid (18.333, 5.667): sqrt[(26 - 18.333)^2 + (3 - 5.667)^2] = 8.117\n\t\tDistance from the centroid (4.0, 5.8): sqrt[(26 - 4.0)^2 + (3 - 5.8)^2] = 22.177\n\t\tDistance from the centroid (25.5, 2.5): sqrt[(26 - 25.5)^2 + (3 - 2.5)^2] = 0.707\n\n\t\tMin distance is 0.707 => Point: (26, 3) --> Cluster-3\n\n\tDetermining the cluster of the point (3, 5):\n\t\tDistance from the centroid (18.333, 5.667): sqrt[(3 - 18.333)^2 + (5 - 5.667)^2] = 15.348\n\t\tDistance from the centroid (4.0, 5.8): sqrt[(3 - 4.0)^2 + (5 - 5.8)^2] = 1.281\n\t\tDistance from the centroid (25.5, 2.5): sqrt[(3 - 25.5)^2 + (5 - 2.5)^2] = 22.638\n\n\t\tMin distance is 1.281 => Point: (3, 5) --> Cluster-2\n\n\tDetermining the cluster of the point (1, 8):\n\t\tDistance from the centroid (18.333, 5.667): sqrt[(1 - 18.333)^2 + (8 - 5.667)^2] = 17.49\n\t\tDistance from the centroid (4.0, 5.8): sqrt[(1 - 4.0)^2 + (8 - 5.8)^2] = 3.72\n\t\tDistance from the centroid (25.5, 2.5): sqrt[(1 - 25.5)^2 + (8 - 2.5)^2] = 25.11\n\n\t\tMin distance is 3.72 => Point: (1, 8) --> Cluster-2\n\n\tDetermining the cluster of the point (1, 10):\n\t\tDistance from the centroid (18.333, 5.667): sqrt[(1 - 18.333)^2 + (10 - 5.667)^2] = 17.867\n\t\tDistance from the centroid (4.0, 5.8): sqrt[(1 - 4.0)^2 + (10 - 5.8)^2] = 5.161\n\t\tDistance from the centroid (25.5, 2.5): sqrt[(1 - 25.5)^2 + (10 - 2.5)^2] = 25.622\n\n\t\tMin distance is 5.161 => Point: (1, 10) --> Cluster-2\n\n\t\tCurrent Clustering Result: \n\t\t\tCluster-1 with Centroid (18.333, 5.667):\n\t\t\t\t(20, 8), (12, 4), (21, 6), (18, 6), (14, 5), (16, 5), (21, 4)\n\t\t\tCluster-2 with Centroid (4.0, 5.8):\n\t\t\t\t(3, 2), (3, 5), (1, 8), (1, 10)\n\t\t\tCluster-3 with Centroid (25.5, 2.5):\n\t\t\t\t(27, 2), (25, 1), (24, 4), (26, 3)\n\n\t\tPrevious Clustering Result: \n\t\t\tCluster-1 with Centroid (20.0, 6.0):\n\t\t\t\t(20, 8), (21, 6), (18, 6), (14, 5), (16, 5), (21, 4)\n\t\t\tCluster-2 with Centroid (7.143, 5.571):\n\t\t\t\t(3, 2), (12, 4), (3, 5), (1, 8), (1, 10)\n\t\t\tCluster-3 with Centroid (25.5, 2.5):\n\t\t\t\t(27, 2), (25, 1), (24, 4), (26, 3)\n\n\t\tAre they equal? No! => We move to the next round!\n\n\t\tUpdate centroids: \n\t\t\tCluster-1:\n\t\t\t\t(20 + 12 + 21 + 18 + 14 + 16 + 21)/7 = 17.429\n\t\t\t\t(8 + 4 + 6 + 6 + 5 + 5 + 4)/7 = 5.429\n\t\t\t\tThe new centroid is (17.429, 5.429)\n\t\t\tCluster-2:\n\t\t\t\t(3 + 3 + 1 + 1)/4 = 2.0\n\t\t\t\t(2 + 5 + 8 + 10)/4 = 6.25\n\t\t\t\tThe new centroid is (2.0, 6.25)\n\t\t\tCluster-3:\n\t\t\t\t(27 + 25 + 24 + 26)/4 = 25.5\n\t\t\t\t(2 + 1 + 4 + 3)/4 = 2.5\n\t\t\t\tThe new centroid is (25.5, 2.5)\nIteration-4:\n\tDetermining the cluster of the point (3, 2):\n\t\tDistance from the centroid (17.429, 5.429): sqrt[(3 - 17.429)^2 + (2 - 5.429)^2] = 14.83\n\t\tDistance from the centroid (2.0, 6.25): sqrt[(3 - 2.0)^2 + (2 - 6.25)^2] = 4.366\n\t\tDistance from the centroid (25.5, 2.5): sqrt[(3 - 25.5)^2 + (2 - 2.5)^2] = 22.506\n\n\t\tMin distance is 4.366 => Point: (3, 2) --> Cluster-2\n\n\tDetermining the cluster of the point (27, 2):\n\t\tDistance from the centroid (17.429, 5.429): sqrt[(27 - 17.429)^2 + (2 - 5.429)^2] = 10.167\n\t\tDistance from the centroid (2.0, 6.25): sqrt[(27 - 2.0)^2 + (2 - 6.25)^2] = 25.359\n\t\tDistance from the centroid (25.5, 2.5): sqrt[(27 - 25.5)^2 + (2 - 2.5)^2] = 1.581\n\n\t\tMin distance is 1.581 => Point: (27, 2) --> Cluster-3\n\n\tDetermining the cluster of the point (20, 8):\n\t\tDistance from the centroid (17.429, 5.429): sqrt[(20 - 17.429)^2 + (8 - 5.429)^2] = 3.637\n\t\tDistance from the centroid (2.0, 6.25): sqrt[(20 - 2.0)^2 + (8 - 6.25)^2] = 18.085\n\t\tDistance from the centroid (25.5, 2.5): sqrt[(20 - 25.5)^2 + (8 - 2.5)^2] = 7.778\n\n\t\tMin distance is 3.637 => Point: (20, 8) --> Cluster-1\n\n\tDetermining the cluster of the point (25, 1):\n\t\tDistance from the centroid (17.429, 5.429): sqrt[(25 - 17.429)^2 + (1 - 5.429)^2] = 8.771\n\t\tDistance from the centroid (2.0, 6.25): sqrt[(25 - 2.0)^2 + (1 - 6.25)^2] = 23.592\n\t\tDistance from the centroid (25.5, 2.5): sqrt[(25 - 25.5)^2 + (1 - 2.5)^2] = 1.581\n\n\t\tMin distance is 1.581 => Point: (25, 1) --> Cluster-3\n\n\tDetermining the cluster of the point (12, 4):\n\t\tDistance from the centroid (17.429, 5.429): sqrt[(12 - 17.429)^2 + (4 - 5.429)^2] = 5.613\n\t\tDistance from the centroid (2.0, 6.25): sqrt[(12 - 2.0)^2 + (4 - 6.25)^2] = 10.25\n\t\tDistance from the centroid (25.5, 2.5): sqrt[(12 - 25.5)^2 + (4 - 2.5)^2] = 13.583\n\n\t\tMin distance is 5.613 => Point: (12, 4) --> Cluster-1\n\n\tDetermining the cluster of the point (21, 6):\n\t\tDistance from the centroid (17.429, 5.429): sqrt[(21 - 17.429)^2 + (6 - 5.429)^2] = 3.617\n\t\tDistance from the centroid (2.0, 6.25): sqrt[(21 - 2.0)^2 + (6 - 6.25)^2] = 19.002\n\t\tDistance from the centroid (25.5, 2.5): sqrt[(21 - 25.5)^2 + (6 - 2.5)^2] = 5.701\n\n\t\tMin distance is 3.617 => Point: (21, 6) --> Cluster-1\n\n\tDetermining the cluster of the point (18, 6):\n\t\tDistance from the centroid (17.429, 5.429): sqrt[(18 - 17.429)^2 + (6 - 5.429)^2] = 0.808\n\t\tDistance from the centroid (2.0, 6.25): sqrt[(18 - 2.0)^2 + (6 - 6.25)^2] = 16.002\n\t\tDistance from the centroid (25.5, 2.5): sqrt[(18 - 25.5)^2 + (6 - 2.5)^2] = 8.276\n\n\t\tMin distance is 0.808 => Point: (18, 6) --> Cluster-1\n\n\tDetermining the cluster of the point (14, 5):\n\t\tDistance from the centroid (17.429, 5.429): sqrt[(14 - 17.429)^2 + (5 - 5.429)^2] = 3.455\n\t\tDistance from the centroid (2.0, 6.25): sqrt[(14 - 2.0)^2 + (5 - 6.25)^2] = 12.065\n\t\tDistance from the centroid (25.5, 2.5): sqrt[(14 - 25.5)^2 + (5 - 2.5)^2] = 11.769\n\n\t\tMin distance is 3.455 => Point: (14, 5) --> Cluster-1\n\n\tDetermining the cluster of the point (16, 5):\n\t\tDistance from the centroid (17.429, 5.429): sqrt[(16 - 17.429)^2 + (5 - 5.429)^2] = 1.491\n\t\tDistance from the centroid (2.0, 6.25): sqrt[(16 - 2.0)^2 + (5 - 6.25)^2] = 14.056\n\t\tDistance from the centroid (25.5, 2.5): sqrt[(16 - 25.5)^2 + (5 - 2.5)^2] = 9.823\n\n\t\tMin distance is 1.491 => Point: (16, 5) --> Cluster-1\n\n\tDetermining the cluster of the point (24, 4):\n\t\tDistance from the centroid (17.429, 5.429): sqrt[(24 - 17.429)^2 + (4 - 5.429)^2] = 6.725\n\t\tDistance from the centroid (2.0, 6.25): sqrt[(24 - 2.0)^2 + (4 - 6.25)^2] = 22.115\n\t\tDistance from the centroid (25.5, 2.5): sqrt[(24 - 25.5)^2 + (4 - 2.5)^2] = 2.121\n\n\t\tMin distance is 2.121 => Point: (24, 4) --> Cluster-3\n\n\tDetermining the cluster of the point (21, 4):\n\t\tDistance from the centroid (17.429, 5.429): sqrt[(21 - 17.429)^2 + (4 - 5.429)^2] = 3.847\n\t\tDistance from the centroid (2.0, 6.25): sqrt[(21 - 2.0)^2 + (4 - 6.25)^2] = 19.133\n\t\tDistance from the centroid (25.5, 2.5): sqrt[(21 - 25.5)^2 + (4 - 2.5)^2] = 4.743\n\n\t\tMin distance is 3.847 => Point: (21, 4) --> Cluster-1\n\n\tDetermining the cluster of the point (26, 3):\n\t\tDistance from the centroid (17.429, 5.429): sqrt[(26 - 17.429)^2 + (3 - 5.429)^2] = 8.909\n\t\tDistance from the centroid (2.0, 6.25): sqrt[(26 - 2.0)^2 + (3 - 6.25)^2] = 24.219\n\t\tDistance from the centroid (25.5, 2.5): sqrt[(26 - 25.5)^2 + (3 - 2.5)^2] = 0.707\n\n\t\tMin distance is 0.707 => Point: (26, 3) --> Cluster-3\n\n\tDetermining the cluster of the point (3, 5):\n\t\tDistance from the centroid (17.429, 5.429): sqrt[(3 - 17.429)^2 + (5 - 5.429)^2] = 14.435\n\t\tDistance from the centroid (2.0, 6.25): sqrt[(3 - 2.0)^2 + (5 - 6.25)^2] = 1.601\n\t\tDistance from the centroid (25.5, 2.5): sqrt[(3 - 25.5)^2 + (5 - 2.5)^2] = 22.638\n\n\t\tMin distance is 1.601 => Point: (3, 5) --> Cluster-2\n\n\tDetermining the cluster of the point (1, 8):\n\t\tDistance from the centroid (17.429, 5.429): sqrt[(1 - 17.429)^2 + (8 - 5.429)^2] = 16.629\n\t\tDistance from the centroid (2.0, 6.25): sqrt[(1 - 2.0)^2 + (8 - 6.25)^2] = 2.016\n\t\tDistance from the centroid (25.5, 2.5): sqrt[(1 - 25.5)^2 + (8 - 2.5)^2] = 25.11\n\n\t\tMin distance is 2.016 => Point: (1, 8) --> Cluster-2\n\n\tDetermining the cluster of the point (1, 10):\n\t\tDistance from the centroid (17.429, 5.429): sqrt[(1 - 17.429)^2 + (10 - 5.429)^2] = 17.053\n\t\tDistance from the centroid (2.0, 6.25): sqrt[(1 - 2.0)^2 + (10 - 6.25)^2] = 3.881\n\t\tDistance from the centroid (25.5, 2.5): sqrt[(1 - 25.5)^2 + (10 - 2.5)^2] = 25.622\n\n\t\tMin distance is 3.881 => Point: (1, 10) --> Cluster-2\n\n\t\tCurrent Clustering Result: \n\t\t\tCluster-1 with Centroid (17.429, 5.429):\n\t\t\t\t(20, 8), (12, 4), (21, 6), (18, 6), (14, 5), (16, 5), (21, 4)\n\t\t\tCluster-2 with Centroid (2.0, 6.25):\n\t\t\t\t(3, 2), (3, 5), (1, 8), (1, 10)\n\t\t\tCluster-3 with Centroid (25.5, 2.5):\n\t\t\t\t(27, 2), (25, 1), (24, 4), (26, 3)\n\n\t\tPrevious Clustering Result: \n\t\t\tCluster-1 with Centroid (18.333, 5.667):\n\t\t\t\t(20, 8), (12, 4), (21, 6), (18, 6), (14, 5), (16, 5), (21, 4)\n\t\t\tCluster-2 with Centroid (4.0, 5.8):\n\t\t\t\t(3, 2), (3, 5), (1, 8), (1, 10)\n\t\t\tCluster-3 with Centroid (25.5, 2.5):\n\t\t\t\t(27, 2), (25, 1), (24, 4), (26, 3)\n\n\t\tAre they equal? Yes! => We stop here!\n\nFinal Clustering Result: \n\tCluster-1 with Centroid (17.429, 5.429):\n\t\t(20, 8), (12, 4), (21, 6), (18, 6), (14, 5), (16, 5), (21, 4)\n\tCluster-2 with Centroid (2.0, 6.25):\n\t\t(3, 2), (3, 5), (1, 8), (1, 10)\n\tCluster-3 with Centroid (25.5, 2.5):\n\t\t(27, 2), (25, 1), (24, 4), (26, 3)\n\n"
     ]
    }
   ],
   "source": [
    "kmeans = Kmeans(\n",
    "    data = [[3,2],[27,2],[20,8],[25,1],[12,4],[21,6],[18,6],[14,5],[16,5],[24,4],[21,4],[26,3],[3,5],[1,8],[1,10]],\n",
    "    centroids = [[20,8],[14,5],[26,3]]\n",
    ")\n",
    "# kmeans.kmeans_process()\n",
    "kmeans.print_kmeans_process()\n",
    "# kmeans.print_clusters()"
   ]
  },
  {
   "cell_type": "code",
   "execution_count": 26,
   "metadata": {},
   "outputs": [
    {
     "output_type": "stream",
     "name": "stdout",
     "text": [
      "Iteration-1:\n\tDetermining the cluster of the point (3, 2):\n\t\tDistance from the centroid (3, 2): sqrt[(3 - 3)^2 + (2 - 2)^2] = 0.0\n\t\tDistance from the centroid (16, 5): sqrt[(3 - 16)^2 + (2 - 5)^2] = 13.342\n\t\tDistance from the centroid (1, 10): sqrt[(3 - 1)^2 + (2 - 10)^2] = 8.246\n\n\t\tMin distance is 0.0 => Point: (3, 2) --> Cluster-1\n\n\tDetermining the cluster of the point (27, 2):\n\t\tDistance from the centroid (3, 2): sqrt[(27 - 3)^2 + (2 - 2)^2] = 24.0\n\t\tDistance from the centroid (16, 5): sqrt[(27 - 16)^2 + (2 - 5)^2] = 11.402\n\t\tDistance from the centroid (1, 10): sqrt[(27 - 1)^2 + (2 - 10)^2] = 27.203\n\n\t\tMin distance is 11.402 => Point: (27, 2) --> Cluster-2\n\n\tDetermining the cluster of the point (20, 8):\n\t\tDistance from the centroid (3, 2): sqrt[(20 - 3)^2 + (8 - 2)^2] = 18.028\n\t\tDistance from the centroid (16, 5): sqrt[(20 - 16)^2 + (8 - 5)^2] = 5.0\n\t\tDistance from the centroid (1, 10): sqrt[(20 - 1)^2 + (8 - 10)^2] = 19.105\n\n\t\tMin distance is 5.0 => Point: (20, 8) --> Cluster-2\n\n\tDetermining the cluster of the point (25, 1):\n\t\tDistance from the centroid (3, 2): sqrt[(25 - 3)^2 + (1 - 2)^2] = 22.023\n\t\tDistance from the centroid (16, 5): sqrt[(25 - 16)^2 + (1 - 5)^2] = 9.849\n\t\tDistance from the centroid (1, 10): sqrt[(25 - 1)^2 + (1 - 10)^2] = 25.632\n\n\t\tMin distance is 9.849 => Point: (25, 1) --> Cluster-2\n\n\tDetermining the cluster of the point (12, 4):\n\t\tDistance from the centroid (3, 2): sqrt[(12 - 3)^2 + (4 - 2)^2] = 9.22\n\t\tDistance from the centroid (16, 5): sqrt[(12 - 16)^2 + (4 - 5)^2] = 4.123\n\t\tDistance from the centroid (1, 10): sqrt[(12 - 1)^2 + (4 - 10)^2] = 12.53\n\n\t\tMin distance is 4.123 => Point: (12, 4) --> Cluster-2\n\n\tDetermining the cluster of the point (21, 6):\n\t\tDistance from the centroid (3, 2): sqrt[(21 - 3)^2 + (6 - 2)^2] = 18.439\n\t\tDistance from the centroid (16, 5): sqrt[(21 - 16)^2 + (6 - 5)^2] = 5.099\n\t\tDistance from the centroid (1, 10): sqrt[(21 - 1)^2 + (6 - 10)^2] = 20.396\n\n\t\tMin distance is 5.099 => Point: (21, 6) --> Cluster-2\n\n\tDetermining the cluster of the point (18, 6):\n\t\tDistance from the centroid (3, 2): sqrt[(18 - 3)^2 + (6 - 2)^2] = 15.524\n\t\tDistance from the centroid (16, 5): sqrt[(18 - 16)^2 + (6 - 5)^2] = 2.236\n\t\tDistance from the centroid (1, 10): sqrt[(18 - 1)^2 + (6 - 10)^2] = 17.464\n\n\t\tMin distance is 2.236 => Point: (18, 6) --> Cluster-2\n\n\tDetermining the cluster of the point (14, 5):\n\t\tDistance from the centroid (3, 2): sqrt[(14 - 3)^2 + (5 - 2)^2] = 11.402\n\t\tDistance from the centroid (16, 5): sqrt[(14 - 16)^2 + (5 - 5)^2] = 2.0\n\t\tDistance from the centroid (1, 10): sqrt[(14 - 1)^2 + (5 - 10)^2] = 13.928\n\n\t\tMin distance is 2.0 => Point: (14, 5) --> Cluster-2\n\n\tDetermining the cluster of the point (16, 5):\n\t\tDistance from the centroid (3, 2): sqrt[(16 - 3)^2 + (5 - 2)^2] = 13.342\n\t\tDistance from the centroid (16, 5): sqrt[(16 - 16)^2 + (5 - 5)^2] = 0.0\n\t\tDistance from the centroid (1, 10): sqrt[(16 - 1)^2 + (5 - 10)^2] = 15.811\n\n\t\tMin distance is 0.0 => Point: (16, 5) --> Cluster-2\n\n\tDetermining the cluster of the point (24, 4):\n\t\tDistance from the centroid (3, 2): sqrt[(24 - 3)^2 + (4 - 2)^2] = 21.095\n\t\tDistance from the centroid (16, 5): sqrt[(24 - 16)^2 + (4 - 5)^2] = 8.062\n\t\tDistance from the centroid (1, 10): sqrt[(24 - 1)^2 + (4 - 10)^2] = 23.77\n\n\t\tMin distance is 8.062 => Point: (24, 4) --> Cluster-2\n\n\tDetermining the cluster of the point (21, 4):\n\t\tDistance from the centroid (3, 2): sqrt[(21 - 3)^2 + (4 - 2)^2] = 18.111\n\t\tDistance from the centroid (16, 5): sqrt[(21 - 16)^2 + (4 - 5)^2] = 5.099\n\t\tDistance from the centroid (1, 10): sqrt[(21 - 1)^2 + (4 - 10)^2] = 20.881\n\n\t\tMin distance is 5.099 => Point: (21, 4) --> Cluster-2\n\n\tDetermining the cluster of the point (26, 3):\n\t\tDistance from the centroid (3, 2): sqrt[(26 - 3)^2 + (3 - 2)^2] = 23.022\n\t\tDistance from the centroid (16, 5): sqrt[(26 - 16)^2 + (3 - 5)^2] = 10.198\n\t\tDistance from the centroid (1, 10): sqrt[(26 - 1)^2 + (3 - 10)^2] = 25.962\n\n\t\tMin distance is 10.198 => Point: (26, 3) --> Cluster-2\n\n\tDetermining the cluster of the point (3, 5):\n\t\tDistance from the centroid (3, 2): sqrt[(3 - 3)^2 + (5 - 2)^2] = 3.0\n\t\tDistance from the centroid (16, 5): sqrt[(3 - 16)^2 + (5 - 5)^2] = 13.0\n\t\tDistance from the centroid (1, 10): sqrt[(3 - 1)^2 + (5 - 10)^2] = 5.385\n\n\t\tMin distance is 3.0 => Point: (3, 5) --> Cluster-1\n\n\tDetermining the cluster of the point (1, 8):\n\t\tDistance from the centroid (3, 2): sqrt[(1 - 3)^2 + (8 - 2)^2] = 6.325\n\t\tDistance from the centroid (16, 5): sqrt[(1 - 16)^2 + (8 - 5)^2] = 15.297\n\t\tDistance from the centroid (1, 10): sqrt[(1 - 1)^2 + (8 - 10)^2] = 2.0\n\n\t\tMin distance is 2.0 => Point: (1, 8) --> Cluster-3\n\n\tDetermining the cluster of the point (1, 10):\n\t\tDistance from the centroid (3, 2): sqrt[(1 - 3)^2 + (10 - 2)^2] = 8.246\n\t\tDistance from the centroid (16, 5): sqrt[(1 - 16)^2 + (10 - 5)^2] = 15.811\n\t\tDistance from the centroid (1, 10): sqrt[(1 - 1)^2 + (10 - 10)^2] = 0.0\n\n\t\tMin distance is 0.0 => Point: (1, 10) --> Cluster-3\n\n\t\tCurrent Clustering Result: \n\t\t\tCluster-1 with Centroid (3, 2):\n\t\t\t\t(3, 2), (3, 5)\n\t\t\tCluster-2 with Centroid (16, 5):\n\t\t\t\t(27, 2), (20, 8), (25, 1), (12, 4), (21, 6), (18, 6), (14, 5), (16, 5), (24, 4), (21, 4), (26, 3)\n\t\t\tCluster-3 with Centroid (1, 10):\n\t\t\t\t(1, 8), (1, 10)\n\n\t\tPrevious Clustering Result: \n\n\t\tAre they equal? No! => We move to the next round!\n\n\t\tUpdate centroids: \n\t\t\tCluster-1:\n\t\t\t\t(3 + 3)/2 = 3.0\n\t\t\t\t(2 + 5)/2 = 3.5\n\t\t\t\tThe new centroid is (3.0, 3.5)\n\t\t\tCluster-2:\n\t\t\t\t(27 + 20 + 25 + 12 + 21 + 18 + 14 + 16 + 24 + 21 + 26)/11 = 20.364\n\t\t\t\t(2 + 8 + 1 + 4 + 6 + 6 + 5 + 5 + 4 + 4 + 3)/11 = 4.364\n\t\t\t\tThe new centroid is (20.364, 4.364)\n\t\t\tCluster-3:\n\t\t\t\t(1 + 1)/2 = 1.0\n\t\t\t\t(8 + 10)/2 = 9.0\n\t\t\t\tThe new centroid is (1.0, 9.0)\nIteration-2:\n\tDetermining the cluster of the point (3, 2):\n\t\tDistance from the centroid (3.0, 3.5): sqrt[(3 - 3.0)^2 + (2 - 3.5)^2] = 1.5\n\t\tDistance from the centroid (20.364, 4.364): sqrt[(3 - 20.364)^2 + (2 - 4.364)^2] = 17.524\n\t\tDistance from the centroid (1.0, 9.0): sqrt[(3 - 1.0)^2 + (2 - 9.0)^2] = 7.28\n\n\t\tMin distance is 1.5 => Point: (3, 2) --> Cluster-1\n\n\tDetermining the cluster of the point (27, 2):\n\t\tDistance from the centroid (3.0, 3.5): sqrt[(27 - 3.0)^2 + (2 - 3.5)^2] = 24.047\n\t\tDistance from the centroid (20.364, 4.364): sqrt[(27 - 20.364)^2 + (2 - 4.364)^2] = 7.045\n\t\tDistance from the centroid (1.0, 9.0): sqrt[(27 - 1.0)^2 + (2 - 9.0)^2] = 26.926\n\n\t\tMin distance is 7.045 => Point: (27, 2) --> Cluster-2\n\n\tDetermining the cluster of the point (20, 8):\n\t\tDistance from the centroid (3.0, 3.5): sqrt[(20 - 3.0)^2 + (8 - 3.5)^2] = 17.586\n\t\tDistance from the centroid (20.364, 4.364): sqrt[(20 - 20.364)^2 + (8 - 4.364)^2] = 3.655\n\t\tDistance from the centroid (1.0, 9.0): sqrt[(20 - 1.0)^2 + (8 - 9.0)^2] = 19.026\n\n\t\tMin distance is 3.655 => Point: (20, 8) --> Cluster-2\n\n\tDetermining the cluster of the point (25, 1):\n\t\tDistance from the centroid (3.0, 3.5): sqrt[(25 - 3.0)^2 + (1 - 3.5)^2] = 22.142\n\t\tDistance from the centroid (20.364, 4.364): sqrt[(25 - 20.364)^2 + (1 - 4.364)^2] = 5.728\n\t\tDistance from the centroid (1.0, 9.0): sqrt[(25 - 1.0)^2 + (1 - 9.0)^2] = 25.298\n\n\t\tMin distance is 5.728 => Point: (25, 1) --> Cluster-2\n\n\tDetermining the cluster of the point (12, 4):\n\t\tDistance from the centroid (3.0, 3.5): sqrt[(12 - 3.0)^2 + (4 - 3.5)^2] = 9.014\n\t\tDistance from the centroid (20.364, 4.364): sqrt[(12 - 20.364)^2 + (4 - 4.364)^2] = 8.372\n\t\tDistance from the centroid (1.0, 9.0): sqrt[(12 - 1.0)^2 + (4 - 9.0)^2] = 12.083\n\n\t\tMin distance is 8.372 => Point: (12, 4) --> Cluster-2\n\n\tDetermining the cluster of the point (21, 6):\n\t\tDistance from the centroid (3.0, 3.5): sqrt[(21 - 3.0)^2 + (6 - 3.5)^2] = 18.173\n\t\tDistance from the centroid (20.364, 4.364): sqrt[(21 - 20.364)^2 + (6 - 4.364)^2] = 1.756\n\t\tDistance from the centroid (1.0, 9.0): sqrt[(21 - 1.0)^2 + (6 - 9.0)^2] = 20.224\n\n\t\tMin distance is 1.756 => Point: (21, 6) --> Cluster-2\n\n\tDetermining the cluster of the point (18, 6):\n\t\tDistance from the centroid (3.0, 3.5): sqrt[(18 - 3.0)^2 + (6 - 3.5)^2] = 15.207\n\t\tDistance from the centroid (20.364, 4.364): sqrt[(18 - 20.364)^2 + (6 - 4.364)^2] = 2.875\n\t\tDistance from the centroid (1.0, 9.0): sqrt[(18 - 1.0)^2 + (6 - 9.0)^2] = 17.263\n\n\t\tMin distance is 2.875 => Point: (18, 6) --> Cluster-2\n\n\tDetermining the cluster of the point (14, 5):\n\t\tDistance from the centroid (3.0, 3.5): sqrt[(14 - 3.0)^2 + (5 - 3.5)^2] = 11.102\n\t\tDistance from the centroid (20.364, 4.364): sqrt[(14 - 20.364)^2 + (5 - 4.364)^2] = 6.395\n\t\tDistance from the centroid (1.0, 9.0): sqrt[(14 - 1.0)^2 + (5 - 9.0)^2] = 13.601\n\n\t\tMin distance is 6.395 => Point: (14, 5) --> Cluster-2\n\n\tDetermining the cluster of the point (16, 5):\n\t\tDistance from the centroid (3.0, 3.5): sqrt[(16 - 3.0)^2 + (5 - 3.5)^2] = 13.086\n\t\tDistance from the centroid (20.364, 4.364): sqrt[(16 - 20.364)^2 + (5 - 4.364)^2] = 4.41\n\t\tDistance from the centroid (1.0, 9.0): sqrt[(16 - 1.0)^2 + (5 - 9.0)^2] = 15.524\n\n\t\tMin distance is 4.41 => Point: (16, 5) --> Cluster-2\n\n\tDetermining the cluster of the point (24, 4):\n\t\tDistance from the centroid (3.0, 3.5): sqrt[(24 - 3.0)^2 + (4 - 3.5)^2] = 21.006\n\t\tDistance from the centroid (20.364, 4.364): sqrt[(24 - 20.364)^2 + (4 - 4.364)^2] = 3.655\n\t\tDistance from the centroid (1.0, 9.0): sqrt[(24 - 1.0)^2 + (4 - 9.0)^2] = 23.537\n\n\t\tMin distance is 3.655 => Point: (24, 4) --> Cluster-2\n\n\tDetermining the cluster of the point (21, 4):\n\t\tDistance from the centroid (3.0, 3.5): sqrt[(21 - 3.0)^2 + (4 - 3.5)^2] = 18.007\n\t\tDistance from the centroid (20.364, 4.364): sqrt[(21 - 20.364)^2 + (4 - 4.364)^2] = 0.733\n\t\tDistance from the centroid (1.0, 9.0): sqrt[(21 - 1.0)^2 + (4 - 9.0)^2] = 20.616\n\n\t\tMin distance is 0.733 => Point: (21, 4) --> Cluster-2\n\n\tDetermining the cluster of the point (26, 3):\n\t\tDistance from the centroid (3.0, 3.5): sqrt[(26 - 3.0)^2 + (3 - 3.5)^2] = 23.005\n\t\tDistance from the centroid (20.364, 4.364): sqrt[(26 - 20.364)^2 + (3 - 4.364)^2] = 5.799\n\t\tDistance from the centroid (1.0, 9.0): sqrt[(26 - 1.0)^2 + (3 - 9.0)^2] = 25.71\n\n\t\tMin distance is 5.799 => Point: (26, 3) --> Cluster-2\n\n\tDetermining the cluster of the point (3, 5):\n\t\tDistance from the centroid (3.0, 3.5): sqrt[(3 - 3.0)^2 + (5 - 3.5)^2] = 1.5\n\t\tDistance from the centroid (20.364, 4.364): sqrt[(3 - 20.364)^2 + (5 - 4.364)^2] = 17.375\n\t\tDistance from the centroid (1.0, 9.0): sqrt[(3 - 1.0)^2 + (5 - 9.0)^2] = 4.472\n\n\t\tMin distance is 1.5 => Point: (3, 5) --> Cluster-1\n\n\tDetermining the cluster of the point (1, 8):\n\t\tDistance from the centroid (3.0, 3.5): sqrt[(1 - 3.0)^2 + (8 - 3.5)^2] = 4.924\n\t\tDistance from the centroid (20.364, 4.364): sqrt[(1 - 20.364)^2 + (8 - 4.364)^2] = 19.702\n\t\tDistance from the centroid (1.0, 9.0): sqrt[(1 - 1.0)^2 + (8 - 9.0)^2] = 1.0\n\n\t\tMin distance is 1.0 => Point: (1, 8) --> Cluster-3\n\n\tDetermining the cluster of the point (1, 10):\n\t\tDistance from the centroid (3.0, 3.5): sqrt[(1 - 3.0)^2 + (10 - 3.5)^2] = 6.801\n\t\tDistance from the centroid (20.364, 4.364): sqrt[(1 - 20.364)^2 + (10 - 4.364)^2] = 20.167\n\t\tDistance from the centroid (1.0, 9.0): sqrt[(1 - 1.0)^2 + (10 - 9.0)^2] = 1.0\n\n\t\tMin distance is 1.0 => Point: (1, 10) --> Cluster-3\n\n\t\tCurrent Clustering Result: \n\t\t\tCluster-1 with Centroid (3.0, 3.5):\n\t\t\t\t(3, 2), (3, 5)\n\t\t\tCluster-2 with Centroid (20.364, 4.364):\n\t\t\t\t(27, 2), (20, 8), (25, 1), (12, 4), (21, 6), (18, 6), (14, 5), (16, 5), (24, 4), (21, 4), (26, 3)\n\t\t\tCluster-3 with Centroid (1.0, 9.0):\n\t\t\t\t(1, 8), (1, 10)\n\n\t\tPrevious Clustering Result: \n\t\t\tCluster-1 with Centroid (3, 2):\n\t\t\t\t(3, 2), (3, 5)\n\t\t\tCluster-2 with Centroid (16, 5):\n\t\t\t\t(27, 2), (20, 8), (25, 1), (12, 4), (21, 6), (18, 6), (14, 5), (16, 5), (24, 4), (21, 4), (26, 3)\n\t\t\tCluster-3 with Centroid (1, 10):\n\t\t\t\t(1, 8), (1, 10)\n\n\t\tAre they equal? Yes! => We stop here!\n\nFinal Clustering Result: \n\tCluster-1 with Centroid (3.0, 3.5):\n\t\t(3, 2), (3, 5)\n\tCluster-2 with Centroid (20.364, 4.364):\n\t\t(27, 2), (20, 8), (25, 1), (12, 4), (21, 6), (18, 6), (14, 5), (16, 5), (24, 4), (21, 4), (26, 3)\n\tCluster-3 with Centroid (1.0, 9.0):\n\t\t(1, 8), (1, 10)\n\n"
     ]
    }
   ],
   "source": [
    "kmeans = Kmeans(\n",
    "    data = [[3,2],[27,2],[20,8],[25,1],[12,4],[21,6],[18,6],[14,5],[16,5],[24,4],[21,4],[26,3],[3,5],[1,8],[1,10]],\n",
    "    centroids = [[3,2],[16,5],[1,10]]\n",
    ")\n",
    "# kmeans.kmeans_process()\n",
    "kmeans.print_kmeans_process()\n",
    "# kmeans.print_clusters()"
   ]
  },
  {
   "cell_type": "code",
   "execution_count": null,
   "metadata": {},
   "outputs": [],
   "source": []
  }
 ]
}